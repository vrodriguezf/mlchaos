{
 "cells": [
  {
   "cell_type": "code",
   "execution_count": null,
   "metadata": {},
   "outputs": [
    {
     "name": "stdout",
     "output_type": "stream",
     "text": [
      "Cells will be exported to mlchaos.experiments,\n",
      "unless a different module is specified after an export flag: `%nbdev_export special.module`\n"
     ]
    }
   ],
   "source": [
    "from nbdev import *\n",
    "%nbdev_default_export experiments"
   ]
  },
  {
   "cell_type": "markdown",
   "metadata": {},
   "source": [
    "# Experiments\n",
    "\n",
    "> Experiments to be run as CLI scripts (too long to run in a Jupyter session)"
   ]
  },
  {
   "cell_type": "code",
   "execution_count": null,
   "metadata": {},
   "outputs": [],
   "source": [
    "%nbdev_export\n",
    "import papermill as pm\n",
    "import numpy as np\n",
    "from fastscript import *\n",
    "from fastcore.utils import Path"
   ]
  },
  {
   "cell_type": "markdown",
   "metadata": {},
   "source": [
    "### Analyse the impact of the number of points on the performance of the motion classifier"
   ]
  },
  {
   "cell_type": "markdown",
   "metadata": {},
   "source": [
    "The results will be logged in a run group in wandb, and from there the visualizations will be made"
   ]
  },
  {
   "cell_type": "code",
   "execution_count": null,
   "metadata": {},
   "outputs": [],
   "source": [
    "%nbdev_export experiments\n",
    "@call_parse\n",
    "def x_sequence_length(min_rp:Param(\"Minimum resampling period\", int)=1,\n",
    "                      max_rp:Param(\"Maximum resampling period\", int)=10,\n",
    "                      rep_times:Param(\"Number of times ru run per rp\", int)=10,\n",
    "                      nbs_folder:Param(\"Notebook folder path\", str)='.'):\n",
    "    for x in range(min_rp, max_rp+1):\n",
    "        for _ in range(rep_times):\n",
    "            pm.execute_notebook(input_path=f'{Path(nbs_folder)}/_motion_classification_time_series.ipynb',\n",
    "                                output_path='--',\n",
    "                                parameters=dict(\n",
    "                                    use_wandb=True,\n",
    "                                    wandb_group='x_sequence_length',\n",
    "                                    resampling_period=x\n",
    "                                ))"
   ]
  },
  {
   "cell_type": "code",
   "execution_count": null,
   "metadata": {},
   "outputs": [],
   "source": [
    "%%capture\n",
    "x_sequence_length(max_rp=2, rep_times=1)"
   ]
  },
  {
   "cell_type": "markdown",
   "metadata": {},
   "source": [
    "### Analyse how the inclusion of more and more data helps to predict better the motions of the next epsilon"
   ]
  },
  {
   "cell_type": "code",
   "execution_count": null,
   "metadata": {},
   "outputs": [],
   "source": [
    "%nbdev_export experiments\n",
    "@call_parse\n",
    "def x_next_epsilon(nbs_folder:Param(\"Notebook folder path\", str)='.'):\n",
    "    base_path = Path.home()\n",
    "    ds_path = base_path/'data/fli_rotnum/model_1'\n",
    "    fnames = [\n",
    "        (ds_path/'eps=0.021/Poincare.plt', ds_path/'eps=0.021/index_fli_freqana.plt'),\n",
    "        (ds_path/'eps=0.022/Poincare.plt', ds_path/'eps=0.022/index_fli_freqana.plt'), \n",
    "        (ds_path/'eps=0.023/Poincare.plt', ds_path/'eps=0.023/index_fli_freqana.plt'), \n",
    "        (ds_path/'eps=0.024/Poincare.plt', ds_path/'eps=0.024/index_fli_freqana.plt'), \n",
    "        (ds_path/'eps=0.025/Poincare.plt', ds_path/'eps=0.025/index_fli_freqana.plt'), \n",
    "    ]\n",
    "    for i in range(2, len(fnames)+1):\n",
    "        x_input = fnames[:i]\n",
    "        val_dataset = x_input[-1][0].parent.name\n",
    "        pm.execute_notebook(input_path=f'{Path(nbs_folder)}/_motion_classification_time_series.ipynb',\n",
    "                            output_path='--',\n",
    "                            parameters=dict(\n",
    "                                use_wandb=True,\n",
    "                                wandb_group='x_next_epsilon',\n",
    "                                #fnames=x_input,\n",
    "                                val_dataset = val_dataset\n",
    "                            ))"
   ]
  },
  {
   "cell_type": "markdown",
   "metadata": {},
   "source": [
    "## Analyse the effect of the labelling method"
   ]
  },
  {
   "cell_type": "code",
   "execution_count": null,
   "metadata": {},
   "outputs": [],
   "source": [
    "%nbdev_export experiments\n",
    "@call_parse\n",
    "def x_labelling_method(rep_times:Param(\"Number of times to run per experiment\", int)=10,\n",
    "                      nbs_folder:Param(\"Notebook folder path\", str)='.'):\n",
    "    for lbl_method in ['fli', 'freq_ana', 'birkhoff_avg']:\n",
    "        for _ in range(rep_times):\n",
    "            pm.execute_notebook(input_path=f'{Path(nbs_folder)}/_motion_classification_time_series.ipynb',\n",
    "                                output_path='--',\n",
    "                                parameters=dict(\n",
    "                                    use_wandb=True,\n",
    "                                    wandb_group='x_labelling_method',\n",
    "                                    labelling_method=lbl_method\n",
    "                                ))"
   ]
  }
 ],
 "metadata": {
  "kernelspec": {
   "display_name": "Python 3",
   "language": "python",
   "name": "python3"
  }
 },
 "nbformat": 4,
 "nbformat_minor": 4
}
