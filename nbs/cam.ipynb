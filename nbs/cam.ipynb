{
 "cells": [
  {
   "cell_type": "code",
   "execution_count": null,
   "metadata": {},
   "outputs": [],
   "source": [
    "#default_exp cam"
   ]
  },
  {
   "cell_type": "markdown",
   "metadata": {},
   "source": [
    "# CAM\n",
    "\n",
    "> Class activation maps for time series motions. The methods coded here are an adaptation of [the CAM methods from the ai-fast-track/timeseries library.](https://github.com/ai-fast-track/timeseries/blob/master/timeseries/cam.py)"
   ]
  },
  {
   "cell_type": "code",
   "execution_count": null,
   "metadata": {},
   "outputs": [],
   "source": [
    "#export\n",
    "from timeseries.all import *\n",
    "from fastai.imports import *\n",
    "from fastai.basics import *\n",
    "from matplotlib.collections import LineCollection\n",
    "from matplotlib.colors import ListedColormap, BoundaryNorm\n",
    "import matplotlib.cm as cm"
   ]
  },
  {
   "cell_type": "code",
   "execution_count": null,
   "metadata": {},
   "outputs": [],
   "source": [
    "#export\n",
    "@delegates(LineCollection.__init__)\n",
    "def show_cam_motion(batch, model, layer=5, func_cam=cam_acts, reduction='mean',force_scale=True, scale_range=(0, 1),                        cmap=\"Spectral_r\", linewidth=4, linestyles='solid', alpha=1.0, scatter=False, i2o=noop,\n",
    "                        figsize=(13, 4), confidence=None, savefig=None, ylim=None, **kwargs):\n",
    "    'Compute CAM using `func_cam` function, and plot a batch of colored time series `tseries`. The colors correspond to the        scaled CAM values. Each time series is plotted on a separate figure'\n",
    "\n",
    "    # batch use-cases\n",
    "    # batch can be either:\n",
    "    #   - a real batch meaning a tuple of (a list of tseries, a list of y)\n",
    "    #   - a list of tuples (tseries, y) that we build from a dataset (a dataset item is a tuple of (tseries, y)\n",
    "    #   - a single dataset item meaning a a tuple of (tseries, y)\n",
    "\n",
    "    # print(f'Confidence: {confidence}')\n",
    "    if figsize==None: figsize=(13,4)\n",
    "    if not isinstance(batch, list):\n",
    "        if len(batch[0].shape)==3:   # a real batch meaning a tuple of (a list of tseries, a list of y)\n",
    "            b = itemize(batch)\n",
    "        elif len(batch[0].shape)==2: # a single dataset item meaning a a tuple of (tseries, y)m\n",
    "            b = [batch]\n",
    "    else:\n",
    "        b = batch # a list of tuples (tseries, y) that we build from a dataset (a dataset item is a tuple of (tseries, y)ch\n",
    "    n_samples = len(b)\n",
    "\n",
    "    # b = _listify(b)\n",
    "    tseries_list, acts_list, y_list, ts_min_max, acts_min_max = CAM_batch_compute(b, model, layer=layer, func_cam=func_cam,                                              reduction=reduction, force_scale=force_scale, scale_range=scale_range, **kwargs)\n",
    "    levels = 254\n",
    "    cmap = plt.get_cmap(cmap, lut=levels) #seismic\n",
    "    if force_scale==True:\n",
    "        colors = cmap(np.linspace(scale_range[0], scale_range[1], levels))\n",
    "        norm = BoundaryNorm(np.linspace(scale_range[0], scale_range[1], levels+1), len(colors))\n",
    "    else:\n",
    "        colors = cmap(np.linspace(acts_min_max[0], acts_min_max[1], levels))\n",
    "        norm = BoundaryNorm(np.linspace(acts_min_max[0], acts_min_max[1], levels+1), len(colors))\n",
    "\n",
    "\n",
    "    # Grid\n",
    "    nrows = int(math.sqrt(n_samples))\n",
    "    ncols = int(np.ceil(n_samples/nrows))\n",
    "    fig,axs = subplots(nrows, ncols, figsize=figsize, **kwargs)\n",
    "    axs = [ax if i<n_samples else ax.set_axis_off() for i, ax in enumerate(axs.flatten())][:n_samples]\n",
    "    fig.tight_layout(pad=3.0)\n",
    "\n",
    "    # fig, axs = get_grid(4, return_fig=True, figsize=(10, 8))\n",
    "    # Plot activation `acts` (superimposed on the original time series `tseries)\n",
    "    lc_list=[]\n",
    "    title_list=[]\n",
    "    idx = 1\n",
    "    for tseries, acts, y, ax in zip(tseries_list, acts_list, y_list, axs):\n",
    "        #plt.figure(figsize=figsize)\n",
    "        #plt.subplot(1, n_samples, idx)\n",
    "        ax.scatter(tseries[0], tseries[1], cmap=cmap, c = acts)\n",
    "        title = i2o(y)\n",
    "        if not hasattr(func_cam, 'name'): func_cam.name = str(func_cam)\n",
    "        title =  f'[{title}] - {func_cam.name} - {reduction}'\n",
    "        if confidence!=None: title = f'{title}\\n {confidence[idx-1]}'\n",
    "        ax.set(xlim=[0, 360])\n",
    "        if ylim is not None: ax.set(ylim=ylim)\n",
    "        #plt.ylim(ts_min_max[0]*1.2, ts_min_max[1]*1.2)\n",
    "        ax.set_title(title)\n",
    "        scalarmappaple = cm.ScalarMappable(norm=norm, cmap=cmap)\n",
    "        scalarmappaple.set_array(acts)\n",
    "        fig.colorbar(scalarmappaple, ax=ax)\n",
    "        #plt.show()\n",
    "        idx += 1\n",
    "\n",
    "    if savefig!=None: plt.savefig(savefig)\n",
    "\n",
    "    return fig"
   ]
  }
 ],
 "metadata": {
  "kernelspec": {
   "display_name": "Python 3",
   "language": "python",
   "name": "python3"
  }
 },
 "nbformat": 4,
 "nbformat_minor": 4
}
