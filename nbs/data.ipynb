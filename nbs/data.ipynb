{
 "cells": [
  {
   "cell_type": "code",
   "execution_count": null,
   "metadata": {},
   "outputs": [],
   "source": [
    "#hide\n",
    "import sys\n",
    "sys.path.append(\"..\")\n",
    "%load_ext autoreload\n",
    "%autoreload 2"
   ]
  },
  {
   "cell_type": "code",
   "execution_count": null,
   "metadata": {},
   "outputs": [],
   "source": [
    "#default_exp data"
   ]
  },
  {
   "cell_type": "markdown",
   "metadata": {},
   "source": [
    "# Data\n",
    "\n",
    "> Methods to load time series data from motion files"
   ]
  },
  {
   "cell_type": "code",
   "execution_count": null,
   "metadata": {},
   "outputs": [],
   "source": [
    "#export\n",
    "from fastcore.all import *\n",
    "from timeseries.all import *\n",
    "import pandas as pd\n",
    "import numpy as np\n",
    "from mlchaos.utils import df_slicer\n",
    "import seaborn as sns"
   ]
  },
  {
   "cell_type": "code",
   "execution_count": null,
   "metadata": {},
   "outputs": [],
   "source": [
    "base_path = Path.home()"
   ]
  },
  {
   "cell_type": "markdown",
   "metadata": {},
   "source": [
    "## Motions defined in files Poincare.plt and index.plt"
   ]
  },
  {
   "cell_type": "markdown",
   "metadata": {},
   "source": [
    "We call an `item` as a pair `(fname_poincare, fname_index)`. From the Poincare file we get the data of the time series (the x or independent variable) and from the index file we get the y or dependent variable"
   ]
  },
  {
   "cell_type": "markdown",
   "metadata": {},
   "source": [
    "### Load motion data from poincare file (independent variables)"
   ]
  },
  {
   "cell_type": "code",
   "execution_count": null,
   "metadata": {},
   "outputs": [],
   "source": [
    "#export\n",
    "def load_poincare_maps(fname):\n",
    "    \"Load the data from a Poincare map.\\\n",
    "    Returns a numpy array with a shape (n_orbits, 2, sequence_length). \\\n",
    "    The time column is removed from the data, since it is always multiples of 2*pi\"\n",
    "    df = pd.read_table(fname, sep='\\s+', names=['time', 'x', 'y'])\n",
    "    seq_length = set(df.time).__len__()\n",
    "    df = df.drop('time', axis=1)\n",
    "    nparr = df_slicer(df, w=seq_length, s=seq_length)\n",
    "    return nparr.transpose([0, 2, 1])"
   ]
  },
  {
   "cell_type": "code",
   "execution_count": null,
   "metadata": {},
   "outputs": [],
   "source": [
    "fname = base_path/'data/fli_rotnum/model_1/eps=0.01/Poincare.plt'\n",
    "foo = load_poincare_maps(fname)\n",
    "bar = pd.read_table(fname, sep='\\s+', names=['time', 'x', 'y'])"
   ]
  },
  {
   "cell_type": "code",
   "execution_count": null,
   "metadata": {},
   "outputs": [],
   "source": [
    "seq_len = set(bar.time).__len__()\n",
    "test_eq(foo.shape[2], seq_len)"
   ]
  },
  {
   "cell_type": "code",
   "execution_count": null,
   "metadata": {},
   "outputs": [],
   "source": [
    "test_eq(foo.shape[0], bar.shape[0]/seq_len)"
   ]
  },
  {
   "cell_type": "code",
   "execution_count": null,
   "metadata": {},
   "outputs": [],
   "source": [
    "test_eq(foo[0,:,:], bar.drop('time', axis=1)[:seq_len].values.transpose(1,0))"
   ]
  },
  {
   "cell_type": "markdown",
   "metadata": {},
   "source": [
    "### Load index of the motion from index file (dependent variable)"
   ]
  },
  {
   "cell_type": "code",
   "execution_count": null,
   "metadata": {},
   "outputs": [],
   "source": [
    "#export\n",
    "def load_index_file(fname, index_col=7, uncertainty_index=-1.):\n",
    "    \"Returns the index of an index file. In case the argument `index_col` has more \\\n",
    "    than one value, the value in `uncertainty_index` will be set.\"\n",
    "    indices = pd.read_table(fname,\n",
    "                         sep='\\s+',\n",
    "                         header=None,\n",
    "                         usecols=L(index_col),\n",
    "                         squeeze=True).values\n",
    "    # indices is a numpy array\n",
    "    if len(indices.shape) > 1:\n",
    "        indices = array([x[0] if np.all(x == x[0]) else uncertainty_index for x in indices])\n",
    "    return indices"
   ]
  },
  {
   "cell_type": "code",
   "execution_count": null,
   "metadata": {},
   "outputs": [],
   "source": [
    "fname = base_path/'data/fli_rotnum/model_1/eps=0.01/index_fli_freqana.plt'\n",
    "foo = load_index_file(fname)"
   ]
  },
  {
   "cell_type": "code",
   "execution_count": null,
   "metadata": {},
   "outputs": [],
   "source": [
    "test_eq(foo.__class__, np.ndarray)\n",
    "test_eq(foo.shape.__len__(), 1)"
   ]
  },
  {
   "cell_type": "markdown",
   "metadata": {},
   "source": [
    "### Load x and y at once from both the Poincare and the index file"
   ]
  },
  {
   "cell_type": "code",
   "execution_count": null,
   "metadata": {},
   "outputs": [],
   "source": [
    "#export\n",
    "@delegates(to=load_index_file, but=['fname'])\n",
    "def load_poincare_index_pair(fname_poincare, fname_index, **kwargs):\n",
    "    \"Load the x data from a Poincare file and the y data from the index file.\\\n",
    "    Returns a tuple of 2 numpy arrays: \"\n",
    "    \"x : array with a shape (n_samples, n_channels, sequence_length)\"\n",
    "    \"y : array with a shape (n_samples)\"\n",
    "    \"for the Poincare maps, n_channels is 2 (x and y)\"\n",
    "    return load_poincare_maps(fname_poincare), load_index_file(fname_index, **kwargs)"
   ]
  },
  {
   "cell_type": "code",
   "execution_count": null,
   "metadata": {},
   "outputs": [],
   "source": [
    "fname_poincare = base_path/'data/fli_rotnum/model_1/eps=0.01/Poincare.plt'\n",
    "fname_index = base_path/'data/fli_rotnum/model_1/eps=0.01/index_fli_freqana.plt'\n",
    "foo, bar = load_poincare_index_pair(fname_poincare, fname_index)"
   ]
  },
  {
   "cell_type": "code",
   "execution_count": null,
   "metadata": {},
   "outputs": [],
   "source": [
    "test_eq(foo.__class__, np.ndarray)\n",
    "test_eq(bar.__class__, np.ndarray)\n",
    "test_eq(len(foo), len(bar))"
   ]
  },
  {
   "cell_type": "markdown",
   "metadata": {},
   "source": [
    "### Create TSData object from a list of (Poincare.plt, index.plt) files"
   ]
  },
  {
   "cell_type": "code",
   "execution_count": null,
   "metadata": {},
   "outputs": [],
   "source": [
    "#export\n",
    "class TSDataChaos(TSData):\n",
    "    @classmethod\n",
    "    @delegates(to=load_poincare_index_pair)\n",
    "    def from_poincare_and_index_files(cls, fnames, **kwargs):\n",
    "        \"`fnames` is a list of pairs (poincare_file, index_file), or a single pair.\"\n",
    "        self = cls(fnames)\n",
    "        self.x = []\n",
    "        self.y = []\n",
    "        self.dsname = []\n",
    "        self.fnames = []\n",
    "        self.ds = []\n",
    "        xs,ys, dss = [],[],[]\n",
    "        if isinstance(fnames, list):\n",
    "            for i, (fn_poincare, fn_index) in enumerate(fnames):\n",
    "                dsname = fn_poincare.parent.name\n",
    "                x, y = load_poincare_index_pair(fn_poincare, fn_index, **kwargs)\n",
    "                xs.append(x)\n",
    "                ys.append(y)\n",
    "                dss.append(np.repeat(i, len(y))) # Map each item with the dataset it belongs to\n",
    "                self.fnames.append((fn_poincare, fn_index))\n",
    "                self.dsname.append(dsname)\n",
    "            self.x = np.concatenate(xs)\n",
    "            self.y = np.concatenate(ys)\n",
    "            self.ds = np.concatenate(dss).squeeze()\n",
    "        else:\n",
    "            fn_poincare, fn_index = fnames\n",
    "            dsname = fn_poincare.parent.name\n",
    "            self.fnames.append(fnames)\n",
    "            self.dsname.append(dsname)\n",
    "            self.x, self.y = load_poincare_index_pair(fn_poincare, fn_index, **kwargs)\n",
    "            self.ds = np.repeat(0, len(y))\n",
    "        return self\n",
    "\n",
    "    @classmethod\n",
    "    def from_poincare_maps(cls, fnames):\n",
    "        \"`fnames` is a list of paths to Poincare maps. No ys are provided\"\n",
    "        self = cls(fnames)\n",
    "        self.x = []\n",
    "        self.y = None\n",
    "        self.dsname = []\n",
    "        self.fnames = []\n",
    "        xs = []\n",
    "        if isinstance(fnames, list):\n",
    "            for fn_poincare in fnames:\n",
    "                x = load_poincare_maps(fn_poincare)\n",
    "                xs.append(x)\n",
    "                self.fnames.append((fn_poincare, fn_index))\n",
    "                self.dsname.append(fn_poincare.parent.name)\n",
    "            self.x = np.concatenate(xs)\n",
    "        else:\n",
    "            fn_poincare = fnames\n",
    "            self.fnames.append(fn_poincare)\n",
    "            self.dsname.append(fn_poincare.parent.name)\n",
    "            self.x = load_poincare_maps(fn_poincare)\n",
    "        return self"
   ]
  },
  {
   "cell_type": "code",
   "execution_count": null,
   "metadata": {},
   "outputs": [],
   "source": [
    "fnames = (base_path/'data/fli_rotnum/model_1/eps=0.01/Poincare.plt', \n",
    "            base_path/'data/fli_rotnum/model_1/eps=0.01/index_fli_freqana.plt')\n",
    "foo = TSDataChaos.from_poincare_and_index_files(fnames)\n",
    "foo"
   ]
  },
  {
   "cell_type": "code",
   "execution_count": null,
   "metadata": {},
   "outputs": [],
   "source": [
    "test_eq(foo.__class__, TSDataChaos)"
   ]
  },
  {
   "cell_type": "code",
   "execution_count": null,
   "metadata": {},
   "outputs": [],
   "source": [
    "bar = TSDataChaos.from_poincare_and_index_files(fnames, index_col=8)\n",
    "bar"
   ]
  },
  {
   "cell_type": "code",
   "execution_count": null,
   "metadata": {},
   "outputs": [],
   "source": [
    "x0, y0 = foo.x[0], foo.y[0]\n",
    "y0"
   ]
  },
  {
   "cell_type": "code",
   "execution_count": null,
   "metadata": {},
   "outputs": [],
   "source": [
    "test_ne(foo.y, bar.y) "
   ]
  },
  {
   "cell_type": "code",
   "execution_count": null,
   "metadata": {},
   "outputs": [],
   "source": [
    "show_timeseries(x0, title=y0)"
   ]
  },
  {
   "cell_type": "markdown",
   "metadata": {},
   "source": [
    "## Get items from a TSDataChaos object"
   ]
  },
  {
   "cell_type": "code",
   "execution_count": null,
   "metadata": {},
   "outputs": [],
   "source": [
    "#export\n",
    "def get_motion_items(fnames):\n",
    "    \"get_ts_items return list of tuples. Each tuple corresponds \\\n",
    "    to a timeserie (nump.ndarray) and a label (string). fnames is not \\\n",
    "    an array of paths, but an array of tuples of paths. Each tuple has the \\\n",
    "    path of the Poincare map and the path of the index file\"\n",
    "    data = TSDataChaos.from_poincare_and_index_files(fnames)\n",
    "    return data.get_items()"
   ]
  },
  {
   "cell_type": "markdown",
   "metadata": {},
   "source": [
    "### Show labelled initial condition map"
   ]
  },
  {
   "cell_type": "code",
   "execution_count": null,
   "metadata": {},
   "outputs": [],
   "source": [
    "#export\n",
    "@delegates(sns.scatterplot, but=['data', 'x', 'y', 'hue', 'marker'])\n",
    "def show_labelled_ic_map(poinc_maps:Union[torch.Tensor, np.ndarray]=None, \n",
    "                         lbls:list=None, **kwargs):\n",
    "    \"Show a scatter plot with the initial conditions (x0, y0) of each Poincare map in \\\n",
    "    `poinc_maps`, coloured with the labels given in `lbls`.'. The argument `poinc_maps` \\\n",
    "    expects a (n_items, n_channels, n_points) numpy array or tensor\"\n",
    "    initial_conditions = poinc_maps[:,:,0]\n",
    "    qux = pd.DataFrame(initial_conditions, columns=['x0', 'y0'])\n",
    "    qux['class'] = lbls\n",
    "    return sns.scatterplot(data=qux, x='x0', y='y0', hue='class', marker='.', **kwargs)"
   ]
  },
  {
   "cell_type": "code",
   "execution_count": null,
   "metadata": {},
   "outputs": [],
   "source": [
    "mock_poinc_map = foo = np.random.randn(1000, 2, 100)\n",
    "mock_lbls = random.choices(['chaotic', 'librational', 'rotational'], k=1000)"
   ]
  },
  {
   "cell_type": "code",
   "execution_count": null,
   "metadata": {},
   "outputs": [],
   "source": [
    "# NOTE: These FLI plots are completely random\n",
    "show_fli_plot(poinc_maps=mock_poinc_map, lbls=mock_lbls)"
   ]
  },
  {
   "cell_type": "markdown",
   "metadata": {},
   "source": [
    "Pass kwargs arguments to sns.scatterplot"
   ]
  },
  {
   "cell_type": "code",
   "execution_count": null,
   "metadata": {},
   "outputs": [],
   "source": [
    "show_fli_plot(poinc_maps=mock_poinc_map, lbls=mock_lbls, legend=False)"
   ]
  },
  {
   "cell_type": "markdown",
   "metadata": {},
   "source": [
    "Test with a `TSDataChaos` object"
   ]
  },
  {
   "cell_type": "code",
   "execution_count": null,
   "metadata": {},
   "outputs": [],
   "source": [
    "mock_tdc = TSDataChaos('foo')\n",
    "mock_tdc.x = mock_poinc_map\n",
    "mock_tdc.y = mock_lbls"
   ]
  },
  {
   "cell_type": "code",
   "execution_count": null,
   "metadata": {},
   "outputs": [],
   "source": [
    "show_fli_plot(tdc=mock_tdc, legend=None)"
   ]
  }
 ],
 "metadata": {
  "kernelspec": {
   "display_name": "Python 3",
   "language": "python",
   "name": "python3"
  }
 },
 "nbformat": 4,
 "nbformat_minor": 4
}
