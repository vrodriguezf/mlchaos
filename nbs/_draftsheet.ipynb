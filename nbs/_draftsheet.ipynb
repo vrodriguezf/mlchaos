{
 "cells": [
  {
   "cell_type": "markdown",
   "metadata": {},
   "source": [
    "# Draftsheet "
   ]
  },
  {
   "cell_type": "markdown",
   "metadata": {},
   "source": [
    "### Get the validation errors of a classification learner, plot them in different ways and store the resulting images to be validated by an expert"
   ]
  },
  {
   "cell_type": "code",
   "execution_count": null,
   "metadata": {},
   "outputs": [],
   "source": [
    "from PIL import Image  \n",
    "import PIL\n",
    "from fastcore.all import *"
   ]
  },
  {
   "cell_type": "code",
   "execution_count": null,
   "metadata": {},
   "outputs": [],
   "source": [
    "def buffer_plot_and_get(fig):\n",
    "    buf = io.BytesIO()\n",
    "    fig.savefig(buf)\n",
    "    buf.seek(0)\n",
    "    return PIL.Image.open(buf)"
   ]
  },
  {
   "cell_type": "code",
   "execution_count": null,
   "metadata": {},
   "outputs": [],
   "source": [
    "def get_concat_h_multi_resize(im_list, resample=PIL.Image.BICUBIC):\n",
    "    min_height = min(im.height for im in im_list)\n",
    "    im_list_resize = [im.resize((int(im.width * min_height / im.height), min_height),resample=resample)\n",
    "                      for im in im_list]\n",
    "    total_width = sum(im.width for im in im_list_resize)\n",
    "    dst = PIL.Image.new('RGB', (total_width, min_height))\n",
    "    pos_x = 0\n",
    "    for im in im_list_resize:\n",
    "        dst.paste(im, (pos_x, 0))\n",
    "        pos_x += im.width\n",
    "    return dst"
   ]
  },
  {
   "cell_type": "code",
   "execution_count": null,
   "metadata": {},
   "outputs": [],
   "source": [
    "def get_multiview_at(ds, idx, ylim):\n",
    "    \"TODO: Move this to TensorMotion?\"\n",
    "    fig1 = show_at(ds, idx, return_fig=True, ylim=ylim)\n",
    "    fig2 = show_at(ds, idx, return_fig=True)\n",
    "    fig3 = show_at(ds, idx, mode='stacked', return_fig=True)\n",
    "    pils = [buffer_plot_and_get(fig) for fig in [fig1, fig2, fig3]]\n",
    "    return get_concat_h_multi_resize(pils)"
   ]
  },
  {
   "cell_type": "code",
   "execution_count": null,
   "metadata": {},
   "outputs": [],
   "source": [
    "import pandas as pd"
   ]
  },
  {
   "cell_type": "code",
   "execution_count": null,
   "metadata": {},
   "outputs": [],
   "source": [
    "def generate_classification_error_report(learn, folder, ylim):\n",
    "    \"Warning: Call this function with the %%capture magic, otherwise you will be \\\n",
    "    prompted with all the outputs from the calls to `show`. Requires xlrd to read xlsx \\\n",
    "    files.\"\n",
    "    probs, targets, preds = learn.get_preds(with_decoded=True)\n",
    "    error_valid_idxs = torch.where(targets!=preds, tensor(1), tensor(0)).nonzero().squeeze()\n",
    "    error_ds_idxs = tensor(learn.dls.dataset.splits[1])[error_valid_idxs]\n",
    "    for valid_idx, ds_idx in zip(error_valid_idxs, error_ds_idxs):\n",
    "        merged_pil = get_multiview_at(learn.dls.valid.dataset, valid_idx, ylim)\n",
    "        folder = Path(folder)\n",
    "        merged_pil.save(f'{folder}/{ds_idx}.png')\n",
    "    # Generate a csv file with the item indices and the targets\n",
    "    preds_decoded = [str(ds.valid.tfms[1].decode(x)) for x in preds[error_valid_idxs]]\n",
    "    targs_decoded = [str(ds.valid.tfms[1].decode(x)) for x in targets[error_valid_idxs]]\n",
    "    rlbl_df = pd.DataFrame(list(zip(error_ds_idxs.numpy(), preds_decoded, targs_decoded)), \n",
    "                       columns=['Item #', 'ML classification', 'FLI-based classification'])\n",
    "    rlbl_path = Path(f'{folder}/relabelling.xlsx')\n",
    "    if rlbl_path.exists():\n",
    "        # Load old relabelling and merge it with the new items\n",
    "        rlbl_df_old = pd.read_excel(rlbl_path)\n",
    "        rlbl_df = pd.concat([rlbl_df, rlbl_df_old]).drop_duplicates()\n",
    "    rlbl_df = rlbl_df.sort_values(by=['Item #'])\n",
    "    rlbl_df.to_excel(rlbl_path, index=False)"
   ]
  }
 ],
 "metadata": {
  "kernelspec": {
   "display_name": "Python 3",
   "language": "python",
   "name": "python3"
  }
 },
 "nbformat": 4,
 "nbformat_minor": 4
}
