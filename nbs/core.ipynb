{
 "cells": [
  {
   "cell_type": "code",
   "execution_count": null,
   "metadata": {
    "hide_input": true
   },
   "outputs": [],
   "source": [
    "from nbdev import *"
   ]
  },
  {
   "cell_type": "code",
   "execution_count": null,
   "metadata": {},
   "outputs": [],
   "source": [
    "%nbdev_default_export core"
   ]
  },
  {
   "cell_type": "markdown",
   "metadata": {},
   "source": [
    "# Core\n",
    "\n",
    "> Data types and more"
   ]
  },
  {
   "cell_type": "code",
   "execution_count": null,
   "metadata": {},
   "outputs": [],
   "source": [
    "%nbdev_export\n",
    "from timeseries.all import *\n",
    "from fastai2.basics import *\n",
    "from fastai2.vision.data import get_grid\n",
    "import numpy as np"
   ]
  },
  {
   "cell_type": "code",
   "execution_count": null,
   "metadata": {},
   "outputs": [],
   "source": [
    "%nbdev_export\n",
    "class StandardizeGlobal(ItemTransform):\n",
    "    def setups(self, items):\n",
    "        self.mean, self.std = get_mean_std(torch.stack(list(items)), scale_subtype='all_sam')\n",
    "        print(self.mean, self.std)\n",
    "    def encodes(self, x):\n",
    "        return (x-self.mean)/self.std\n",
    "    def decodes(self, x):\n",
    "        f = to_cpu if x.device.type=='cpu' else noop\n",
    "        return (x*f(self.std) + f(self.mean))"
   ]
  },
  {
   "cell_type": "code",
   "execution_count": null,
   "metadata": {},
   "outputs": [],
   "source": [
    "%nbdev_export\n",
    "class StandardizeItem(ItemTransform):\n",
    "    \"Standardize item per sample per channel\"\n",
    "    def encodes(self, x):\n",
    "        self.mean = x.mean(axis=1).unsqueeze(1).repeat(1, x.shape[1])\n",
    "        self.std = x.std(axis=1).unsqueeze(1).repeat(1, x.shape[1])\n",
    "        return (x - self.mean)/ self.std\n",
    "    def decodes(self, x):\n",
    "        f = to_cpu if x.device.type=='cpu' else noop\n",
    "        return (x*f(self.std) + f(self.mean))"
   ]
  },
  {
   "cell_type": "code",
   "execution_count": null,
   "metadata": {},
   "outputs": [],
   "source": [
    "%nbdev_export\n",
    "class StandardizeNoDecode(Standardize):\n",
    "    def decodes(self, x:TensorTS):\n",
    "        return x"
   ]
  },
  {
   "cell_type": "markdown",
   "metadata": {},
   "source": [
    "## Override things from TensorTS"
   ]
  },
  {
   "cell_type": "markdown",
   "metadata": {},
   "source": [
    "TODO: Pull request to the timeseries library"
   ]
  },
  {
   "cell_type": "code",
   "execution_count": null,
   "metadata": {},
   "outputs": [],
   "source": [
    "%nbdev_export\n",
    "@typedispatch\n",
    "def plot_top_losses(x:TensorTS, y:TensorCategory, samples, outs, raws, losses, nrows=None, ncols=None, figsize=None, **kwargs):\n",
    "    axs = get_grid(len(samples), nrows=nrows,\n",
    "                   ncols=ncols, add_vert=1,\n",
    "                   figsize=figsize, title='Prediction/Actual/Loss/Probability')\n",
    "    for ax,s,o,r,l in zip(axs, samples, outs, raws, losses):\n",
    "        s[0].show(ctx=ax, **kwargs)\n",
    "        ax.set_title(f'{o[0]}/{s[1]} / {l.item():.2f} / {r.max().item():.2f}')"
   ]
  },
  {
   "cell_type": "markdown",
   "metadata": {},
   "source": [
    "## TensorMotion"
   ]
  },
  {
   "cell_type": "markdown",
   "metadata": {},
   "source": [
    "Class that redefines show method to show a poincare map for a motion"
   ]
  },
  {
   "cell_type": "code",
   "execution_count": null,
   "metadata": {},
   "outputs": [],
   "source": [
    "%nbdev_export\n",
    "class TensorMotion(TensorTS):\n",
    "    def show(self, ctx=None, title=None, label=None, chs=None,\n",
    "             leg=True, ylim=None, return_fig=False, mode=None, **kwargs):\n",
    "        \"Show method with different modes\"\n",
    "        if mode=='ts':\n",
    "            return TensorTS.show(self, ctx, title, chs, leg, **kwargs)\n",
    "            if return_fig: print('Figures cannot be returned in mode ts')\n",
    "        elif mode=='stacked':\n",
    "            ret = self.show_stacked(ctx, title, label, chs, leg, **kwargs)\n",
    "            if return_fig: return ret\n",
    "        else:\n",
    "            ret = self.show_poincmap(ctx, title, label, leg, ylim, return_fig, **kwargs)\n",
    "            if return_fig: return ret\n",
    "\n",
    "    def show_poincmap(self, ctx=None, title=None, label=None, leg=True,\n",
    "                      ylim=None, return_fig=False, **kwargs):\n",
    "        \"Display poincare map for a motion\"\n",
    "        if ctx is None: fig, ctx = plt.subplots()\n",
    "        t = range(self.shape[1])\n",
    "        ctx.scatter(self[0][1:], self[1][1:])\n",
    "        # The initial conditions (x0, y0) are plotted in a different colour\n",
    "        ctx.scatter(self[0][0], self[1][0])\n",
    "        ctx.set(xlim=[0, 360])\n",
    "        if ylim: ctx.set(ylim=ylim)\n",
    "        if title: ctx.set_title(title)\n",
    "        if return_fig: return fig\n",
    "\n",
    "    def show_stacked(self, ctx=None, title=None, label=None, chs=None, leg=True, color=None, **kwargs):\n",
    "        \"Display timeseries plots for a motion\"\n",
    "        t = range(self.shape[1])\n",
    "        if ctx is None:\n",
    "            fig , ctx = plt.subplots(nrows=2, ncols=1)\n",
    "            ctx[0].plot(t, self[0], label='x', color='C0')\n",
    "            ctx[0].scatter(t, self[0], color='C0', marker='.')\n",
    "            ctx[1].plot(t, self[1], label='y', color='C1')\n",
    "            ctx[1].scatter(t, self[1], color='C1', marker='.')\n",
    "            if leg:\n",
    "                ctx[0].legend(loc='upper right', ncol=2, framealpha=0.5)\n",
    "                ctx[1].legend(loc='upper right', ncol=2, framealpha=0.5)\n",
    "                if title: ax0.set_title(title)\n",
    "            return fig\n",
    "        else:\n",
    "            # Call from show_batch, only plot one channel. The title is plotted in the show batch\n",
    "            ch = chs[0]\n",
    "            ctx.plot(t, self[ch], label=label, color=color)\n",
    "            if leg: ctx.legend(loc='upper right', ncol=2, framealpha=0.5)\n",
    "            if title: ctx.set_title(title)"
   ]
  },
  {
   "cell_type": "code",
   "execution_count": null,
   "metadata": {},
   "outputs": [],
   "source": [
    "%nbdev_export\n",
    "class ToTensorMotion(ItemTransform):\n",
    "    # \"x : 2D numpy array\"\n",
    "    def encodes(self, x): return TensorMotion(x)\n",
    "    #def decodes(self, x): return x.numpy()"
   ]
  },
  {
   "cell_type": "code",
   "execution_count": null,
   "metadata": {},
   "outputs": [
    {
     "name": "stderr",
     "output_type": "stream",
     "text": [
      "UsageError: Line magic function `%nbdev_export` not found.\n"
     ]
    }
   ],
   "source": [
    "%nbdev_export\n",
    "def MotionBlock():\n",
    "    \"`TransformBlock` for orbit motions. Transform np array to TensorMotion type\"\n",
    "    return TransformBlock(type_tfms=[ToTensorTS(), ToTensorMotion()])"
   ]
  },
  {
   "cell_type": "code",
   "execution_count": null,
   "metadata": {},
   "outputs": [],
   "source": [
    "%nbdev_export\n",
    "@typedispatch\n",
    "def plot_top_losses(x:TensorMotion, y:TensorCategory, samples, outs, raws, losses, nrows=None, ncols=None, figsize=None, **kwargs):\n",
    "    axs = get_grid(len(samples), nrows=nrows,\n",
    "                   ncols=ncols, add_vert=1,\n",
    "                   figsize=figsize, title='Prediction/Actual/Loss/Probability')\n",
    "    for ax,s,o,r,l in zip(axs, samples, outs, raws, losses):\n",
    "        s[0].show(ctx=ax, **kwargs)\n",
    "        ax.set_title(f'{o[0]}/{s[1]} / {l.item():.2f} / {r.max().item():.2f}')"
   ]
  },
  {
   "cell_type": "markdown",
   "metadata": {},
   "source": [
    "## TensorTSMotion (deprecated)"
   ]
  },
  {
   "cell_type": "markdown",
   "metadata": {},
   "source": [
    "NOTE: TensorTSMotion is now deprecated and replaced by TensorMotion\n",
    "\n",
    "TODO: Move show_batch and show_results to TensorTSMotion\n",
    "\n",
    "Class that redefines show methods in order to show a stacked time series with the x and y components (deprecated??)"
   ]
  },
  {
   "cell_type": "code",
   "execution_count": null,
   "metadata": {},
   "outputs": [],
   "source": [
    "%nbdev_export\n",
    "class TensorTSMotion(TensorTS):\n",
    "    \"This class could be deprecated soon. Please see `TensorMotion`\"\n",
    "    def show(self, ctx=None, title=None, label=None, chs=None, leg=True, color=None, **kwargs):\n",
    "        \"Display timeseries plots for a motion\"\n",
    "        t = range(self.shape[1])\n",
    "        if ctx is None:\n",
    "            _, ctx = plt.subplots(nrows=2, ncols=1)\n",
    "            ctx[0].plot(t, self[0], label='x', color='C0')\n",
    "            ctx[1].plot(t, self[1], label='y', color='C1')\n",
    "            if leg:\n",
    "                ctx[0].legend(loc='upper right', ncol=2, framealpha=0.5)\n",
    "                ctx[1].legend(loc='upper right', ncol=2, framealpha=0.5)\n",
    "                if title: ax0.set_title(title)\n",
    "        else:\n",
    "            # Call from show_batch, only plot one channel. The title is plotted in the show batch\n",
    "            ch = chs[0]\n",
    "            ctx.plot(t, self[ch], label=label, color=color)\n",
    "            if leg: ctx.legend(loc='upper right', ncol=2, framealpha=0.5)\n",
    "            if title: ctx.set_title(title)"
   ]
  },
  {
   "cell_type": "code",
   "execution_count": null,
   "metadata": {},
   "outputs": [],
   "source": [
    "%nbdev_export\n",
    "class ToTensorTSMotion(ItemTransform):\n",
    "    # \"x : 2D numpy array\"\n",
    "    def encodes(self, x): return TensorTSMotion(x)\n",
    "    def decodes(self, x): return x.numpy()"
   ]
  },
  {
   "cell_type": "code",
   "execution_count": null,
   "metadata": {},
   "outputs": [],
   "source": [
    "%nbdev_export\n",
    "def prettify_plot_TensorTSMotion(ctxs, n, nchannels, nrows, ncols):\n",
    "    \"Configure how to paint axes with motion plots. ctxs is a 2xN array of axes\"\n",
    "    for i in range(n):\n",
    "        ctxs[0 + nchannels*int(i/ncols)][i%ncols].get_xaxis().set_visible(False)\n",
    "        ctxs[0 + nchannels*int(i/ncols)][i%ncols].spines['bottom'].set_visible(False)\n",
    "        ctxs[1 + nchannels*int(i/ncols)][i%ncols].spines['top'].set_visible(False)"
   ]
  },
  {
   "cell_type": "code",
   "execution_count": null,
   "metadata": {},
   "outputs": [],
   "source": [
    "%nbdev_export\n",
    "@typedispatch\n",
    "def show_batch(x:TensorTSMotion, y, samples, ctxs=None, max_n=3, nrows=1, figsize=(15,6), **kwargs):\n",
    "    \"Show batch for TensorTS objects\"\n",
    "    n = min(len(samples), max_n)\n",
    "    ncols = int(np.ceil(n/nrows))\n",
    "    nchannels = 2\n",
    "    if ctxs is None: fig, ctxs = plt.subplots(nchannels*nrows, ncols, figsize=figsize)\n",
    "    for b, tar, i in zip(samples.itemgot(0), samples.itemgot(1), range(n)):\n",
    "        b.show(ctx=ctxs[0 + nchannels*int(i/ncols)][i%ncols], title = tar, label='x', chs=[0], color='C0')\n",
    "        b.show(ctx=ctxs[1 + nchannels*int(i/ncols)][i%ncols], label='y', chs=[1], color='C1')\n",
    "    prettify_plot_TensorTSMotion(ctxs, n, nchannels, nrows, ncols)\n",
    "    fig.tight_layout()\n",
    "    return ctxs"
   ]
  },
  {
   "cell_type": "code",
   "execution_count": null,
   "metadata": {},
   "outputs": [],
   "source": [
    "%nbdev_export\n",
    "@typedispatch\n",
    "def show_results(x:TensorTSMotion, y, samples, outs, ctxs=None, max_n=3, nrows=1, figsize=(15,6), **kwargs):\n",
    "    \"Show results for TensorTSMotion objects\"\n",
    "    n = min(len(samples), max_n)\n",
    "    ncols = int(np.ceil(n/nrows))\n",
    "    nchannels = 2\n",
    "    if ctxs is None: fig, ctxs = plt.subplots(nchannels*nrows, ncols, figsize=figsize)\n",
    "    outs = [detuplify(o) for o in outs]\n",
    "    for b, o, i in zip(samples, outs, range(max_n)):\n",
    "        b[0].show(ctx=ctxs[0 + nchannels*int(i/ncols)][i%ncols], title=f'{o} / {b[1]}', label='x', chs=[0], color='C0')\n",
    "        b[0].show(ctx=ctxs[1 + nchannels*int(i/ncols)][i%ncols], label='y', chs=[1], color='C1')\n",
    "    prettify_plot_TensorTSMotion(ctxs, n, nchannels, nrows, ncols)\n",
    "    fig.tight_layout()\n",
    "    return ctxs"
   ]
  },
  {
   "cell_type": "code",
   "execution_count": null,
   "metadata": {},
   "outputs": [],
   "source": [
    "%nbdev_export\n",
    "@typedispatch\n",
    "def plot_top_losses(x:TensorTSMotion, y:TensorCategory, samples, outs, raws, losses, nrows=1, figsize=None, **kwargs):\n",
    "    #axs = get_grid(len(samples), nrows=nrows, ncols=ncols, add_vert=1, figsize=figsize, title='Prediction/Actual/Loss/Probability')\n",
    "    n = len(samples)\n",
    "    ncols = int(np.ceil(n/nrows))\n",
    "    nchannels = 2\n",
    "    fig, ctxs = plt.subplots(nchannels*nrows, ncols, figsize=figsize)\n",
    "    for s,o,r,l,i in zip(samples, outs, raws, losses, range(len(samples))):\n",
    "        s[0].show(ctx=ctxs[0 + nchannels*int(i/ncols)][i%ncols], label='x', chs=[0], color='C0', **kwargs)\n",
    "        s[0].show(ctx=ctxs[1 + nchannels*int(i/ncols)][i%ncols], label='y', chs=[1], color='C1', **kwargs)\n",
    "        ctxs[0 + nchannels*int(i/ncols)][i%ncols].set_title(f'{o[0]}/{s[1]} / {l.item():.2f} / {r.max().item():.2f}')\n",
    "    prettify_plot_TensorTSMotion(ctxs, n, nchannels, nrows, ncols)\n",
    "    fig.tight_layout(rect=[0, 0.03, 1, 0.95])\n",
    "    fig.suptitle('Prediction/Actual/Loss/Probability')"
   ]
  }
 ],
 "metadata": {
  "kernelspec": {
   "display_name": "Python 3",
   "language": "python",
   "name": "python3"
  }
 },
 "nbformat": 4,
 "nbformat_minor": 4
}
