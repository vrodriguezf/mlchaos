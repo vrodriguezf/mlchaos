{
 "cells": [
  {
   "cell_type": "code",
   "execution_count": null,
   "metadata": {},
   "outputs": [],
   "source": [
    "#default_exp experiments"
   ]
  },
  {
   "cell_type": "markdown",
   "metadata": {},
   "source": [
    "# Experiments\n",
    "\n",
    "> Experiments to be run as CLI scripts (too long to run in a Jupyter session)"
   ]
  },
  {
   "cell_type": "code",
   "execution_count": null,
   "metadata": {},
   "outputs": [],
   "source": [
    "#export\n",
    "import papermill as pm\n",
    "import numpy as np\n",
    "from fastcore.all import *"
   ]
  },
  {
   "cell_type": "code",
   "execution_count": null,
   "metadata": {},
   "outputs": [],
   "source": [
    "import wandb"
   ]
  },
  {
   "cell_type": "markdown",
   "metadata": {},
   "source": [
    "### Analyse the impact of the number of points on the performance of the motion classifier"
   ]
  },
  {
   "cell_type": "markdown",
   "metadata": {},
   "source": [
    "The results will be logged in a run group in wandb, and from there the visualizations will be made"
   ]
  },
  {
   "cell_type": "code",
   "execution_count": null,
   "metadata": {},
   "outputs": [],
   "source": [
    "#export experiments\n",
    "@call_parse\n",
    "def x_sequence_length(min_rp:Param(\"Minimum resampling period\", int)=1,\n",
    "                      max_rp:Param(\"Maximum resampling period\", int)=10,\n",
    "                      rep_times:Param(\"Number of times ru run per rp\", int)=10,\n",
    "                      nbs_folder:Param(\"Notebook folder path\", str)='.'):\n",
    "    for x in range(min_rp, max_rp+1):\n",
    "        for _ in range(rep_times):\n",
    "            pm.execute_notebook(input_path=f'{Path(nbs_folder)}/_motion_classification_time_series.ipynb',\n",
    "                                output_path='--',\n",
    "                                parameters=dict(\n",
    "                                    use_wandb=True,\n",
    "                                    wandb_group='x_sequence_length',\n",
    "                                    resampling_period=x\n",
    "                                ))"
   ]
  },
  {
   "cell_type": "code",
   "execution_count": null,
   "metadata": {},
   "outputs": [],
   "source": [
    "%%capture\n",
    "x_sequence_length(max_rp=2, rep_times=1)"
   ]
  },
  {
   "cell_type": "markdown",
   "metadata": {},
   "source": [
    "### Analyse how the inclusion of more and more data helps to predict better the motions of the next epsilon (x_next_epsilon)"
   ]
  },
  {
   "cell_type": "code",
   "execution_count": null,
   "metadata": {},
   "outputs": [],
   "source": [
    "#export experiments\n",
    "@call_parse\n",
    "def x_next_epsilon(nbs_folder:Param(\"Notebook folder path\", str)='.'):\n",
    "    base_path = Path.home()\n",
    "    ds_path = base_path/'data/fli_rotnum/model_1'\n",
    "    fnames = L(\n",
    "        (ds_path/'eps=0.021/Poincare.plt', ds_path/'eps=0.021/index_fli_rotnum_birav.plt'),\n",
    "        (ds_path/'eps=0.022/Poincare.plt', ds_path/'eps=0.022/index_fli_rotnum_birav.plt'), \n",
    "        (ds_path/'eps=0.023/Poincare.plt', ds_path/'eps=0.023/index_fli_rotnum_birav.plt'), \n",
    "        (ds_path/'eps=0.024/Poincare.plt', ds_path/'eps=0.024/index_fli_rotnum_birav.plt'), \n",
    "        (ds_path/'eps=0.025/Poincare.plt', ds_path/'eps=0.025/index_fli_rotnum_birav.plt'), \n",
    "    )\n",
    "    for i in range(2, len(fnames)+1):\n",
    "        x_input = L(fnames[:i])\n",
    "        val_dataset = x_input[-1][0].parent.name\n",
    "        print(val_dataset)\n",
    "        pm.execute_notebook(input_path=f'{Path(nbs_folder)}/_motion_classification_time_series.ipynb',\n",
    "                            output_path='./__.ipynb',\n",
    "                            parameters=dict(\n",
    "                                use_wandb=True,\n",
    "                                wandb_group='x_next_epsilon',\n",
    "                                val_dataset = val_dataset,\n",
    "                                fnames_poinc_map=list(x_input.itemgot(0).map(str)),\n",
    "                                fnames_index=list(x_input.itemgot(1).map(str))\n",
    "                            ))"
   ]
  },
  {
   "cell_type": "code",
   "execution_count": null,
   "metadata": {},
   "outputs": [
    {
     "name": "stdout",
     "output_type": "stream",
     "text": [
      "eps=0.022\n"
     ]
    },
    {
     "data": {
      "application/vnd.jupyter.widget-view+json": {
       "model_id": "16bbf72d5fc54e7a87404f88fc07853f",
       "version_major": 2,
       "version_minor": 0
      },
      "text/plain": [
       "HBox(children=(HTML(value='Executing'), FloatProgress(value=0.0, max=99.0), HTML(value='')))"
      ]
     },
     "metadata": {},
     "output_type": "display_data"
    },
    {
     "name": "stdout",
     "output_type": "stream",
     "text": [
      "\n"
     ]
    },
    {
     "ename": "PapermillExecutionError",
     "evalue": "\n---------------------------------------------------------------------------\nException encountered at \"In [22]\":\n---------------------------------------------------------------------------\nAssertionError                            Traceback (most recent call last)\n<ipython-input-22-83641df2a7df> in <module>\n----> 1 ds = Datasets(items=data.get_items(), tfms=tfms, splits=splits)\n\n/usr/local/lib/python3.6/dist-packages/fastai/data/core.py in __init__(self, items, tfms, tls, n_inp, dl_type, **kwargs)\n    308     def __init__(self, items=None, tfms=None, tls=None, n_inp=None, dl_type=None, **kwargs):\n    309         super().__init__(dl_type=dl_type)\n--> 310         self.tls = L(tls if tls else [TfmdLists(items, t, **kwargs) for t in L(ifnone(tfms,[None]))])\n    311         self.n_inp = ifnone(n_inp, max(1, len(self.tls)-1))\n    312 \n\n/usr/local/lib/python3.6/dist-packages/fastai/data/core.py in <listcomp>(.0)\n    308     def __init__(self, items=None, tfms=None, tls=None, n_inp=None, dl_type=None, **kwargs):\n    309         super().__init__(dl_type=dl_type)\n--> 310         self.tls = L(tls if tls else [TfmdLists(items, t, **kwargs) for t in L(ifnone(tfms,[None]))])\n    311         self.n_inp = ifnone(n_inp, max(1, len(self.tls)-1))\n    312 \n\n/usr/local/lib/python3.6/dist-packages/fastcore/foundation.py in __call__(cls, x, *args, **kwargs)\n    280     def __call__(cls, x=None, *args, **kwargs):\n    281         if not args and not kwargs and x is not None and isinstance(x,cls): return x\n--> 282         return super().__call__(x, *args, **kwargs)\n    283 \n    284 # Cell\n\n/usr/local/lib/python3.6/dist-packages/fastai/data/core.py in __init__(self, items, tfms, use_list, do_setup, split_idx, train_setup, splits, types, verbose, dl_type)\n    234         if do_setup:\n    235             pv(f\"Setting up {self.tfms}\", verbose)\n--> 236             self.setup(train_setup=train_setup)\n    237 \n    238     def _new(self, items, split_idx=None, **kwargs):\n\n/usr/local/lib/python3.6/dist-packages/fastai/data/core.py in setup(self, train_setup)\n    256             for f in self.tfms.fs:\n    257                 self.types.append(getattr(f, 'input_types', type(x)))\n--> 258                 x = f(x)\n    259             self.types.append(type(x))\n    260         types = L(t if is_listy(t) else [t] for t in self.types).concat().unique()\n\n/usr/local/lib/python3.6/dist-packages/fastcore/transform.py in __call__(self, x, **kwargs)\n     71     @property\n     72     def name(self): return getattr(self, '_name', _get_name(self))\n---> 73     def __call__(self, x, **kwargs): return self._call('encodes', x, **kwargs)\n     74     def decode  (self, x, **kwargs): return self._call('decodes', x, **kwargs)\n     75     def __repr__(self): return f'{self.name}:\\nencodes: {self.encodes}decodes: {self.decodes}'\n\n/usr/local/lib/python3.6/dist-packages/fastcore/transform.py in _call(self, fn, x, split_idx, **kwargs)\n     81     def _call(self, fn, x, split_idx=None, **kwargs):\n     82         if split_idx!=self.split_idx and self.split_idx is not None: return x\n---> 83         return self._do_call(getattr(self, fn), x, **kwargs)\n     84 \n     85     def _do_call(self, f, x, **kwargs):\n\n/usr/local/lib/python3.6/dist-packages/fastcore/transform.py in _do_call(self, f, x, **kwargs)\n     87             if f is None: return x\n     88             ret = f.returns_none(x) if hasattr(f,'returns_none') else None\n---> 89             return retain_type(f(x, **kwargs), x, ret)\n     90         res = tuple(self._do_call(f, x_, **kwargs) for x_ in x)\n     91         return retain_type(res, x)\n\n/usr/local/lib/python3.6/dist-packages/fastcore/dispatch.py in retain_type(new, old, typ, copy_meta)\n    198     # e.g. old is TensorImage, new is Tensor - if not subclass then do nothing\n    199     if new is None: return\n--> 200     assert old is not None or typ is not None\n    201     if typ is None:\n    202         if not isinstance(old, type(new)): return new\n\nAssertionError: \n",
     "output_type": "error",
     "traceback": [
      "\u001b[0;31m---------------------------------------------------------------------------\u001b[0m",
      "\u001b[0;31mPapermillExecutionError\u001b[0m                   Traceback (most recent call last)",
      "\u001b[0;32m<ipython-input-7-945ea94fc5b8>\u001b[0m in \u001b[0;36m<module>\u001b[0;34m\u001b[0m\n\u001b[0;32m----> 1\u001b[0;31m \u001b[0mx_next_epsilon\u001b[0m\u001b[0;34m(\u001b[0m\u001b[0;34m)\u001b[0m\u001b[0;34m\u001b[0m\u001b[0;34m\u001b[0m\u001b[0m\n\u001b[0m",
      "\u001b[0;32m<ipython-input-6-2ab79c6d942a>\u001b[0m in \u001b[0;36mx_next_epsilon\u001b[0;34m(nbs_folder)\u001b[0m\n\u001b[1;32m     22\u001b[0m                                 \u001b[0mval_dataset\u001b[0m \u001b[0;34m=\u001b[0m \u001b[0mval_dataset\u001b[0m\u001b[0;34m,\u001b[0m\u001b[0;34m\u001b[0m\u001b[0;34m\u001b[0m\u001b[0m\n\u001b[1;32m     23\u001b[0m                                 \u001b[0mfnames_poinc_map\u001b[0m\u001b[0;34m=\u001b[0m\u001b[0mlist\u001b[0m\u001b[0;34m(\u001b[0m\u001b[0mx_input\u001b[0m\u001b[0;34m.\u001b[0m\u001b[0mitemgot\u001b[0m\u001b[0;34m(\u001b[0m\u001b[0;36m0\u001b[0m\u001b[0;34m)\u001b[0m\u001b[0;34m.\u001b[0m\u001b[0mmap\u001b[0m\u001b[0;34m(\u001b[0m\u001b[0mstr\u001b[0m\u001b[0;34m)\u001b[0m\u001b[0;34m)\u001b[0m\u001b[0;34m,\u001b[0m\u001b[0;34m\u001b[0m\u001b[0;34m\u001b[0m\u001b[0m\n\u001b[0;32m---> 24\u001b[0;31m                                 \u001b[0mfnames_index\u001b[0m\u001b[0;34m=\u001b[0m\u001b[0mlist\u001b[0m\u001b[0;34m(\u001b[0m\u001b[0mx_input\u001b[0m\u001b[0;34m.\u001b[0m\u001b[0mitemgot\u001b[0m\u001b[0;34m(\u001b[0m\u001b[0;36m1\u001b[0m\u001b[0;34m)\u001b[0m\u001b[0;34m.\u001b[0m\u001b[0mmap\u001b[0m\u001b[0;34m(\u001b[0m\u001b[0mstr\u001b[0m\u001b[0;34m)\u001b[0m\u001b[0;34m)\u001b[0m\u001b[0;34m\u001b[0m\u001b[0;34m\u001b[0m\u001b[0m\n\u001b[0m\u001b[1;32m     25\u001b[0m                             ))\n",
      "\u001b[0;32m/usr/local/lib/python3.6/dist-packages/papermill/execute.py\u001b[0m in \u001b[0;36mexecute_notebook\u001b[0;34m(input_path, output_path, parameters, engine_name, request_save_on_cell_execute, prepare_only, kernel_name, progress_bar, log_output, stdout_file, stderr_file, start_timeout, report_mode, cwd, **engine_kwargs)\u001b[0m\n\u001b[1;32m    108\u001b[0m \u001b[0;34m\u001b[0m\u001b[0m\n\u001b[1;32m    109\u001b[0m             \u001b[0;31m# Check for errors first (it saves on error before raising)\u001b[0m\u001b[0;34m\u001b[0m\u001b[0;34m\u001b[0m\u001b[0;34m\u001b[0m\u001b[0m\n\u001b[0;32m--> 110\u001b[0;31m             \u001b[0mraise_for_execution_errors\u001b[0m\u001b[0;34m(\u001b[0m\u001b[0mnb\u001b[0m\u001b[0;34m,\u001b[0m \u001b[0moutput_path\u001b[0m\u001b[0;34m)\u001b[0m\u001b[0;34m\u001b[0m\u001b[0;34m\u001b[0m\u001b[0m\n\u001b[0m\u001b[1;32m    111\u001b[0m \u001b[0;34m\u001b[0m\u001b[0m\n\u001b[1;32m    112\u001b[0m         \u001b[0;31m# Write final output in case the engine didn't write it on cell completion.\u001b[0m\u001b[0;34m\u001b[0m\u001b[0;34m\u001b[0m\u001b[0;34m\u001b[0m\u001b[0m\n",
      "\u001b[0;32m/usr/local/lib/python3.6/dist-packages/papermill/execute.py\u001b[0m in \u001b[0;36mraise_for_execution_errors\u001b[0;34m(nb, output_path)\u001b[0m\n\u001b[1;32m    220\u001b[0m \u001b[0;34m\u001b[0m\u001b[0m\n\u001b[1;32m    221\u001b[0m         \u001b[0mwrite_ipynb\u001b[0m\u001b[0;34m(\u001b[0m\u001b[0mnb\u001b[0m\u001b[0;34m,\u001b[0m \u001b[0moutput_path\u001b[0m\u001b[0;34m)\u001b[0m\u001b[0;34m\u001b[0m\u001b[0;34m\u001b[0m\u001b[0m\n\u001b[0;32m--> 222\u001b[0;31m         \u001b[0;32mraise\u001b[0m \u001b[0merror\u001b[0m\u001b[0;34m\u001b[0m\u001b[0;34m\u001b[0m\u001b[0m\n\u001b[0m",
      "\u001b[0;31mPapermillExecutionError\u001b[0m: \n---------------------------------------------------------------------------\nException encountered at \"In [22]\":\n---------------------------------------------------------------------------\nAssertionError                            Traceback (most recent call last)\n<ipython-input-22-83641df2a7df> in <module>\n----> 1 ds = Datasets(items=data.get_items(), tfms=tfms, splits=splits)\n\n/usr/local/lib/python3.6/dist-packages/fastai/data/core.py in __init__(self, items, tfms, tls, n_inp, dl_type, **kwargs)\n    308     def __init__(self, items=None, tfms=None, tls=None, n_inp=None, dl_type=None, **kwargs):\n    309         super().__init__(dl_type=dl_type)\n--> 310         self.tls = L(tls if tls else [TfmdLists(items, t, **kwargs) for t in L(ifnone(tfms,[None]))])\n    311         self.n_inp = ifnone(n_inp, max(1, len(self.tls)-1))\n    312 \n\n/usr/local/lib/python3.6/dist-packages/fastai/data/core.py in <listcomp>(.0)\n    308     def __init__(self, items=None, tfms=None, tls=None, n_inp=None, dl_type=None, **kwargs):\n    309         super().__init__(dl_type=dl_type)\n--> 310         self.tls = L(tls if tls else [TfmdLists(items, t, **kwargs) for t in L(ifnone(tfms,[None]))])\n    311         self.n_inp = ifnone(n_inp, max(1, len(self.tls)-1))\n    312 \n\n/usr/local/lib/python3.6/dist-packages/fastcore/foundation.py in __call__(cls, x, *args, **kwargs)\n    280     def __call__(cls, x=None, *args, **kwargs):\n    281         if not args and not kwargs and x is not None and isinstance(x,cls): return x\n--> 282         return super().__call__(x, *args, **kwargs)\n    283 \n    284 # Cell\n\n/usr/local/lib/python3.6/dist-packages/fastai/data/core.py in __init__(self, items, tfms, use_list, do_setup, split_idx, train_setup, splits, types, verbose, dl_type)\n    234         if do_setup:\n    235             pv(f\"Setting up {self.tfms}\", verbose)\n--> 236             self.setup(train_setup=train_setup)\n    237 \n    238     def _new(self, items, split_idx=None, **kwargs):\n\n/usr/local/lib/python3.6/dist-packages/fastai/data/core.py in setup(self, train_setup)\n    256             for f in self.tfms.fs:\n    257                 self.types.append(getattr(f, 'input_types', type(x)))\n--> 258                 x = f(x)\n    259             self.types.append(type(x))\n    260         types = L(t if is_listy(t) else [t] for t in self.types).concat().unique()\n\n/usr/local/lib/python3.6/dist-packages/fastcore/transform.py in __call__(self, x, **kwargs)\n     71     @property\n     72     def name(self): return getattr(self, '_name', _get_name(self))\n---> 73     def __call__(self, x, **kwargs): return self._call('encodes', x, **kwargs)\n     74     def decode  (self, x, **kwargs): return self._call('decodes', x, **kwargs)\n     75     def __repr__(self): return f'{self.name}:\\nencodes: {self.encodes}decodes: {self.decodes}'\n\n/usr/local/lib/python3.6/dist-packages/fastcore/transform.py in _call(self, fn, x, split_idx, **kwargs)\n     81     def _call(self, fn, x, split_idx=None, **kwargs):\n     82         if split_idx!=self.split_idx and self.split_idx is not None: return x\n---> 83         return self._do_call(getattr(self, fn), x, **kwargs)\n     84 \n     85     def _do_call(self, f, x, **kwargs):\n\n/usr/local/lib/python3.6/dist-packages/fastcore/transform.py in _do_call(self, f, x, **kwargs)\n     87             if f is None: return x\n     88             ret = f.returns_none(x) if hasattr(f,'returns_none') else None\n---> 89             return retain_type(f(x, **kwargs), x, ret)\n     90         res = tuple(self._do_call(f, x_, **kwargs) for x_ in x)\n     91         return retain_type(res, x)\n\n/usr/local/lib/python3.6/dist-packages/fastcore/dispatch.py in retain_type(new, old, typ, copy_meta)\n    198     # e.g. old is TensorImage, new is Tensor - if not subclass then do nothing\n    199     if new is None: return\n--> 200     assert old is not None or typ is not None\n    201     if typ is None:\n    202         if not isinstance(old, type(new)): return new\n\nAssertionError: \n"
     ]
    }
   ],
   "source": [
    "x_next_epsilon()"
   ]
  },
  {
   "cell_type": "markdown",
   "metadata": {},
   "source": [
    "## Try different validation datasets"
   ]
  },
  {
   "cell_type": "code",
   "execution_count": null,
   "metadata": {},
   "outputs": [],
   "source": [
    "x_val_datasets = {\n",
    "    'name': 'x_val_datasets',\n",
    "    'description': 'Test different validation datasets,  \\\n",
    "                    keeping the training set constant',\n",
    "    'method': 'grid',\n",
    "    'metric': {\n",
    "        'name': 'accuracy',\n",
    "        'goal': 'maximize'\n",
    "    },\n",
    "    'parameters': {\n",
    "        'val_ds': {\n",
    "            'distribution': 'categorical',\n",
    "            'values': ['eps=0.021', 'eps=0.022', 'eps=0.023', 'eps=0.024', 'eps=0.025']\n",
    "        }\n",
    "    }\n",
    "}"
   ]
  },
  {
   "cell_type": "markdown",
   "metadata": {},
   "source": [
    "## x_next_epsilon"
   ]
  },
  {
   "cell_type": "code",
   "execution_count": null,
   "metadata": {},
   "outputs": [],
   "source": [
    "x_next_epsilon = {\n",
    "    'name': 'x_next_epsilon',\n",
    "    'description': 'keeping the training set constant to eps=0.021, validate on incremental \\\n",
    "    values of epsilon from eps=0.021 (training=validaton) to eps=0.025, to see how the distance \\\n",
    "    to the training parameters affect performance.',\n",
    "    'method': 'grid',\n",
    "    'metric': {\n",
    "        'name': 'accuracy',\n",
    "        'goal': 'maximize'\n",
    "    },\n",
    "    'parameters': {\n",
    "        'val_ds': {\n",
    "            'distribution': 'categorical',\n",
    "            'values': ['eps=0.021', 'eps=0.022', 'eps=0.023', 'eps=0.024', 'eps=0.025']\n",
    "        }\n",
    "    }\n",
    "}"
   ]
  },
  {
   "cell_type": "code",
   "execution_count": null,
   "metadata": {},
   "outputs": [],
   "source": [
    "sweep_id=wandb.sweep(x_next_epsilon, project='mlchaos')"
   ]
  },
  {
   "cell_type": "code",
   "execution_count": null,
   "metadata": {},
   "outputs": [],
   "source": [
    "wandb.agent(sweep_id,\n",
    "            function=partial(pm.execute_notebook, \n",
    "                             input_path='./_motion_classification_time_series.ipynb', \n",
    "                             output_path='__.ipynb', \n",
    "                             parameters=dict(\n",
    "                                 fnames_poinc_map=['/home/user/data/fli_rotnum/model_1/eps=0.021/Poincare.plt'],\n",
    "                                 fnames_index=['/home/user/data/fli_rotnum/model_1/eps=0.021/index_fli_rotnum_birav.plt'], \n",
    "                                 resampling_period=2, \n",
    "                                 use_wandb=True)\n",
    "                            ))"
   ]
  },
  {
   "cell_type": "code",
   "execution_count": null,
   "metadata": {},
   "outputs": [],
   "source": []
  },
  {
   "cell_type": "markdown",
   "metadata": {},
   "source": [
    "## Analyse the effect of the labelling method"
   ]
  },
  {
   "cell_type": "code",
   "execution_count": null,
   "metadata": {},
   "outputs": [],
   "source": [
    "%nbdev_export experiments\n",
    "@call_parse\n",
    "def x_labelling_method(rep_times:Param(\"Number of times to run per experiment\", int)=10,\n",
    "                      nbs_folder:Param(\"Notebook folder path\", str)='.'):\n",
    "    for lbl_method in ['fli', 'freq_ana', 'birkhoff_avg']:\n",
    "        for _ in range(rep_times):\n",
    "            pm.execute_notebook(input_path=f'{Path(nbs_folder)}/_motion_classification_time_series.ipynb',\n",
    "                                output_path='--',\n",
    "                                parameters=dict(\n",
    "                                    use_wandb=True,\n",
    "                                    wandb_group='x_labelling_method',\n",
    "                                    labelling_method=lbl_method\n",
    "                                ))"
   ]
  }
 ],
 "metadata": {
  "kernelspec": {
   "display_name": "Python 3",
   "language": "python",
   "name": "python3"
  }
 },
 "nbformat": 4,
 "nbformat_minor": 4
}
