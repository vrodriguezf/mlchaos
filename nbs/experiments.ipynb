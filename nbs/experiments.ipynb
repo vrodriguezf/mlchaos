{
 "cells": [
  {
   "cell_type": "code",
   "execution_count": null,
   "metadata": {},
   "outputs": [],
   "source": [
    "#default_exp experiments"
   ]
  },
  {
   "cell_type": "markdown",
   "metadata": {},
   "source": [
    "# Experiments\n",
    "\n",
    "> Experiments to be run as CLI scripts (too long to run in a Jupyter session)"
   ]
  },
  {
   "cell_type": "code",
   "execution_count": null,
   "metadata": {},
   "outputs": [],
   "source": [
    "#export\n",
    "import papermill as pm\n",
    "import numpy as np\n",
    "from fastcore.all import *"
   ]
  },
  {
   "cell_type": "code",
   "execution_count": null,
   "metadata": {},
   "outputs": [],
   "source": [
    "import wandb\n",
    "import numpy as np"
   ]
  },
  {
   "cell_type": "markdown",
   "metadata": {},
   "source": [
    "### Analyse the impact of the number of points on the performance of the motion classifier"
   ]
  },
  {
   "cell_type": "markdown",
   "metadata": {},
   "source": [
    "The results will be logged in a run group in wandb, and from there the visualizations will be made"
   ]
  },
  {
   "cell_type": "code",
   "execution_count": null,
   "metadata": {},
   "outputs": [],
   "source": [
    "#export experiments\n",
    "@call_parse\n",
    "def x_sequence_length(min_rp:Param(\"Minimum resampling period\", int)=1,\n",
    "                      max_rp:Param(\"Maximum resampling period\", int)=10,\n",
    "                      rep_times:Param(\"Number of times ru run per rp\", int)=10,\n",
    "                      nbs_folder:Param(\"Notebook folder path\", str)='.'):\n",
    "    for x in range(min_rp, max_rp+1):\n",
    "        for _ in range(rep_times):\n",
    "            pm.execute_notebook(input_path=f'{Path(nbs_folder)}/_motion_classification_time_series.ipynb',\n",
    "                                output_path='--',\n",
    "                                parameters=dict(\n",
    "                                    use_wandb=True,\n",
    "                                    wandb_group='x_sequence_length',\n",
    "                                    resampling_period=x\n",
    "                                ))"
   ]
  },
  {
   "cell_type": "code",
   "execution_count": null,
   "metadata": {},
   "outputs": [],
   "source": [
    "%%capture\n",
    "x_sequence_length(max_rp=2, rep_times=1)"
   ]
  },
  {
   "cell_type": "markdown",
   "metadata": {},
   "source": [
    "### Analyse how the inclusion of more and more data helps to predict better the motions of the next epsilon (x_next_epsilon)"
   ]
  },
  {
   "cell_type": "code",
   "execution_count": null,
   "metadata": {},
   "outputs": [],
   "source": [
    "#export experiments\n",
    "@call_parse\n",
    "def x_next_epsilon(nbs_folder:Param(\"Notebook folder path\", str)='.'):\n",
    "    base_path = Path.home()\n",
    "    ds_path = base_path/'data/fli_rotnum/model_1'\n",
    "    fnames = L(\n",
    "        (ds_path/'eps=0.021/Poincare.plt', ds_path/'eps=0.021/index_fli_rotnum_birav.plt'),\n",
    "        (ds_path/'eps=0.022/Poincare.plt', ds_path/'eps=0.022/index_fli_rotnum_birav.plt'),\n",
    "        (ds_path/'eps=0.023/Poincare.plt', ds_path/'eps=0.023/index_fli_rotnum_birav.plt'),\n",
    "        (ds_path/'eps=0.024/Poincare.plt', ds_path/'eps=0.024/index_fli_rotnum_birav.plt'),\n",
    "        (ds_path/'eps=0.025/Poincare.plt', ds_path/'eps=0.025/index_fli_rotnum_birav.plt'),\n",
    "    )\n",
    "    for i in range(2, len(fnames)+1):\n",
    "        x_input = L(fnames[:i])\n",
    "        val_dataset = x_input[-1][0].parent.name\n",
    "        print(val_dataset)\n",
    "        pm.execute_notebook(input_path=f'{Path(nbs_folder)}/_motion_classification_time_series.ipynb',\n",
    "                            output_path='./__.ipynb',\n",
    "                            parameters=dict(\n",
    "                                use_wandb=True,\n",
    "                                wandb_group='x_next_epsilon',\n",
    "                                val_dataset = val_dataset,\n",
    "                                fnames_poinc_map=list(x_input.itemgot(0).map(str)),\n",
    "                                fnames_index=list(x_input.itemgot(1).map(str))\n",
    "                            ))"
   ]
  },
  {
   "cell_type": "code",
   "execution_count": null,
   "metadata": {},
   "outputs": [],
   "source": [
    "x_next_epsilon()"
   ]
  },
  {
   "cell_type": "markdown",
   "metadata": {},
   "source": [
    "## Try different validation datasets"
   ]
  },
  {
   "cell_type": "code",
   "execution_count": null,
   "metadata": {},
   "outputs": [],
   "source": [
    "x_val_datasets = {\n",
    "    'name': 'x_val_datasets',\n",
    "    'description': 'Test different validation datasets,  \\\n",
    "                    keeping the training set constant',\n",
    "    'method': 'grid',\n",
    "    'metric': {\n",
    "        'name': 'accuracy',\n",
    "        'goal': 'maximize'\n",
    "    },\n",
    "    'parameters': {\n",
    "        'val_ds': {\n",
    "            'distribution': 'categorical',\n",
    "            'values': ['eps=0.021', 'eps=0.022', 'eps=0.023', 'eps=0.024', 'eps=0.025']\n",
    "        }\n",
    "    }\n",
    "}"
   ]
  },
  {
   "cell_type": "markdown",
   "metadata": {},
   "source": [
    "## x_next_epsilon"
   ]
  },
  {
   "cell_type": "code",
   "execution_count": null,
   "metadata": {},
   "outputs": [],
   "source": [
    "x_next_epsilon = {\n",
    "    'name': 'x_next_epsilon',\n",
    "    'description': 'keeping the training set constant to eps=0.021, validate on incremental \\\n",
    "    values of epsilon from eps=0.021 (training=validaton) to eps=0.025, to see how the distance \\\n",
    "    to the training parameters affect performance.',\n",
    "    'method': 'grid',\n",
    "    'metric': {\n",
    "        'name': 'accuracy',\n",
    "        'goal': 'maximize'\n",
    "    },\n",
    "    'parameters': {\n",
    "        'val_ds': {\n",
    "            'distribution': 'categorical',\n",
    "            'values': ['eps=0.021', 'eps=0.022', 'eps=0.023', 'eps=0.024', 'eps=0.025']\n",
    "        }\n",
    "    }\n",
    "}"
   ]
  },
  {
   "cell_type": "code",
   "execution_count": null,
   "metadata": {},
   "outputs": [],
   "source": [
    "sweep_id=wandb.sweep(x_next_epsilon, project='mlchaos')"
   ]
  },
  {
   "cell_type": "code",
   "execution_count": null,
   "metadata": {},
   "outputs": [],
   "source": [
    "wandb.agent(sweep_id,\n",
    "            function=partial(pm.execute_notebook, \n",
    "                             input_path='./_motion_classification_time_series.ipynb', \n",
    "                             output_path='__.ipynb', \n",
    "                             parameters=dict(\n",
    "                                 fnames_poinc_map=['/home/user/data/fli_rotnum/model_1/eps=0.021/Poincare.plt'],\n",
    "                                 fnames_index=['/home/user/data/fli_rotnum/model_1/eps=0.021/index_fli_rotnum_birav.plt'], \n",
    "                                 resampling_period=2, \n",
    "                                 use_wandb=True)\n",
    "                            ))"
   ]
  },
  {
   "cell_type": "markdown",
   "metadata": {},
   "source": [
    "## Analyse the effect of the labelling method"
   ]
  },
  {
   "cell_type": "code",
   "execution_count": null,
   "metadata": {},
   "outputs": [],
   "source": [
    "x_labelling_method = {\n",
    "    'name': 'x_labelling_method',\n",
    "    'description': 'Try different labelling methods, possibly over different validation sets',\n",
    "    'method': 'grid',\n",
    "    'metric': {\n",
    "        'name': 'accuracy',\n",
    "        'goal': 'maximize'\n",
    "    },\n",
    "    'parameters': {\n",
    "        'labelling_method': {\n",
    "            'distribution': 'categorical',\n",
    "            'values': ['fli', 'fli_no_uncertainty', 'freq_ana_eq_3.5', 'freq_ana_eq_3.6', 'birav']\n",
    "        },\n",
    "        'val_ds': {\n",
    "            'distribution': 'categorical',\n",
    "            'values': list(L(np.arange(0.021, 0.026, 0.001).round(3), use_list=True).map('eps={}'))\n",
    "        }\n",
    "    }\n",
    "}"
   ]
  },
  {
   "cell_type": "code",
   "execution_count": null,
   "metadata": {},
   "outputs": [],
   "source": [
    "# list(L(np.arange(0.021, 0.026, 0.001).round(3), use_list=True).map('eps={}'))"
   ]
  },
  {
   "cell_type": "code",
   "execution_count": null,
   "metadata": {},
   "outputs": [],
   "source": [
    "sweep_id=wandb.sweep(x_labelling_method)"
   ]
  },
  {
   "cell_type": "code",
   "execution_count": null,
   "metadata": {},
   "outputs": [
    {
     "name": "stderr",
     "output_type": "stream",
     "text": [
      "\u001b[34m\u001b[1mwandb\u001b[0m: Agent Starting Run: 0hrk0h7w with config:\n",
      "\u001b[34m\u001b[1mwandb\u001b[0m: \tlabelling_method: freq_ana_eq_3.5\n",
      "\u001b[34m\u001b[1mwandb\u001b[0m: \tval_ds: eps=0.023\n"
     ]
    },
    {
     "data": {
      "application/vnd.jupyter.widget-view+json": {
       "model_id": "e5331879473244abb8678654ee9cd233",
       "version_major": 2,
       "version_minor": 0
      },
      "text/plain": [
       "HBox(children=(HTML(value='Executing'), FloatProgress(value=0.0), HTML(value='')))"
      ]
     },
     "metadata": {},
     "output_type": "display_data"
    },
    {
     "name": "stdout",
     "output_type": "stream",
     "text": [
      "\n"
     ]
    },
    {
     "name": "stderr",
     "output_type": "stream",
     "text": [
      "\u001b[34m\u001b[1mwandb\u001b[0m: Agent Starting Run: ieckvslg with config:\n",
      "\u001b[34m\u001b[1mwandb\u001b[0m: \tlabelling_method: freq_ana_eq_3.5\n",
      "\u001b[34m\u001b[1mwandb\u001b[0m: \tval_ds: eps=0.024\n"
     ]
    },
    {
     "data": {
      "application/vnd.jupyter.widget-view+json": {
       "model_id": "5d05a6c6b2eb4a72a91e1039b8b295b1",
       "version_major": 2,
       "version_minor": 0
      },
      "text/plain": [
       "HBox(children=(HTML(value='Executing'), FloatProgress(value=0.0), HTML(value='')))"
      ]
     },
     "metadata": {},
     "output_type": "display_data"
    },
    {
     "name": "stdout",
     "output_type": "stream",
     "text": [
      "\n"
     ]
    },
    {
     "name": "stderr",
     "output_type": "stream",
     "text": [
      "\u001b[34m\u001b[1mwandb\u001b[0m: Agent Starting Run: 4e3m1d92 with config:\n",
      "\u001b[34m\u001b[1mwandb\u001b[0m: \tlabelling_method: freq_ana_eq_3.5\n",
      "\u001b[34m\u001b[1mwandb\u001b[0m: \tval_ds: eps=0.025\n"
     ]
    },
    {
     "data": {
      "application/vnd.jupyter.widget-view+json": {
       "model_id": "848511aad58e40d58988a191e64c905a",
       "version_major": 2,
       "version_minor": 0
      },
      "text/plain": [
       "HBox(children=(HTML(value='Executing'), FloatProgress(value=0.0), HTML(value='')))"
      ]
     },
     "metadata": {},
     "output_type": "display_data"
    },
    {
     "name": "stdout",
     "output_type": "stream",
     "text": [
      "\n"
     ]
    },
    {
     "name": "stderr",
     "output_type": "stream",
     "text": [
      "\u001b[34m\u001b[1mwandb\u001b[0m: Agent Starting Run: 96e8ad4o with config:\n",
      "\u001b[34m\u001b[1mwandb\u001b[0m: \tlabelling_method: freq_ana_eq_3.6\n",
      "\u001b[34m\u001b[1mwandb\u001b[0m: \tval_ds: eps=0.021\n"
     ]
    },
    {
     "data": {
      "application/vnd.jupyter.widget-view+json": {
       "model_id": "ba857692bd6141b3a410bcfc65286162",
       "version_major": 2,
       "version_minor": 0
      },
      "text/plain": [
       "HBox(children=(HTML(value='Executing'), FloatProgress(value=0.0), HTML(value='')))"
      ]
     },
     "metadata": {},
     "output_type": "display_data"
    },
    {
     "name": "stdout",
     "output_type": "stream",
     "text": [
      "\n"
     ]
    },
    {
     "name": "stderr",
     "output_type": "stream",
     "text": [
      "\u001b[34m\u001b[1mwandb\u001b[0m: Agent Starting Run: kjjhp79j with config:\n",
      "\u001b[34m\u001b[1mwandb\u001b[0m: \tlabelling_method: freq_ana_eq_3.6\n",
      "\u001b[34m\u001b[1mwandb\u001b[0m: \tval_ds: eps=0.022\n"
     ]
    },
    {
     "data": {
      "application/vnd.jupyter.widget-view+json": {
       "model_id": "3b09913c31fa4c1aa9bc70056b3983b1",
       "version_major": 2,
       "version_minor": 0
      },
      "text/plain": [
       "HBox(children=(HTML(value='Executing'), FloatProgress(value=0.0), HTML(value='')))"
      ]
     },
     "metadata": {},
     "output_type": "display_data"
    },
    {
     "name": "stdout",
     "output_type": "stream",
     "text": [
      "\n"
     ]
    },
    {
     "name": "stderr",
     "output_type": "stream",
     "text": [
      "\u001b[34m\u001b[1mwandb\u001b[0m: Agent Starting Run: zp9g2ynd with config:\n",
      "\u001b[34m\u001b[1mwandb\u001b[0m: \tlabelling_method: freq_ana_eq_3.6\n",
      "\u001b[34m\u001b[1mwandb\u001b[0m: \tval_ds: eps=0.023\n"
     ]
    },
    {
     "data": {
      "application/vnd.jupyter.widget-view+json": {
       "model_id": "0ddd9d624d47486fad86c3d429189156",
       "version_major": 2,
       "version_minor": 0
      },
      "text/plain": [
       "HBox(children=(HTML(value='Executing'), FloatProgress(value=0.0), HTML(value='')))"
      ]
     },
     "metadata": {},
     "output_type": "display_data"
    },
    {
     "name": "stdout",
     "output_type": "stream",
     "text": [
      "\n"
     ]
    },
    {
     "name": "stderr",
     "output_type": "stream",
     "text": [
      "\u001b[34m\u001b[1mwandb\u001b[0m: Agent Starting Run: bo6bwl8x with config:\n",
      "\u001b[34m\u001b[1mwandb\u001b[0m: \tlabelling_method: freq_ana_eq_3.6\n",
      "\u001b[34m\u001b[1mwandb\u001b[0m: \tval_ds: eps=0.024\n"
     ]
    },
    {
     "data": {
      "application/vnd.jupyter.widget-view+json": {
       "model_id": "12f93e0f4143495c909bfb6ed88cd25f",
       "version_major": 2,
       "version_minor": 0
      },
      "text/plain": [
       "HBox(children=(HTML(value='Executing'), FloatProgress(value=0.0), HTML(value='')))"
      ]
     },
     "metadata": {},
     "output_type": "display_data"
    },
    {
     "name": "stdout",
     "output_type": "stream",
     "text": [
      "\n"
     ]
    },
    {
     "name": "stderr",
     "output_type": "stream",
     "text": [
      "\u001b[34m\u001b[1mwandb\u001b[0m: Agent Starting Run: xaywdb32 with config:\n",
      "\u001b[34m\u001b[1mwandb\u001b[0m: \tlabelling_method: freq_ana_eq_3.6\n",
      "\u001b[34m\u001b[1mwandb\u001b[0m: \tval_ds: eps=0.025\n"
     ]
    },
    {
     "data": {
      "application/vnd.jupyter.widget-view+json": {
       "model_id": "57476bc167354e69a86f6336f9c0ac79",
       "version_major": 2,
       "version_minor": 0
      },
      "text/plain": [
       "HBox(children=(HTML(value='Executing'), FloatProgress(value=0.0), HTML(value='')))"
      ]
     },
     "metadata": {},
     "output_type": "display_data"
    },
    {
     "name": "stdout",
     "output_type": "stream",
     "text": [
      "\n"
     ]
    },
    {
     "name": "stderr",
     "output_type": "stream",
     "text": [
      "\u001b[34m\u001b[1mwandb\u001b[0m: Agent Starting Run: yop0hb6r with config:\n",
      "\u001b[34m\u001b[1mwandb\u001b[0m: \tlabelling_method: birav\n",
      "\u001b[34m\u001b[1mwandb\u001b[0m: \tval_ds: eps=0.021\n"
     ]
    },
    {
     "data": {
      "application/vnd.jupyter.widget-view+json": {
       "model_id": "8009829bf63b4b8ca9d0b6b22e2d19f6",
       "version_major": 2,
       "version_minor": 0
      },
      "text/plain": [
       "HBox(children=(HTML(value='Executing'), FloatProgress(value=0.0), HTML(value='')))"
      ]
     },
     "metadata": {},
     "output_type": "display_data"
    },
    {
     "name": "stdout",
     "output_type": "stream",
     "text": [
      "\n"
     ]
    },
    {
     "name": "stderr",
     "output_type": "stream",
     "text": [
      "\u001b[34m\u001b[1mwandb\u001b[0m: Agent Starting Run: 4i8f6w98 with config:\n",
      "\u001b[34m\u001b[1mwandb\u001b[0m: \tlabelling_method: birav\n",
      "\u001b[34m\u001b[1mwandb\u001b[0m: \tval_ds: eps=0.022\n"
     ]
    },
    {
     "data": {
      "application/vnd.jupyter.widget-view+json": {
       "model_id": "5c74c651a39c4637b0ed28fd82d033ce",
       "version_major": 2,
       "version_minor": 0
      },
      "text/plain": [
       "HBox(children=(HTML(value='Executing'), FloatProgress(value=0.0), HTML(value='')))"
      ]
     },
     "metadata": {},
     "output_type": "display_data"
    },
    {
     "name": "stdout",
     "output_type": "stream",
     "text": [
      "\n"
     ]
    },
    {
     "name": "stderr",
     "output_type": "stream",
     "text": [
      "\u001b[34m\u001b[1mwandb\u001b[0m: Agent Starting Run: au13qt77 with config:\n",
      "\u001b[34m\u001b[1mwandb\u001b[0m: \tlabelling_method: birav\n",
      "\u001b[34m\u001b[1mwandb\u001b[0m: \tval_ds: eps=0.023\n"
     ]
    },
    {
     "data": {
      "application/vnd.jupyter.widget-view+json": {
       "model_id": "6241585f52a04f17ae7d4e545c3b9c0a",
       "version_major": 2,
       "version_minor": 0
      },
      "text/plain": [
       "HBox(children=(HTML(value='Executing'), FloatProgress(value=0.0), HTML(value='')))"
      ]
     },
     "metadata": {},
     "output_type": "display_data"
    },
    {
     "name": "stdout",
     "output_type": "stream",
     "text": [
      "\n"
     ]
    },
    {
     "name": "stderr",
     "output_type": "stream",
     "text": [
      "\u001b[34m\u001b[1mwandb\u001b[0m: Agent Starting Run: fkptwpd1 with config:\n",
      "\u001b[34m\u001b[1mwandb\u001b[0m: \tlabelling_method: birav\n",
      "\u001b[34m\u001b[1mwandb\u001b[0m: \tval_ds: eps=0.024\n"
     ]
    },
    {
     "data": {
      "application/vnd.jupyter.widget-view+json": {
       "model_id": "422e3a791f8e4b3595cd425796b4b2e1",
       "version_major": 2,
       "version_minor": 0
      },
      "text/plain": [
       "HBox(children=(HTML(value='Executing'), FloatProgress(value=0.0), HTML(value='')))"
      ]
     },
     "metadata": {},
     "output_type": "display_data"
    },
    {
     "name": "stdout",
     "output_type": "stream",
     "text": [
      "\n"
     ]
    },
    {
     "name": "stderr",
     "output_type": "stream",
     "text": [
      "\u001b[34m\u001b[1mwandb\u001b[0m: Agent Starting Run: faj7ujgu with config:\n",
      "\u001b[34m\u001b[1mwandb\u001b[0m: \tlabelling_method: birav\n",
      "\u001b[34m\u001b[1mwandb\u001b[0m: \tval_ds: eps=0.025\n"
     ]
    },
    {
     "data": {
      "application/vnd.jupyter.widget-view+json": {
       "model_id": "3b30fc53e9934a4d825d53f6d7a002d4",
       "version_major": 2,
       "version_minor": 0
      },
      "text/plain": [
       "HBox(children=(HTML(value='Executing'), FloatProgress(value=0.0), HTML(value='')))"
      ]
     },
     "metadata": {},
     "output_type": "display_data"
    },
    {
     "name": "stdout",
     "output_type": "stream",
     "text": [
      "\n"
     ]
    },
    {
     "name": "stderr",
     "output_type": "stream",
     "text": [
      "\u001b[34m\u001b[1mwandb\u001b[0m: Sweep Agent: Waiting for job.\n",
      "\u001b[34m\u001b[1mwandb\u001b[0m: Sweep Agent: Exiting.\n"
     ]
    }
   ],
   "source": [
    "wandb.agent('1qg2e9i4',\n",
    "            project='mlchaos',\n",
    "            function=partial(pm.execute_notebook, \n",
    "                             input_path='./_motion_classification_time_series.ipynb', \n",
    "                             output_path='__.ipynb', \n",
    "                             parameters=dict(\n",
    "                                 wandb_group='x_labelling_method',\n",
    "                                 resampling_period=4, \n",
    "                                 use_wandb=True)\n",
    "                            ))"
   ]
  }
 ],
 "metadata": {
  "kernelspec": {
   "display_name": "Python 3",
   "language": "python",
   "name": "python3"
  },
  "language_info": {
   "codemirror_mode": {
    "name": "ipython",
    "version": 3
   },
   "file_extension": ".py",
   "mimetype": "text/x-python",
   "name": "python",
   "nbconvert_exporter": "python",
   "pygments_lexer": "ipython3",
   "version": "3.8.5"
  }
 },
 "nbformat": 4,
 "nbformat_minor": 4
}
