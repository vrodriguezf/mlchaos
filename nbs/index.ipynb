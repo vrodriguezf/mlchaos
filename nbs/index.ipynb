{
  "nbformat": 4,
  "nbformat_minor": 0,
  "metadata": {
    "kernelspec": {
      "display_name": "Python 3",
      "language": "python",
      "name": "python3"
    },
    "colab": {
      "name": "index.ipynb",
      "provenance": []
    }
  },
  "cells": [
    {
      "cell_type": "code",
      "metadata": {
        "id": "99wi0Lgj4IaF",
        "colab_type": "code",
        "colab": {}
      },
      "source": [
        "#hide"
      ],
      "execution_count": null,
      "outputs": []
    },
    {
      "cell_type": "markdown",
      "metadata": {
        "id": "m26bVHjk4Iad",
        "colab_type": "text"
      },
      "source": [
        "# MLchaos\n",
        "\n",
        "> Studying the use of machine learning techniques to characterize chaotic orbits"
      ]
    },
    {
      "cell_type": "markdown",
      "metadata": {
        "id": "vfUWnY4V4Iag",
        "colab_type": "text"
      },
      "source": [
        "This file will become your README and also the index of your documentation."
      ]
    },
    {
      "cell_type": "markdown",
      "metadata": {
        "id": "yxnQtlWn4Iaj",
        "colab_type": "text"
      },
      "source": [
        "## Install"
      ]
    },
    {
      "cell_type": "markdown",
      "metadata": {
        "id": "39e3UoUf4Ian",
        "colab_type": "text"
      },
      "source": [
        "`pip install mlchaos`"
      ]
    },
    {
      "cell_type": "markdown",
      "metadata": {
        "id": "-sSV1Cki4Iaq",
        "colab_type": "text"
      },
      "source": [
        "## How to use"
      ]
    },
    {
      "cell_type": "markdown",
      "metadata": {
        "id": "dolRcn9O4Ias",
        "colab_type": "text"
      },
      "source": [
        "Fill me in please! Don't forget code examples:"
      ]
    },
    {
      "cell_type": "code",
      "metadata": {
        "id": "d494nKHx4Iau",
        "colab_type": "code",
        "colab": {},
        "outputId": "bbb5ffc7-9f02-4840-cb29-7391c13c7b9f"
      },
      "source": [
        "1+1"
      ],
      "execution_count": null,
      "outputs": [
        {
          "output_type": "execute_result",
          "data": {
            "text/plain": [
              "2"
            ]
          },
          "metadata": {
            "tags": []
          },
          "execution_count": 0
        }
      ]
    },
    {
      "cell_type": "code",
      "metadata": {
        "id": "46zZnK5A4Ia5",
        "colab_type": "code",
        "colab": {}
      },
      "source": [
        ""
      ],
      "execution_count": null,
      "outputs": []
    }
  ]
}