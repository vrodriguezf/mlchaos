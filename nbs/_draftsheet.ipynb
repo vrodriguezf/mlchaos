{
 "cells": [
  {
   "cell_type": "markdown",
   "metadata": {},
   "source": [
    "# Draftsheet "
   ]
  },
  {
   "cell_type": "code",
   "execution_count": null,
   "metadata": {},
   "outputs": [],
   "source": [
    "from fastcore.all import *\n",
    "import wandb\n",
    "from plotnine import *\n",
    "import pandas as pd\n",
    "import numpy as np"
   ]
  },
  {
   "cell_type": "markdown",
   "metadata": {},
   "source": [
    "### Get the validation errors of a classification learner, plot them in different ways and store the resulting images to be validated by an expert"
   ]
  },
  {
   "cell_type": "code",
   "execution_count": null,
   "metadata": {},
   "outputs": [],
   "source": [
    "from PIL import Image  \n",
    "import PIL\n",
    "from fastcore.all import *"
   ]
  },
  {
   "cell_type": "code",
   "execution_count": null,
   "metadata": {},
   "outputs": [],
   "source": [
    "def buffer_plot_and_get(fig):\n",
    "    buf = io.BytesIO()\n",
    "    fig.savefig(buf)\n",
    "    buf.seek(0)\n",
    "    return PIL.Image.open(buf)"
   ]
  },
  {
   "cell_type": "code",
   "execution_count": null,
   "metadata": {},
   "outputs": [],
   "source": [
    "def get_concat_h_multi_resize(im_list, resample=PIL.Image.BICUBIC):\n",
    "    min_height = min(im.height for im in im_list)\n",
    "    im_list_resize = [im.resize((int(im.width * min_height / im.height), min_height),resample=resample)\n",
    "                      for im in im_list]\n",
    "    total_width = sum(im.width for im in im_list_resize)\n",
    "    dst = PIL.Image.new('RGB', (total_width, min_height))\n",
    "    pos_x = 0\n",
    "    for im in im_list_resize:\n",
    "        dst.paste(im, (pos_x, 0))\n",
    "        pos_x += im.width\n",
    "    return dst"
   ]
  },
  {
   "cell_type": "code",
   "execution_count": null,
   "metadata": {},
   "outputs": [],
   "source": [
    "def get_multiview_at(ds, idx, ylim):\n",
    "    \"TODO: Move this to TensorMotion?\"\n",
    "    fig1 = show_at(ds, idx, return_fig=True, ylim=ylim)\n",
    "    fig2 = show_at(ds, idx, return_fig=True)\n",
    "    fig3 = show_at(ds, idx, mode='stacked', return_fig=True)\n",
    "    pils = [buffer_plot_and_get(fig) for fig in [fig1, fig2, fig3]]\n",
    "    return get_concat_h_multi_resize(pils)"
   ]
  },
  {
   "cell_type": "code",
   "execution_count": null,
   "metadata": {},
   "outputs": [],
   "source": [
    "import pandas as pd"
   ]
  },
  {
   "cell_type": "code",
   "execution_count": null,
   "metadata": {},
   "outputs": [],
   "source": [
    "def generate_classification_error_report(learn, folder, ylim):\n",
    "    \"Warning: Call this function with the %%capture magic, otherwise you will be \\\n",
    "    prompted with all the outputs from the calls to `show`. Requires xlrd to read xlsx \\\n",
    "    files.\"\n",
    "    probs, targets, preds = learn.get_preds(with_decoded=True)\n",
    "    error_valid_idxs = torch.where(targets!=preds, tensor(1), tensor(0)).nonzero().squeeze()\n",
    "    error_ds_idxs = tensor(learn.dls.dataset.splits[1])[error_valid_idxs]\n",
    "    for valid_idx, ds_idx in zip(error_valid_idxs, error_ds_idxs):\n",
    "        merged_pil = get_multiview_at(learn.dls.valid.dataset, valid_idx, ylim)\n",
    "        folder = Path(folder)\n",
    "        merged_pil.save(f'{folder}/{ds_idx}.png')\n",
    "    # Generate a csv file with the item indices and the targets\n",
    "    preds_decoded = [str(ds.valid.tfms[1].decode(x)) for x in preds[error_valid_idxs]]\n",
    "    targs_decoded = [str(ds.valid.tfms[1].decode(x)) for x in targets[error_valid_idxs]]\n",
    "    rlbl_df = pd.DataFrame(list(zip(error_ds_idxs.numpy(), preds_decoded, targs_decoded)), \n",
    "                       columns=['Item #', 'ML classification', 'FLI-based classification'])\n",
    "    rlbl_path = Path(f'{folder}/relabelling.xlsx')\n",
    "    if rlbl_path.exists():\n",
    "        # Load old relabelling and merge it with the new items\n",
    "        rlbl_df_old = pd.read_excel(rlbl_path)\n",
    "        rlbl_df = pd.concat([rlbl_df, rlbl_df_old]).drop_duplicates()\n",
    "    rlbl_df = rlbl_df.sort_values(by=['Item #'])\n",
    "    rlbl_df.to_excel(rlbl_path, index=False)"
   ]
  },
  {
   "cell_type": "markdown",
   "metadata": {},
   "source": [
    "## Plot results from extrapolation experiment"
   ]
  },
  {
   "cell_type": "code",
   "execution_count": null,
   "metadata": {},
   "outputs": [],
   "source": [
    "api = wandb.Api()"
   ]
  },
  {
   "cell_type": "code",
   "execution_count": null,
   "metadata": {},
   "outputs": [
    {
     "data": {
      "text/plain": [
       "(#120) [<Run vrodriguezf90/mlchaos/wrhnim2f (finished)>,<Run vrodriguezf90/mlchaos/k851eo79 (finished)>,<Run vrodriguezf90/mlchaos/428rajrb (finished)>,<Run vrodriguezf90/mlchaos/aczwuabl (finished)>,<Run vrodriguezf90/mlchaos/f991rqy5 (finished)>,<Run vrodriguezf90/mlchaos/vvgfkctr (finished)>,<Run vrodriguezf90/mlchaos/3vlv3aka (finished)>,<Run vrodriguezf90/mlchaos/zafh6do4 (finished)>,<Run vrodriguezf90/mlchaos/ju2armm4 (finished)>,<Run vrodriguezf90/mlchaos/grlv7llo (finished)>...]"
      ]
     },
     "execution_count": null,
     "metadata": {},
     "output_type": "execute_result"
    }
   ],
   "source": [
    "sweep_paths = [\"vrodriguezf90/mlchaos/sweeps/lwatcf28\", \n",
    "               \"vrodriguezf90/mlchaos/sweeps/29ewkxzx\",\n",
    "              \"vrodriguezf90/mlchaos/sweeps/xzwgf028\"]\n",
    "#sweep_paths = [\"vrodriguezf/mlchaos/sweeps/obkusmv0\", \n",
    "#               \"vrodriguezf/mlchaos/sweeps/zbm7b79g\",\n",
    "#              \"vrodriguezf/mlchaos/sweeps/pybesik5\"]\n",
    "runs = L([api.sweep(path=o).runs for o in sweep_paths]).concat()\n",
    "runs"
   ]
  },
  {
   "cell_type": "code",
   "execution_count": null,
   "metadata": {},
   "outputs": [
    {
     "data": {
      "text/html": [
       "<div>\n",
       "<style scoped>\n",
       "    .dataframe tbody tr th:only-of-type {\n",
       "        vertical-align: middle;\n",
       "    }\n",
       "\n",
       "    .dataframe tbody tr th {\n",
       "        vertical-align: top;\n",
       "    }\n",
       "\n",
       "    .dataframe thead th {\n",
       "        text-align: right;\n",
       "    }\n",
       "</style>\n",
       "<table border=\"1\" class=\"dataframe\">\n",
       "  <thead>\n",
       "    <tr style=\"text-align: right;\">\n",
       "      <th></th>\n",
       "      <th>Trained_on</th>\n",
       "      <th>Tested_on</th>\n",
       "      <th>Test_eps</th>\n",
       "      <th>Accuracy</th>\n",
       "    </tr>\n",
       "  </thead>\n",
       "  <tbody>\n",
       "    <tr>\n",
       "      <th>0</th>\n",
       "      <td>model_1</td>\n",
       "      <td>model_3</td>\n",
       "      <td>eps=0.025</td>\n",
       "      <td>0.714752</td>\n",
       "    </tr>\n",
       "    <tr>\n",
       "      <th>1</th>\n",
       "      <td>model_1</td>\n",
       "      <td>model_2</td>\n",
       "      <td>eps=0.025</td>\n",
       "      <td>0.703605</td>\n",
       "    </tr>\n",
       "    <tr>\n",
       "      <th>2</th>\n",
       "      <td>model_1</td>\n",
       "      <td>model_3</td>\n",
       "      <td>eps=0.02</td>\n",
       "      <td>0.748422</td>\n",
       "    </tr>\n",
       "    <tr>\n",
       "      <th>3</th>\n",
       "      <td>model_1</td>\n",
       "      <td>model_2</td>\n",
       "      <td>eps=0.02</td>\n",
       "      <td>0.760404</td>\n",
       "    </tr>\n",
       "    <tr>\n",
       "      <th>4</th>\n",
       "      <td>model_1</td>\n",
       "      <td>model_3</td>\n",
       "      <td>eps=0.015</td>\n",
       "      <td>0.794905</td>\n",
       "    </tr>\n",
       "    <tr>\n",
       "      <th>...</th>\n",
       "      <td>...</td>\n",
       "      <td>...</td>\n",
       "      <td>...</td>\n",
       "      <td>...</td>\n",
       "    </tr>\n",
       "    <tr>\n",
       "      <th>115</th>\n",
       "      <td>model_3</td>\n",
       "      <td>model_1</td>\n",
       "      <td>eps=0.02</td>\n",
       "      <td>0.975341</td>\n",
       "    </tr>\n",
       "    <tr>\n",
       "      <th>116</th>\n",
       "      <td>model_3</td>\n",
       "      <td>model_2</td>\n",
       "      <td>eps=0.015</td>\n",
       "      <td>0.950388</td>\n",
       "    </tr>\n",
       "    <tr>\n",
       "      <th>117</th>\n",
       "      <td>model_3</td>\n",
       "      <td>model_1</td>\n",
       "      <td>eps=0.015</td>\n",
       "      <td>0.983410</td>\n",
       "    </tr>\n",
       "    <tr>\n",
       "      <th>118</th>\n",
       "      <td>model_3</td>\n",
       "      <td>model_2</td>\n",
       "      <td>eps=0.01</td>\n",
       "      <td>0.922177</td>\n",
       "    </tr>\n",
       "    <tr>\n",
       "      <th>119</th>\n",
       "      <td>model_3</td>\n",
       "      <td>model_1</td>\n",
       "      <td>eps=0.01</td>\n",
       "      <td>0.986663</td>\n",
       "    </tr>\n",
       "  </tbody>\n",
       "</table>\n",
       "<p>120 rows × 4 columns</p>\n",
       "</div>"
      ],
      "text/plain": [
       "    Trained_on Tested_on   Test_eps  Accuracy\n",
       "0      model_1   model_3  eps=0.025  0.714752\n",
       "1      model_1   model_2  eps=0.025  0.703605\n",
       "2      model_1   model_3   eps=0.02  0.748422\n",
       "3      model_1   model_2   eps=0.02  0.760404\n",
       "4      model_1   model_3  eps=0.015  0.794905\n",
       "..         ...       ...        ...       ...\n",
       "115    model_3   model_1   eps=0.02  0.975341\n",
       "116    model_3   model_2  eps=0.015  0.950388\n",
       "117    model_3   model_1  eps=0.015  0.983410\n",
       "118    model_3   model_2   eps=0.01  0.922177\n",
       "119    model_3   model_1   eps=0.01  0.986663\n",
       "\n",
       "[120 rows x 4 columns]"
      ]
     },
     "execution_count": null,
     "metadata": {},
     "output_type": "execute_result"
    }
   ],
   "source": [
    "df = pd.DataFrame({\n",
    "    'Trained_on': runs.map(lambda o: o.config['train_model']), \n",
    "    'Tested_on': runs.map(lambda o: o.config['test_model']),\n",
    "    'Test_eps': runs.map(lambda o: o.config['test_eps']),\n",
    "    'Accuracy': runs.map(lambda o: o.summary.get('test_acc'))\n",
    "})\n",
    "df"
   ]
  },
  {
   "cell_type": "code",
   "execution_count": null,
   "metadata": {},
   "outputs": [],
   "source": [
    "df['Trained_on'] = np.select(\n",
    "    [\n",
    "        df['Trained_on'] == 'model_1', \n",
    "        df['Trained_on'] == 'model_2', \n",
    "        df['Trained_on'] == 'model_3'\n",
    "    ],\n",
    "    ['H2', 'H3', 'H4']\n",
    ")\n",
    "df['Tested_on'] = np.select(\n",
    "    [\n",
    "        df['Tested_on'] == 'model_1', \n",
    "        df['Tested_on'] == 'model_2', \n",
    "        df['Tested_on'] == 'model_3'\n",
    "    ],\n",
    "    ['H2', 'H3', 'H4']\n",
    ")"
   ]
  },
  {
   "cell_type": "markdown",
   "metadata": {},
   "source": [
    "Filter runs that have None Accuracy"
   ]
  },
  {
   "cell_type": "code",
   "execution_count": null,
   "metadata": {},
   "outputs": [
    {
     "data": {
      "text/html": [
       "<div>\n",
       "<style scoped>\n",
       "    .dataframe tbody tr th:only-of-type {\n",
       "        vertical-align: middle;\n",
       "    }\n",
       "\n",
       "    .dataframe tbody tr th {\n",
       "        vertical-align: top;\n",
       "    }\n",
       "\n",
       "    .dataframe thead th {\n",
       "        text-align: right;\n",
       "    }\n",
       "</style>\n",
       "<table border=\"1\" class=\"dataframe\">\n",
       "  <thead>\n",
       "    <tr style=\"text-align: right;\">\n",
       "      <th></th>\n",
       "      <th>Trained_on</th>\n",
       "      <th>Tested_on</th>\n",
       "      <th>Test_eps</th>\n",
       "      <th>Accuracy</th>\n",
       "    </tr>\n",
       "  </thead>\n",
       "  <tbody>\n",
       "    <tr>\n",
       "      <th>0</th>\n",
       "      <td>H2</td>\n",
       "      <td>H4</td>\n",
       "      <td>eps=0.025</td>\n",
       "      <td>0.714752</td>\n",
       "    </tr>\n",
       "    <tr>\n",
       "      <th>1</th>\n",
       "      <td>H2</td>\n",
       "      <td>H3</td>\n",
       "      <td>eps=0.025</td>\n",
       "      <td>0.703605</td>\n",
       "    </tr>\n",
       "    <tr>\n",
       "      <th>2</th>\n",
       "      <td>H2</td>\n",
       "      <td>H4</td>\n",
       "      <td>eps=0.02</td>\n",
       "      <td>0.748422</td>\n",
       "    </tr>\n",
       "    <tr>\n",
       "      <th>3</th>\n",
       "      <td>H2</td>\n",
       "      <td>H3</td>\n",
       "      <td>eps=0.02</td>\n",
       "      <td>0.760404</td>\n",
       "    </tr>\n",
       "    <tr>\n",
       "      <th>4</th>\n",
       "      <td>H2</td>\n",
       "      <td>H4</td>\n",
       "      <td>eps=0.015</td>\n",
       "      <td>0.794905</td>\n",
       "    </tr>\n",
       "    <tr>\n",
       "      <th>...</th>\n",
       "      <td>...</td>\n",
       "      <td>...</td>\n",
       "      <td>...</td>\n",
       "      <td>...</td>\n",
       "    </tr>\n",
       "    <tr>\n",
       "      <th>115</th>\n",
       "      <td>H4</td>\n",
       "      <td>H2</td>\n",
       "      <td>eps=0.02</td>\n",
       "      <td>0.975341</td>\n",
       "    </tr>\n",
       "    <tr>\n",
       "      <th>116</th>\n",
       "      <td>H4</td>\n",
       "      <td>H3</td>\n",
       "      <td>eps=0.015</td>\n",
       "      <td>0.950388</td>\n",
       "    </tr>\n",
       "    <tr>\n",
       "      <th>117</th>\n",
       "      <td>H4</td>\n",
       "      <td>H2</td>\n",
       "      <td>eps=0.015</td>\n",
       "      <td>0.983410</td>\n",
       "    </tr>\n",
       "    <tr>\n",
       "      <th>118</th>\n",
       "      <td>H4</td>\n",
       "      <td>H3</td>\n",
       "      <td>eps=0.01</td>\n",
       "      <td>0.922177</td>\n",
       "    </tr>\n",
       "    <tr>\n",
       "      <th>119</th>\n",
       "      <td>H4</td>\n",
       "      <td>H2</td>\n",
       "      <td>eps=0.01</td>\n",
       "      <td>0.986663</td>\n",
       "    </tr>\n",
       "  </tbody>\n",
       "</table>\n",
       "<p>120 rows × 4 columns</p>\n",
       "</div>"
      ],
      "text/plain": [
       "    Trained_on Tested_on   Test_eps  Accuracy\n",
       "0           H2        H4  eps=0.025  0.714752\n",
       "1           H2        H3  eps=0.025  0.703605\n",
       "2           H2        H4   eps=0.02  0.748422\n",
       "3           H2        H3   eps=0.02  0.760404\n",
       "4           H2        H4  eps=0.015  0.794905\n",
       "..         ...       ...        ...       ...\n",
       "115         H4        H2   eps=0.02  0.975341\n",
       "116         H4        H3  eps=0.015  0.950388\n",
       "117         H4        H2  eps=0.015  0.983410\n",
       "118         H4        H3   eps=0.01  0.922177\n",
       "119         H4        H2   eps=0.01  0.986663\n",
       "\n",
       "[120 rows x 4 columns]"
      ]
     },
     "execution_count": null,
     "metadata": {},
     "output_type": "execute_result"
    }
   ],
   "source": [
    "df = df.query('Accuracy == Accuracy')\n",
    "df"
   ]
  },
  {
   "cell_type": "code",
   "execution_count": null,
   "metadata": {},
   "outputs": [
    {
     "data": {
      "image/png": "[encoded data removed]",
      "text/plain": [
       "<Figure size 900x300 with 3 Axes>"
      ]
     },
     "metadata": {},
     "output_type": "display_data"
    },
    {
     "data": {
      "text/plain": [
       "<ggplot: (8764719878774)>"
      ]
     },
     "execution_count": null,
     "metadata": {},
     "output_type": "execute_result"
    }
   ],
   "source": [
    "p = (\n",
    "    ggplot(df, aes(x='Test_eps', y='Accuracy', color='Tested_on', group='Tested_on')) + \n",
    "    facet_wrap('~Trained_on', labeller='label_both') + \n",
    "    stat_summary(geom='geom_pointrange', shape='o') +\n",
    "    stat_summary(geom='geom_line') + \n",
    "    theme_bw() +\n",
    "    theme(axis_text_x=element_text(angle=45)) + \n",
    "    theme(figure_size=(9, 3))\n",
    ")\n",
    "p"
   ]
  },
  {
   "cell_type": "code",
   "execution_count": null,
   "metadata": {},
   "outputs": [
    {
     "name": "stderr",
     "output_type": "stream",
     "text": [
      "/usr/local/lib/python3.8/dist-packages/plotnine/ggplot.py:719: PlotnineWarning: Saving 9 x 3 in image.\n",
      "/usr/local/lib/python3.8/dist-packages/plotnine/ggplot.py:722: PlotnineWarning: Filename: asd.eps\n"
     ]
    }
   ],
   "source": [
    "ggsave(p, \"asd.eps\")"
   ]
  },
  {
   "cell_type": "markdown",
   "metadata": {},
   "source": [
    "### Plot accuracy vs points per motion"
   ]
  },
  {
   "cell_type": "code",
   "execution_count": null,
   "metadata": {},
   "outputs": [],
   "source": [
    "df = pd.read_csv('../wandb_exports/wandb_export_2021-05-18T17_06_34.698+02_00.csv')"
   ]
  },
  {
   "cell_type": "code",
   "execution_count": null,
   "metadata": {},
   "outputs": [
    {
     "data": {
      "text/html": [
       "<div>\n",
       "<style scoped>\n",
       "    .dataframe tbody tr th:only-of-type {\n",
       "        vertical-align: middle;\n",
       "    }\n",
       "\n",
       "    .dataframe tbody tr th {\n",
       "        vertical-align: top;\n",
       "    }\n",
       "\n",
       "    .dataframe thead th {\n",
       "        text-align: right;\n",
       "    }\n",
       "</style>\n",
       "<table border=\"1\" class=\"dataframe\">\n",
       "  <thead>\n",
       "    <tr style=\"text-align: right;\">\n",
       "      <th></th>\n",
       "      <th>Name</th>\n",
       "      <th>input dim 2</th>\n",
       "      <th>_wandb</th>\n",
       "      <th>accuracy</th>\n",
       "    </tr>\n",
       "  </thead>\n",
       "  <tbody>\n",
       "    <tr>\n",
       "      <th>0</th>\n",
       "      <td>solar-tree-180</td>\n",
       "      <td>2</td>\n",
       "      <td>NaN</td>\n",
       "      <td>0.753616</td>\n",
       "    </tr>\n",
       "    <tr>\n",
       "      <th>1</th>\n",
       "      <td>misty-butterfly-179</td>\n",
       "      <td>2</td>\n",
       "      <td>NaN</td>\n",
       "      <td>0.752755</td>\n",
       "    </tr>\n",
       "    <tr>\n",
       "      <th>2</th>\n",
       "      <td>charmed-sponge-178</td>\n",
       "      <td>2</td>\n",
       "      <td>NaN</td>\n",
       "      <td>0.750517</td>\n",
       "    </tr>\n",
       "    <tr>\n",
       "      <th>3</th>\n",
       "      <td>comic-serenity-177</td>\n",
       "      <td>2</td>\n",
       "      <td>NaN</td>\n",
       "      <td>0.831784</td>\n",
       "    </tr>\n",
       "    <tr>\n",
       "      <th>4</th>\n",
       "      <td>brisk-cloud-176</td>\n",
       "      <td>2</td>\n",
       "      <td>NaN</td>\n",
       "      <td>0.751722</td>\n",
       "    </tr>\n",
       "    <tr>\n",
       "      <th>...</th>\n",
       "      <td>...</td>\n",
       "      <td>...</td>\n",
       "      <td>...</td>\n",
       "      <td>...</td>\n",
       "    </tr>\n",
       "    <tr>\n",
       "      <th>145</th>\n",
       "      <td>floral-music-35</td>\n",
       "      <td>201</td>\n",
       "      <td>NaN</td>\n",
       "      <td>0.994835</td>\n",
       "    </tr>\n",
       "    <tr>\n",
       "      <th>146</th>\n",
       "      <td>helpful-pyramid-34</td>\n",
       "      <td>201</td>\n",
       "      <td>NaN</td>\n",
       "      <td>0.995351</td>\n",
       "    </tr>\n",
       "    <tr>\n",
       "      <th>147</th>\n",
       "      <td>gentle-wave-33</td>\n",
       "      <td>201</td>\n",
       "      <td>NaN</td>\n",
       "      <td>0.995007</td>\n",
       "    </tr>\n",
       "    <tr>\n",
       "      <th>148</th>\n",
       "      <td>dutiful-durian-32</td>\n",
       "      <td>201</td>\n",
       "      <td>NaN</td>\n",
       "      <td>0.995696</td>\n",
       "    </tr>\n",
       "    <tr>\n",
       "      <th>149</th>\n",
       "      <td>azure-sunset-31</td>\n",
       "      <td>201</td>\n",
       "      <td>NaN</td>\n",
       "      <td>0.995523</td>\n",
       "    </tr>\n",
       "  </tbody>\n",
       "</table>\n",
       "<p>150 rows × 4 columns</p>\n",
       "</div>"
      ],
      "text/plain": [
       "                    Name  input dim 2  _wandb  accuracy\n",
       "0         solar-tree-180            2     NaN  0.753616\n",
       "1    misty-butterfly-179            2     NaN  0.752755\n",
       "2     charmed-sponge-178            2     NaN  0.750517\n",
       "3     comic-serenity-177            2     NaN  0.831784\n",
       "4        brisk-cloud-176            2     NaN  0.751722\n",
       "..                   ...          ...     ...       ...\n",
       "145      floral-music-35          201     NaN  0.994835\n",
       "146   helpful-pyramid-34          201     NaN  0.995351\n",
       "147       gentle-wave-33          201     NaN  0.995007\n",
       "148    dutiful-durian-32          201     NaN  0.995696\n",
       "149      azure-sunset-31          201     NaN  0.995523\n",
       "\n",
       "[150 rows x 4 columns]"
      ]
     },
     "execution_count": null,
     "metadata": {},
     "output_type": "execute_result"
    }
   ],
   "source": [
    "df"
   ]
  },
  {
   "cell_type": "code",
   "execution_count": null,
   "metadata": {},
   "outputs": [
    {
     "data": {
      "image/png": "[encoded data removed]",
      "text/plain": [
       "<Figure size 900x300 with 1 Axes>"
      ]
     },
     "metadata": {},
     "output_type": "display_data"
    },
    {
     "data": {
      "text/plain": [
       "<ggplot: (8742381253726)>"
      ]
     },
     "execution_count": null,
     "metadata": {},
     "output_type": "execute_result"
    }
   ],
   "source": [
    "p = (\n",
    "    ggplot(df, aes(x='input dim 2', y='accuracy', group=1)) + \n",
    "    stat_summary(geom='geom_pointrange', shape='.') +\n",
    "    stat_summary(geom='geom_line') + \n",
    "    theme_bw(base_size=19) +\n",
    "    xlab('Points per motion') +\n",
    "    ylab('Accuracy') + \n",
    "    theme(figure_size=(9, 3))\n",
    ")\n",
    "p"
   ]
  },
  {
   "cell_type": "code",
   "execution_count": null,
   "metadata": {},
   "outputs": [
    {
     "name": "stderr",
     "output_type": "stream",
     "text": [
      "/usr/local/lib/python3.8/dist-packages/plotnine/ggplot.py:719: PlotnineWarning: Saving 9 x 3 in image.\n",
      "/usr/local/lib/python3.8/dist-packages/plotnine/ggplot.py:722: PlotnineWarning: Filename: asd.eps\n"
     ]
    }
   ],
   "source": [
    "ggsave(p, \"asd.eps\")"
   ]
  },
  {
   "cell_type": "markdown",
   "metadata": {},
   "source": [
    "### Spint orbit case: results"
   ]
  },
  {
   "cell_type": "code",
   "execution_count": null,
   "metadata": {},
   "outputs": [],
   "source": [
    "api = wandb.Api()"
   ]
  },
  {
   "cell_type": "code",
   "execution_count": null,
   "metadata": {},
   "outputs": [
    {
     "data": {
      "text/plain": [
       "(#50) [<Run vrodriguezf90/mlchaos/oc4ls0wm (finished)>,<Run vrodriguezf90/mlchaos/r1inu7wm (finished)>,<Run vrodriguezf90/mlchaos/ou0j6bar (finished)>,<Run vrodriguezf90/mlchaos/lbek8wf6 (finished)>,<Run vrodriguezf90/mlchaos/13bzxs51 (finished)>,<Run vrodriguezf90/mlchaos/3bpxz1cj (finished)>,<Run vrodriguezf90/mlchaos/vj760616 (finished)>,<Run vrodriguezf90/mlchaos/ko6s3gtr (finished)>,<Run vrodriguezf90/mlchaos/4o4vexl4 (finished)>,<Run vrodriguezf90/mlchaos/xl2o1mod (finished)>...]"
      ]
     },
     "execution_count": null,
     "metadata": {},
     "output_type": "execute_result"
    }
   ],
   "source": [
    "sweep_paths = [\"vrodriguezf90/mlchaos/sweeps/zg79nm9t\", \"vrodriguezf90/mlchaos/sweeps/dntxgjwn\"]\n",
    "runs = L([api.sweep(path=o).runs for o in sweep_paths]).concat()\n",
    "runs"
   ]
  },
  {
   "cell_type": "code",
   "execution_count": null,
   "metadata": {},
   "outputs": [
    {
     "data": {
      "text/plain": [
       "(45, 2)"
      ]
     },
     "execution_count": null,
     "metadata": {},
     "output_type": "execute_result"
    }
   ],
   "source": [
    "df = pd.DataFrame({\n",
    "    'test_ecc': runs.map(lambda o: o.config['test_model']), \n",
    "    'Accuracy': runs.map(lambda o: o.summary.get('test_acc'))\n",
    "})\n",
    "df['Accuracy'] = df['Accuracy'].astype('float64')\n",
    "df['test_ecc'] = df['test_ecc'].str[16:20]\n",
    "df = df.dropna()\n",
    "df.shape"
   ]
  },
  {
   "cell_type": "code",
   "execution_count": null,
   "metadata": {},
   "outputs": [
    {
     "data": {
      "image/png": "[encoded data removed]",
      "text/plain": [
       "<Figure size 900x300 with 1 Axes>"
      ]
     },
     "metadata": {},
     "output_type": "display_data"
    },
    {
     "data": {
      "text/plain": [
       "<ggplot: (8742381741864)>"
      ]
     },
     "execution_count": null,
     "metadata": {},
     "output_type": "execute_result"
    }
   ],
   "source": [
    "p = (\n",
    "    ggplot(df, aes(x='test_ecc', y='Accuracy', group=1)) + \n",
    "    stat_summary(geom='geom_bar') + \n",
    "    stat_summary(geom='pointrange') +\n",
    "    coord_cartesian(ylim=[0.7, 1]) + \n",
    "    xlab('Test Eccentricity') + \n",
    "    theme_bw(base_size=19) +\n",
    "    theme(figure_size=(9, 3))\n",
    ")\n",
    "p"
   ]
  },
  {
   "cell_type": "code",
   "execution_count": null,
   "metadata": {},
   "outputs": [
    {
     "name": "stderr",
     "output_type": "stream",
     "text": [
      "/usr/local/lib/python3.8/dist-packages/plotnine/ggplot.py:719: PlotnineWarning: Saving 9 x 3 in image.\n",
      "/usr/local/lib/python3.8/dist-packages/plotnine/ggplot.py:722: PlotnineWarning: Filename: asd.eps\n"
     ]
    }
   ],
   "source": [
    "ggsave(p, \"asd.eps\")"
   ]
  },
  {
   "cell_type": "markdown",
   "metadata": {},
   "source": [
    "## Indexing method comparison"
   ]
  },
  {
   "cell_type": "code",
   "execution_count": null,
   "metadata": {},
   "outputs": [],
   "source": [
    "api = wandb.Api()"
   ]
  },
  {
   "cell_type": "code",
   "execution_count": null,
   "metadata": {},
   "outputs": [
    {
     "data": {
      "text/plain": [
       "(#25) [<Run vrodriguezf90/mlchaos/faj7ujgu (finished)>,<Run vrodriguezf90/mlchaos/fkptwpd1 (finished)>,<Run vrodriguezf90/mlchaos/au13qt77 (finished)>,<Run vrodriguezf90/mlchaos/4i8f6w98 (finished)>,<Run vrodriguezf90/mlchaos/yop0hb6r (finished)>,<Run vrodriguezf90/mlchaos/xaywdb32 (finished)>,<Run vrodriguezf90/mlchaos/bo6bwl8x (finished)>,<Run vrodriguezf90/mlchaos/zp9g2ynd (finished)>,<Run vrodriguezf90/mlchaos/kjjhp79j (finished)>,<Run vrodriguezf90/mlchaos/96e8ad4o (finished)>...]"
      ]
     },
     "execution_count": null,
     "metadata": {},
     "output_type": "execute_result"
    }
   ],
   "source": [
    "sweep_paths = [\"vrodriguezf90/mlchaos/sweeps/1qg2e9i4\"]\n",
    "runs = L([api.sweep(path=o).runs for o in sweep_paths]).concat()\n",
    "runs"
   ]
  },
  {
   "cell_type": "code",
   "execution_count": null,
   "metadata": {},
   "outputs": [
    {
     "data": {
      "text/plain": [
       "(15, 2)"
      ]
     },
     "execution_count": null,
     "metadata": {},
     "output_type": "execute_result"
    }
   ],
   "source": [
    "df = pd.DataFrame({\n",
    "    'labelling_method': runs.map(lambda o: o.config['labelling_method']), \n",
    "    'accuracy': runs.map(lambda o: o.summary.get('accuracy'))\n",
    "})\n",
    "df.query('labelling_method == \"fli\" or \\\n",
    "         labelling_method == \"freq_ana_eq_3.6\" or labelling_method == \"birav\"', inplace=True)\n",
    "df.replace(to_replace=\"fli\", value=\"FLI\", inplace=True)\n",
    "df.replace(to_replace=\"fli_no_uncertainty\", value=\"FLI no uncertainty\", inplace=True)\n",
    "df.replace(to_replace=\"freq_ana_eq_3.6\", value=\"Monotonicity\", inplace=True)\n",
    "df.replace(to_replace=\"birav\", value=\"Convergence\", inplace=True)\n",
    "df.shape"
   ]
  },
  {
   "cell_type": "code",
   "execution_count": null,
   "metadata": {},
   "outputs": [
    {
     "data": {
      "image/png": "[encoded data removed]",
      "text/plain": [
       "<Figure size 900x300 with 1 Axes>"
      ]
     },
     "metadata": {},
     "output_type": "display_data"
    },
    {
     "data": {
      "text/plain": [
       "<ggplot: (8742381619640)>"
      ]
     },
     "execution_count": null,
     "metadata": {},
     "output_type": "execute_result"
    }
   ],
   "source": [
    "p = (\n",
    "    ggplot(df, aes(x='labelling_method', y='accuracy', group=1)) + \n",
    "    stat_summary(geom='geom_bar') + \n",
    "    stat_summary(geom='pointrange') +\n",
    "    xlab('Indexing method') + \n",
    "    ylab('Accuracy') + \n",
    "    coord_flip(ylim=[0.8, 1]) + \n",
    "    theme_bw(base_size=19) +\n",
    "    theme(figure_size=(9, 3))\n",
    ")\n",
    "p"
   ]
  },
  {
   "cell_type": "code",
   "execution_count": null,
   "metadata": {},
   "outputs": [
    {
     "name": "stderr",
     "output_type": "stream",
     "text": [
      "/usr/local/lib/python3.8/dist-packages/plotnine/ggplot.py:719: PlotnineWarning: Saving 9 x 3 in image.\n",
      "/usr/local/lib/python3.8/dist-packages/plotnine/ggplot.py:722: PlotnineWarning: Filename: asd.eps\n"
     ]
    }
   ],
   "source": [
    "ggsave(p, \"asd.eps\")"
   ]
  },
  {
   "cell_type": "markdown",
   "metadata": {},
   "source": [
    "## Architecture comparison"
   ]
  },
  {
   "cell_type": "code",
   "execution_count": null,
   "metadata": {},
   "outputs": [],
   "source": [
    "api = wandb.Api()"
   ]
  },
  {
   "cell_type": "code",
   "execution_count": null,
   "metadata": {},
   "outputs": [
    {
     "data": {
      "text/plain": [
       "(#20) [<Run vrodriguezf90/mlchaos/evovfqyj (finished)>,<Run vrodriguezf90/mlchaos/keegn41w (finished)>,<Run vrodriguezf90/mlchaos/2x4z83rx (finished)>,<Run vrodriguezf90/mlchaos/h34oz3z7 (finished)>,<Run vrodriguezf90/mlchaos/bxvj74d7 (finished)>,<Run vrodriguezf90/mlchaos/14ud9xta (finished)>,<Run vrodriguezf90/mlchaos/17sbp3r5 (finished)>,<Run vrodriguezf90/mlchaos/mxon9g8j (finished)>,<Run vrodriguezf90/mlchaos/2wfatm11 (finished)>,<Run vrodriguezf90/mlchaos/kpz3g7e1 (finished)>...]"
      ]
     },
     "execution_count": null,
     "metadata": {},
     "output_type": "execute_result"
    }
   ],
   "source": [
    "sweep_paths = [\"vrodriguezf90/mlchaos/sweeps/26vwf55g\", \"vrodriguezf90/mlchaos/sweeps/f5f09wsa\"]\n",
    "runs = L([api.sweep(path=o).runs for o in sweep_paths]).concat()\n",
    "runs"
   ]
  },
  {
   "cell_type": "code",
   "execution_count": null,
   "metadata": {},
   "outputs": [],
   "source": [
    "df = pd.DataFrame({\n",
    "    'Architecture': runs.map(lambda o: o.config['arch_name']), \n",
    "    'Accuracy': runs.map(lambda o: o.summary.get('accuracy'))\n",
    "})"
   ]
  },
  {
   "cell_type": "code",
   "execution_count": null,
   "metadata": {},
   "outputs": [
    {
     "data": {
      "image/png": "[encoded data removed]",
      "text/plain": [
       "<Figure size 900x300 with 1 Axes>"
      ]
     },
     "metadata": {},
     "output_type": "display_data"
    },
    {
     "data": {
      "text/plain": [
       "<ggplot: (8742381293969)>"
      ]
     },
     "execution_count": null,
     "metadata": {},
     "output_type": "execute_result"
    }
   ],
   "source": [
    "p = (\n",
    "    ggplot(df, aes(x='Architecture', y='Accuracy', group=1)) + \n",
    "    stat_summary(geom='geom_bar') + \n",
    "    stat_summary(geom='pointrange') +\n",
    "    coord_flip(ylim=[0.8, 1]) + \n",
    "    theme_bw(base_size=19) +\n",
    "    theme(figure_size=(9, 3))\n",
    ")\n",
    "p"
   ]
  },
  {
   "cell_type": "code",
   "execution_count": null,
   "metadata": {},
   "outputs": [
    {
     "name": "stderr",
     "output_type": "stream",
     "text": [
      "/usr/local/lib/python3.8/dist-packages/plotnine/ggplot.py:719: PlotnineWarning: Saving 9 x 3 in image.\n",
      "/usr/local/lib/python3.8/dist-packages/plotnine/ggplot.py:722: PlotnineWarning: Filename: asd.eps\n"
     ]
    }
   ],
   "source": [
    "ggsave(p, \"asd.eps\")"
   ]
  },
  {
   "cell_type": "markdown",
   "metadata": {},
   "source": [
    "## Complete cartography, test accuracy"
   ]
  },
  {
   "cell_type": "code",
   "execution_count": null,
   "metadata": {},
   "outputs": [],
   "source": [
    "N = 10197 # total number of data points in the cartography"
   ]
  },
  {
   "cell_type": "code",
   "execution_count": null,
   "metadata": {},
   "outputs": [
    {
     "data": {
      "text/plain": [
       "['2dgn6lof',\n",
       " '1t452v39',\n",
       " 'ktp7opwv',\n",
       " '35ukxqjf',\n",
       " '23c239ci',\n",
       " '38x9x72i',\n",
       " '26ihg10f',\n",
       " '1io601nv',\n",
       " '1x0usue9']"
      ]
     },
     "execution_count": null,
     "metadata": {},
     "output_type": "execute_result"
    }
   ],
   "source": [
    "#Donwloaded from wandb table as a csv, then copy&paste the id column here\n",
    "run_ids = \"\"\"2dgn6lof\n",
    "1t452v39\n",
    "ktp7opwv\n",
    "35ukxqjf\n",
    "23c239ci\n",
    "38x9x72i\n",
    "26ihg10f\n",
    "1io601nv\n",
    "1x0usue9\"\"\"\n",
    "run_ids = run_ids.splitlines()\n",
    "run_ids"
   ]
  },
  {
   "cell_type": "code",
   "execution_count": null,
   "metadata": {},
   "outputs": [],
   "source": [
    "api = wandb.Api()\n",
    "runs = L([api.run('vrodriguezf90/mlchaos/' + o) for o in run_ids])"
   ]
  },
  {
   "cell_type": "code",
   "execution_count": null,
   "metadata": {},
   "outputs": [
    {
     "data": {
      "text/html": [
       "<div>\n",
       "<style scoped>\n",
       "    .dataframe tbody tr th:only-of-type {\n",
       "        vertical-align: middle;\n",
       "    }\n",
       "\n",
       "    .dataframe tbody tr th {\n",
       "        vertical-align: top;\n",
       "    }\n",
       "\n",
       "    .dataframe thead th {\n",
       "        text-align: right;\n",
       "    }\n",
       "</style>\n",
       "<table border=\"1\" class=\"dataframe\">\n",
       "  <thead>\n",
       "    <tr style=\"text-align: right;\">\n",
       "      <th></th>\n",
       "      <th>Reduction factor</th>\n",
       "      <th>Accuracy</th>\n",
       "    </tr>\n",
       "  </thead>\n",
       "  <tbody>\n",
       "    <tr>\n",
       "      <th>0</th>\n",
       "      <td>10.0</td>\n",
       "      <td>0.063419</td>\n",
       "    </tr>\n",
       "    <tr>\n",
       "      <th>1</th>\n",
       "      <td>9.0</td>\n",
       "      <td>0.918910</td>\n",
       "    </tr>\n",
       "    <tr>\n",
       "      <th>2</th>\n",
       "      <td>8.0</td>\n",
       "      <td>0.921094</td>\n",
       "    </tr>\n",
       "  </tbody>\n",
       "</table>\n",
       "</div>"
      ],
      "text/plain": [
       "   Reduction factor  Accuracy\n",
       "0              10.0  0.063419\n",
       "1               9.0  0.918910\n",
       "2               8.0  0.921094"
      ]
     },
     "execution_count": null,
     "metadata": {},
     "output_type": "execute_result"
    }
   ],
   "source": [
    "df = pd.DataFrame({\n",
    "    'Reduction factor': runs.map(lambda o: np.ceil(N/o.config['nb_samples'])), \n",
    "    'Accuracy': runs.map(lambda o: o.summary.get('test_acc'))\n",
    "})\n",
    "df[:3]"
   ]
  },
  {
   "cell_type": "code",
   "execution_count": null,
   "metadata": {},
   "outputs": [
    {
     "data": {
      "text/html": [
       "<div>\n",
       "<style scoped>\n",
       "    .dataframe tbody tr th:only-of-type {\n",
       "        vertical-align: middle;\n",
       "    }\n",
       "\n",
       "    .dataframe tbody tr th {\n",
       "        vertical-align: top;\n",
       "    }\n",
       "\n",
       "    .dataframe thead th {\n",
       "        text-align: right;\n",
       "    }\n",
       "</style>\n",
       "<table border=\"1\" class=\"dataframe\">\n",
       "  <thead>\n",
       "    <tr style=\"text-align: right;\">\n",
       "      <th></th>\n",
       "      <th>Reduction factor</th>\n",
       "      <th>Accuracy</th>\n",
       "    </tr>\n",
       "  </thead>\n",
       "  <tbody>\n",
       "    <tr>\n",
       "      <th>0</th>\n",
       "      <td>10.0</td>\n",
       "      <td>0.063419</td>\n",
       "    </tr>\n",
       "    <tr>\n",
       "      <th>1</th>\n",
       "      <td>9.0</td>\n",
       "      <td>0.918910</td>\n",
       "    </tr>\n",
       "    <tr>\n",
       "      <th>2</th>\n",
       "      <td>8.0</td>\n",
       "      <td>0.921094</td>\n",
       "    </tr>\n",
       "    <tr>\n",
       "      <th>3</th>\n",
       "      <td>7.0</td>\n",
       "      <td>0.923341</td>\n",
       "    </tr>\n",
       "    <tr>\n",
       "      <th>4</th>\n",
       "      <td>6.0</td>\n",
       "      <td>0.958103</td>\n",
       "    </tr>\n",
       "    <tr>\n",
       "      <th>5</th>\n",
       "      <td>5.0</td>\n",
       "      <td>0.956847</td>\n",
       "    </tr>\n",
       "    <tr>\n",
       "      <th>6</th>\n",
       "      <td>4.0</td>\n",
       "      <td>0.965215</td>\n",
       "    </tr>\n",
       "    <tr>\n",
       "      <th>7</th>\n",
       "      <td>3.0</td>\n",
       "      <td>0.984407</td>\n",
       "    </tr>\n",
       "    <tr>\n",
       "      <th>8</th>\n",
       "      <td>2.0</td>\n",
       "      <td>0.986269</td>\n",
       "    </tr>\n",
       "  </tbody>\n",
       "</table>\n",
       "</div>"
      ],
      "text/plain": [
       "   Reduction factor  Accuracy\n",
       "0              10.0  0.063419\n",
       "1               9.0  0.918910\n",
       "2               8.0  0.921094\n",
       "3               7.0  0.923341\n",
       "4               6.0  0.958103\n",
       "5               5.0  0.956847\n",
       "6               4.0  0.965215\n",
       "7               3.0  0.984407\n",
       "8               2.0  0.986269"
      ]
     },
     "execution_count": null,
     "metadata": {},
     "output_type": "execute_result"
    }
   ],
   "source": []
  },
  {
   "cell_type": "code",
   "execution_count": null,
   "metadata": {},
   "outputs": [
    {
     "name": "stderr",
     "output_type": "stream",
     "text": [
      "/usr/local/lib/python3.8/dist-packages/plotnine/layer.py:324: PlotnineWarning: stat_summary : Removed 1 rows containing non-finite values.\n"
     ]
    },
    {
     "data": {
      "image/png": "[encoded data removed]",
      "text/plain": [
       "<Figure size 900x300 with 1 Axes>"
      ]
     },
     "metadata": {},
     "output_type": "display_data"
    },
    {
     "data": {
      "text/plain": [
       "<ggplot: (8787048100084)>"
      ]
     },
     "execution_count": null,
     "metadata": {},
     "output_type": "execute_result"
    }
   ],
   "source": [
    "p = (\n",
    "    ggplot(df, aes(x='Reduction factor', y='Accuracy', group=1)) + \n",
    "    stat_summary(geom='geom_pointrange', shape='.') +\n",
    "    stat_summary(geom='geom_line') + \n",
    "    #coord_flip(ylim=[0.8, 1]) + \n",
    "    xlim(2, 9) + \n",
    "    theme_bw() +\n",
    "    theme(figure_size=(9, 3))\n",
    ")\n",
    "p"
   ]
  },
  {
   "cell_type": "code",
   "execution_count": null,
   "metadata": {},
   "outputs": [],
   "source": []
  }
 ],
 "metadata": {
  "kernelspec": {
   "display_name": "Python 3",
   "language": "python",
   "name": "python3"
  }
 },
 "nbformat": 4,
 "nbformat_minor": 4
}
