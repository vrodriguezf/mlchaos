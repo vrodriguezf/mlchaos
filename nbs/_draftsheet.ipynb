{
 "cells": [
  {
   "cell_type": "markdown",
   "metadata": {},
   "source": [
    "# Draftsheet "
   ]
  },
  {
   "cell_type": "markdown",
   "metadata": {},
   "source": [
    "### Get the validation errors of a classification learner, plot them in different ways and store the resulting images to be validated by an expert"
   ]
  },
  {
   "cell_type": "code",
   "execution_count": null,
   "metadata": {},
   "outputs": [],
   "source": [
    "from PIL import Image  \n",
    "import PIL\n",
    "from fastcore.all import *"
   ]
  },
  {
   "cell_type": "code",
   "execution_count": null,
   "metadata": {},
   "outputs": [],
   "source": [
    "def buffer_plot_and_get(fig):\n",
    "    buf = io.BytesIO()\n",
    "    fig.savefig(buf)\n",
    "    buf.seek(0)\n",
    "    return PIL.Image.open(buf)"
   ]
  },
  {
   "cell_type": "code",
   "execution_count": null,
   "metadata": {},
   "outputs": [],
   "source": [
    "def get_concat_h_multi_resize(im_list, resample=PIL.Image.BICUBIC):\n",
    "    min_height = min(im.height for im in im_list)\n",
    "    im_list_resize = [im.resize((int(im.width * min_height / im.height), min_height),resample=resample)\n",
    "                      for im in im_list]\n",
    "    total_width = sum(im.width for im in im_list_resize)\n",
    "    dst = PIL.Image.new('RGB', (total_width, min_height))\n",
    "    pos_x = 0\n",
    "    for im in im_list_resize:\n",
    "        dst.paste(im, (pos_x, 0))\n",
    "        pos_x += im.width\n",
    "    return dst"
   ]
  },
  {
   "cell_type": "code",
   "execution_count": null,
   "metadata": {},
   "outputs": [],
   "source": [
    "def get_multiview_at(ds, idx, ylim):\n",
    "    \"TODO: Move this to TensorMotion?\"\n",
    "    fig1 = show_at(ds, idx, return_fig=True, ylim=ylim)\n",
    "    fig2 = show_at(ds, idx, return_fig=True)\n",
    "    fig3 = show_at(ds, idx, mode='stacked', return_fig=True)\n",
    "    pils = [buffer_plot_and_get(fig) for fig in [fig1, fig2, fig3]]\n",
    "    return get_concat_h_multi_resize(pils)"
   ]
  },
  {
   "cell_type": "code",
   "execution_count": null,
   "metadata": {},
   "outputs": [],
   "source": [
    "import pandas as pd"
   ]
  },
  {
   "cell_type": "code",
   "execution_count": null,
   "metadata": {},
   "outputs": [],
   "source": [
    "def generate_classification_error_report(learn, folder, ylim):\n",
    "    \"Warning: Call this function with the %%capture magic, otherwise you will be \\\n",
    "    prompted with all the outputs from the calls to `show`. Requires xlrd to read xlsx \\\n",
    "    files.\"\n",
    "    probs, targets, preds = learn.get_preds(with_decoded=True)\n",
    "    error_valid_idxs = torch.where(targets!=preds, tensor(1), tensor(0)).nonzero().squeeze()\n",
    "    error_ds_idxs = tensor(learn.dls.dataset.splits[1])[error_valid_idxs]\n",
    "    for valid_idx, ds_idx in zip(error_valid_idxs, error_ds_idxs):\n",
    "        merged_pil = get_multiview_at(learn.dls.valid.dataset, valid_idx, ylim)\n",
    "        folder = Path(folder)\n",
    "        merged_pil.save(f'{folder}/{ds_idx}.png')\n",
    "    # Generate a csv file with the item indices and the targets\n",
    "    preds_decoded = [str(ds.valid.tfms[1].decode(x)) for x in preds[error_valid_idxs]]\n",
    "    targs_decoded = [str(ds.valid.tfms[1].decode(x)) for x in targets[error_valid_idxs]]\n",
    "    rlbl_df = pd.DataFrame(list(zip(error_ds_idxs.numpy(), preds_decoded, targs_decoded)), \n",
    "                       columns=['Item #', 'ML classification', 'FLI-based classification'])\n",
    "    rlbl_path = Path(f'{folder}/relabelling.xlsx')\n",
    "    if rlbl_path.exists():\n",
    "        # Load old relabelling and merge it with the new items\n",
    "        rlbl_df_old = pd.read_excel(rlbl_path)\n",
    "        rlbl_df = pd.concat([rlbl_df, rlbl_df_old]).drop_duplicates()\n",
    "    rlbl_df = rlbl_df.sort_values(by=['Item #'])\n",
    "    rlbl_df.to_excel(rlbl_path, index=False)"
   ]
  },
  {
   "cell_type": "markdown",
   "metadata": {},
   "source": [
    "## Plot results from extrapolation experiment"
   ]
  },
  {
   "cell_type": "code",
   "execution_count": null,
   "metadata": {},
   "outputs": [],
   "source": [
    "from fastcore.all import *\n",
    "import wandb\n",
    "from plotnine import *\n",
    "import pandas as pd"
   ]
  },
  {
   "cell_type": "code",
   "execution_count": null,
   "metadata": {},
   "outputs": [],
   "source": [
    "api = wandb.Api()"
   ]
  },
  {
   "cell_type": "code",
   "execution_count": null,
   "metadata": {},
   "outputs": [
    {
     "data": {
      "text/plain": [
       "(#120) [<Run vrodriguezf/mlchaos/wrhnim2f (finished)>,<Run vrodriguezf/mlchaos/k851eo79 (finished)>,<Run vrodriguezf/mlchaos/428rajrb (finished)>,<Run vrodriguezf/mlchaos/aczwuabl (finished)>,<Run vrodriguezf/mlchaos/f991rqy5 (finished)>,<Run vrodriguezf/mlchaos/vvgfkctr (finished)>,<Run vrodriguezf/mlchaos/3vlv3aka (finished)>,<Run vrodriguezf/mlchaos/zafh6do4 (finished)>,<Run vrodriguezf/mlchaos/ju2armm4 (finished)>,<Run vrodriguezf/mlchaos/grlv7llo (finished)>...]"
      ]
     },
     "execution_count": null,
     "metadata": {},
     "output_type": "execute_result"
    }
   ],
   "source": [
    "sweep_paths = [\"vrodriguezf/mlchaos/sweeps/lwatcf28\", \n",
    "               \"vrodriguezf/mlchaos/sweeps/29ewkxzx\",\n",
    "              \"vrodriguezf/mlchaos/sweeps/xzwgf028\"]\n",
    "runs = L([api.sweep(path=o).runs for o in sweep_paths]).concat()\n",
    "runs"
   ]
  },
  {
   "cell_type": "code",
   "execution_count": null,
   "metadata": {},
   "outputs": [
    {
     "data": {
      "text/html": [
       "<div>\n",
       "<style scoped>\n",
       "    .dataframe tbody tr th:only-of-type {\n",
       "        vertical-align: middle;\n",
       "    }\n",
       "\n",
       "    .dataframe tbody tr th {\n",
       "        vertical-align: top;\n",
       "    }\n",
       "\n",
       "    .dataframe thead th {\n",
       "        text-align: right;\n",
       "    }\n",
       "</style>\n",
       "<table border=\"1\" class=\"dataframe\">\n",
       "  <thead>\n",
       "    <tr style=\"text-align: right;\">\n",
       "      <th></th>\n",
       "      <th>Trained_on</th>\n",
       "      <th>Tested_on</th>\n",
       "      <th>Test_eps</th>\n",
       "      <th>Accuracy</th>\n",
       "    </tr>\n",
       "  </thead>\n",
       "  <tbody>\n",
       "    <tr>\n",
       "      <th>0</th>\n",
       "      <td>model_1</td>\n",
       "      <td>model_3</td>\n",
       "      <td>eps=0.025</td>\n",
       "      <td>0.714752</td>\n",
       "    </tr>\n",
       "    <tr>\n",
       "      <th>1</th>\n",
       "      <td>model_1</td>\n",
       "      <td>model_2</td>\n",
       "      <td>eps=0.025</td>\n",
       "      <td>0.703605</td>\n",
       "    </tr>\n",
       "    <tr>\n",
       "      <th>2</th>\n",
       "      <td>model_1</td>\n",
       "      <td>model_3</td>\n",
       "      <td>eps=0.02</td>\n",
       "      <td>0.748422</td>\n",
       "    </tr>\n",
       "    <tr>\n",
       "      <th>3</th>\n",
       "      <td>model_1</td>\n",
       "      <td>model_2</td>\n",
       "      <td>eps=0.02</td>\n",
       "      <td>0.760404</td>\n",
       "    </tr>\n",
       "    <tr>\n",
       "      <th>4</th>\n",
       "      <td>model_1</td>\n",
       "      <td>model_3</td>\n",
       "      <td>eps=0.015</td>\n",
       "      <td>0.794905</td>\n",
       "    </tr>\n",
       "    <tr>\n",
       "      <th>...</th>\n",
       "      <td>...</td>\n",
       "      <td>...</td>\n",
       "      <td>...</td>\n",
       "      <td>...</td>\n",
       "    </tr>\n",
       "    <tr>\n",
       "      <th>115</th>\n",
       "      <td>model_3</td>\n",
       "      <td>model_1</td>\n",
       "      <td>eps=0.02</td>\n",
       "      <td>0.975341</td>\n",
       "    </tr>\n",
       "    <tr>\n",
       "      <th>116</th>\n",
       "      <td>model_3</td>\n",
       "      <td>model_2</td>\n",
       "      <td>eps=0.015</td>\n",
       "      <td>0.950388</td>\n",
       "    </tr>\n",
       "    <tr>\n",
       "      <th>117</th>\n",
       "      <td>model_3</td>\n",
       "      <td>model_1</td>\n",
       "      <td>eps=0.015</td>\n",
       "      <td>0.983410</td>\n",
       "    </tr>\n",
       "    <tr>\n",
       "      <th>118</th>\n",
       "      <td>model_3</td>\n",
       "      <td>model_2</td>\n",
       "      <td>eps=0.01</td>\n",
       "      <td>0.922177</td>\n",
       "    </tr>\n",
       "    <tr>\n",
       "      <th>119</th>\n",
       "      <td>model_3</td>\n",
       "      <td>model_1</td>\n",
       "      <td>eps=0.01</td>\n",
       "      <td>0.986663</td>\n",
       "    </tr>\n",
       "  </tbody>\n",
       "</table>\n",
       "<p>120 rows × 4 columns</p>\n",
       "</div>"
      ],
      "text/plain": [
       "    Trained_on Tested_on   Test_eps  Accuracy\n",
       "0      model_1   model_3  eps=0.025  0.714752\n",
       "1      model_1   model_2  eps=0.025  0.703605\n",
       "2      model_1   model_3   eps=0.02  0.748422\n",
       "3      model_1   model_2   eps=0.02  0.760404\n",
       "4      model_1   model_3  eps=0.015  0.794905\n",
       "..         ...       ...        ...       ...\n",
       "115    model_3   model_1   eps=0.02  0.975341\n",
       "116    model_3   model_2  eps=0.015  0.950388\n",
       "117    model_3   model_1  eps=0.015  0.983410\n",
       "118    model_3   model_2   eps=0.01  0.922177\n",
       "119    model_3   model_1   eps=0.01  0.986663\n",
       "\n",
       "[120 rows x 4 columns]"
      ]
     },
     "execution_count": null,
     "metadata": {},
     "output_type": "execute_result"
    }
   ],
   "source": [
    "df = pd.DataFrame({\n",
    "    'Trained_on': runs.map(lambda o: o.config['train_model']), \n",
    "    'Tested_on': runs.map(lambda o: o.config['test_model']),\n",
    "    'Test_eps': runs.map(lambda o: o.config['test_eps']),\n",
    "    'Accuracy': runs.map(lambda o: o.summary['test_acc'])\n",
    "})\n",
    "df"
   ]
  },
  {
   "cell_type": "code",
   "execution_count": null,
   "metadata": {},
   "outputs": [
    {
     "data": {
      "image/png": "[encoded data removed]",
      "text/plain": [
       "<Figure size 640x480 with 3 Axes>"
      ]
     },
     "metadata": {},
     "output_type": "display_data"
    },
    {
     "data": {
      "text/plain": [
       "<ggplot: (8738877566769)>"
      ]
     },
     "execution_count": null,
     "metadata": {},
     "output_type": "execute_result"
    }
   ],
   "source": [
    "(\n",
    "    ggplot(df, aes(x='Test_eps', y='Accuracy', color='Tested_on', group='Tested_on')) + \n",
    "    facet_wrap('~Trained_on', labeller='label_both') + \n",
    "    stat_summary(geom='geom_pointrange', shape='o') +\n",
    "    stat_summary(geom='geom_line') + \n",
    "    theme_bw() +\n",
    "    theme(axis_text_x=element_text(angle=45))\n",
    ")"
   ]
  }
 ],
 "metadata": {
  "kernelspec": {
   "display_name": "Python 3",
   "language": "python",
   "name": "python3"
  }
 },
 "nbformat": 4,
 "nbformat_minor": 4
}
