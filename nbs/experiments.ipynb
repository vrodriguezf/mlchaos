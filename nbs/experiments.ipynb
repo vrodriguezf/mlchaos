{
 "cells": [
  {
   "cell_type": "code",
   "execution_count": null,
   "metadata": {},
   "outputs": [],
   "source": [
    "#default_exp experiments"
   ]
  },
  {
   "cell_type": "markdown",
   "metadata": {},
   "source": [
    "# Experiments\n",
    "\n",
    "> Experiments to be run as CLI scripts (too long to run in a Jupyter session)"
   ]
  },
  {
   "cell_type": "code",
   "execution_count": null,
   "metadata": {},
   "outputs": [],
   "source": [
    "#export\n",
    "import papermill as pm\n",
    "import numpy as np\n",
    "from fastcore.all import *"
   ]
  },
  {
   "cell_type": "code",
   "execution_count": null,
   "metadata": {},
   "outputs": [],
   "source": [
    "import wandb"
   ]
  },
  {
   "cell_type": "markdown",
   "metadata": {},
   "source": [
    "### Analyse the impact of the number of points on the performance of the motion classifier"
   ]
  },
  {
   "cell_type": "markdown",
   "metadata": {},
   "source": [
    "The results will be logged in a run group in wandb, and from there the visualizations will be made"
   ]
  },
  {
   "cell_type": "code",
   "execution_count": null,
   "metadata": {},
   "outputs": [],
   "source": [
    "#export experiments\n",
    "@call_parse\n",
    "def x_sequence_length(min_rp:Param(\"Minimum resampling period\", int)=1,\n",
    "                      max_rp:Param(\"Maximum resampling period\", int)=10,\n",
    "                      rep_times:Param(\"Number of times ru run per rp\", int)=10,\n",
    "                      nbs_folder:Param(\"Notebook folder path\", str)='.'):\n",
    "    for x in range(min_rp, max_rp+1):\n",
    "        for _ in range(rep_times):\n",
    "            pm.execute_notebook(input_path=f'{Path(nbs_folder)}/_motion_classification_time_series.ipynb',\n",
    "                                output_path='--',\n",
    "                                parameters=dict(\n",
    "                                    use_wandb=True,\n",
    "                                    wandb_group='x_sequence_length',\n",
    "                                    resampling_period=x\n",
    "                                ))"
   ]
  },
  {
   "cell_type": "code",
   "execution_count": null,
   "metadata": {},
   "outputs": [],
   "source": [
    "%%capture\n",
    "x_sequence_length(max_rp=2, rep_times=1)"
   ]
  },
  {
   "cell_type": "markdown",
   "metadata": {},
   "source": [
    "### Analyse how the inclusion of more and more data helps to predict better the motions of the next epsilon"
   ]
  },
  {
   "cell_type": "code",
   "execution_count": null,
   "metadata": {},
   "outputs": [],
   "source": [
    "#export experiments\n",
    "@call_parse\n",
    "def x_next_epsilon(nbs_folder:Param(\"Notebook folder path\", str)='.'):\n",
    "    base_path = Path.home()\n",
    "    ds_path = base_path/'data/fli_rotnum/model_1'\n",
    "    fnames = [\n",
    "        (ds_path/'eps=0.021/Poincare.plt', ds_path/'eps=0.021/index_fli_freqana.plt'),\n",
    "        (ds_path/'eps=0.022/Poincare.plt', ds_path/'eps=0.022/index_fli_freqana.plt'), \n",
    "        (ds_path/'eps=0.023/Poincare.plt', ds_path/'eps=0.023/index_fli_freqana.plt'), \n",
    "        (ds_path/'eps=0.024/Poincare.plt', ds_path/'eps=0.024/index_fli_freqana.plt'), \n",
    "        (ds_path/'eps=0.025/Poincare.plt', ds_path/'eps=0.025/index_fli_freqana.plt'), \n",
    "    ]\n",
    "    for i in range(2, len(fnames)+1):\n",
    "        x_input = fnames[:i]\n",
    "        val_dataset = x_input[-1][0].parent.name\n",
    "        pm.execute_notebook(input_path=f'{Path(nbs_folder)}/_motion_classification_time_series.ipynb',\n",
    "                            output_path='--',\n",
    "                            parameters=dict(\n",
    "                                use_wandb=True,\n",
    "                                wandb_group='x_next_epsilon',\n",
    "                                #fnames=x_input,\n",
    "                                val_dataset = val_dataset\n",
    "                            ))"
   ]
  },
  {
   "cell_type": "markdown",
   "metadata": {},
   "source": [
    "## Try different validation datasets"
   ]
  },
  {
   "cell_type": "code",
   "execution_count": null,
   "metadata": {},
   "outputs": [],
   "source": [
    "x_val_datasets = {\n",
    "    'name': 'x_val_datasets',\n",
    "    'description': 'Test different validation datasets,  \\\n",
    "                    keeping the training set constant',\n",
    "    'method': 'grid',\n",
    "    'metric': {\n",
    "        'name': 'accuracy',\n",
    "        'goal': 'maximize'\n",
    "    },\n",
    "    'parameters': {\n",
    "        'val_ds': {\n",
    "            'distribution': 'categorical',\n",
    "            'values': ['eps=0.021', 'eps=0.022', 'eps=0.023', 'eps=0.024', 'eps=0.025']\n",
    "        }\n",
    "    }\n",
    "}"
   ]
  },
  {
   "cell_type": "code",
   "execution_count": null,
   "metadata": {},
   "outputs": [
    {
     "name": "stdout",
     "output_type": "stream",
     "text": [
      "Create sweep with ID: wxqdxy2g\n",
      "Sweep URL: https://wandb.ai/vrodriguezf/mlchaos/sweeps/wxqdxy2g\n"
     ]
    },
    {
     "name": "stderr",
     "output_type": "stream",
     "text": [
      "\u001b[34m\u001b[1mwandb\u001b[0m: Agent Starting Run: z80op5a3 with config:\n",
      "\u001b[34m\u001b[1mwandb\u001b[0m: \tval_ds: eps=0.021\n"
     ]
    },
    {
     "data": {
      "application/vnd.jupyter.widget-view+json": {
       "model_id": "c01c7611624c403b89c6fdcdda1e4265",
       "version_major": 2,
       "version_minor": 0
      },
      "text/plain": [
       "HBox(children=(HTML(value='Executing'), FloatProgress(value=0.0, max=97.0), HTML(value='')))"
      ]
     },
     "metadata": {},
     "output_type": "display_data"
    },
    {
     "name": "stderr",
     "output_type": "stream",
     "text": [
      "Run z80op5a3 errored: PapermillExecutionError('\\n---------------------------------------------------------------------------\\nException encountered at \"In [41]\":\\n---------------------------------------------------------------------------\\nError                                     Traceback (most recent call last)\\n<ipython-input-41-8fc52ce50e85> in <module>\\n      7                         rotational=\\'magenta\\'))\\n      8 \\n----> 9 wandb.log({f\\'ML map ({val_dataset})\\': ml_map.figure})\\n\\n/usr/local/lib/python3.6/dist-packages/wandb/sdk/wandb_run.py in log(self, data, step, commit, sync)\\n    844             commit = True\\n    845         if commit:\\n--> 846             self.history._row_add(data)\\n    847         else:\\n    848             self.history._row_update(data)\\n\\n/usr/local/lib/python3.6/dist-packages/wandb/sdk/wandb_history.py in _row_add(self, row)\\n     32     def _row_add(self, row):\\n     33         self._data.update(row)\\n---> 34         self._flush()\\n     35         self._step += 1\\n     36 \\n\\n/usr/local/lib/python3.6/dist-packages/wandb/sdk/wandb_history.py in _flush(self)\\n     47             self._data[\"_timestamp\"] = int(self._data.get(\"_timestamp\", time.time()))\\n     48             if self._callback:\\n---> 49                 self._callback(row=self._data, step=self._step)\\n     50             self._data = dict()\\n     51 \\n\\n/usr/local/lib/python3.6/dist-packages/wandb/sdk/wandb_run.py in _history_callback(self, row, step)\\n    633             self._config_callback(data=self._config._as_dict())\\n    634 \\n--> 635         self._backend.interface.publish_history(row, step)\\n    636 \\n    637     def _console_callback(self, name, data):\\n\\n/usr/local/lib/python3.6/dist-packages/wandb/interface/interface.py in publish_history(self, data, step, run)\\n    164     def publish_history(self, data, step=None, run=None):\\n    165         run = run or self._run\\n--> 166         data = data_types.history_dict_to_json(run, data, step=step)\\n    167         history = wandb_internal_pb2.HistoryRecord()\\n    168         for k, v in six.iteritems(data):\\n\\n/usr/local/lib/python3.6/dist-packages/wandb/data_types.py in history_dict_to_json(run, payload, step)\\n   1699             payload[key] = history_dict_to_json(run, val, step=step)\\n   1700         else:\\n-> 1701             payload[key] = val_to_json(run, key, val, namespace=step)\\n   1702 \\n   1703     return payload\\n\\n/usr/local/lib/python3.6/dist-packages/wandb/data_types.py in val_to_json(run, key, val, namespace)\\n   1743         return data_frame_to_json(val, run, key, namespace)\\n   1744     elif util.is_matplotlib_typename(typename) or util.is_plotly_typename(typename):\\n-> 1745         val = Plotly.make_plot_media(val)\\n   1746     elif isinstance(val, collections.Sequence) and all(isinstance(v, WBValue) for v in val):\\n   1747         # This check will break down if Image/Audio/... have child classes.\\n\\n/usr/local/lib/python3.6/dist-packages/wandb/data_types.py in make_plot_media(cls, val)\\n   1280             # otherwise, convert to plotly figure\\n   1281             tools = util.get_module(\\n-> 1282                 \"plotly.tools\", required=\"plotly is required to log interactive plots, install with: pip install plotly or convert the plot to an image with `wandb.Image(plt)`\")\\n   1283             val = tools.mpl_to_plotly(val)\\n   1284         return cls(val)\\n\\n/usr/local/lib/python3.6/dist-packages/wandb/util.py in get_module(name, required)\\n    141                 logger.exception(msg)\\n    142     if required and name in _not_importable:\\n--> 143         raise wandb.Error(required)\\n    144 \\n    145 \\n\\nError: plotly is required to log interactive plots, install with: pip install plotly or convert the plot to an image with `wandb.Image(plt)`\\n',)\n",
      "\u001b[34m\u001b[1mwandb\u001b[0m: \u001b[32m\u001b[41mERROR\u001b[0m Run z80op5a3 errored: PapermillExecutionError('\\n---------------------------------------------------------------------------\\nException encountered at \"In [41]\":\\n---------------------------------------------------------------------------\\nError                                     Traceback (most recent call last)\\n<ipython-input-41-8fc52ce50e85> in <module>\\n      7                         rotational=\\'magenta\\'))\\n      8 \\n----> 9 wandb.log({f\\'ML map ({val_dataset})\\': ml_map.figure})\\n\\n/usr/local/lib/python3.6/dist-packages/wandb/sdk/wandb_run.py in log(self, data, step, commit, sync)\\n    844             commit = True\\n    845         if commit:\\n--> 846             self.history._row_add(data)\\n    847         else:\\n    848             self.history._row_update(data)\\n\\n/usr/local/lib/python3.6/dist-packages/wandb/sdk/wandb_history.py in _row_add(self, row)\\n     32     def _row_add(self, row):\\n     33         self._data.update(row)\\n---> 34         self._flush()\\n     35         self._step += 1\\n     36 \\n\\n/usr/local/lib/python3.6/dist-packages/wandb/sdk/wandb_history.py in _flush(self)\\n     47             self._data[\"_timestamp\"] = int(self._data.get(\"_timestamp\", time.time()))\\n     48             if self._callback:\\n---> 49                 self._callback(row=self._data, step=self._step)\\n     50             self._data = dict()\\n     51 \\n\\n/usr/local/lib/python3.6/dist-packages/wandb/sdk/wandb_run.py in _history_callback(self, row, step)\\n    633             self._config_callback(data=self._config._as_dict())\\n    634 \\n--> 635         self._backend.interface.publish_history(row, step)\\n    636 \\n    637     def _console_callback(self, name, data):\\n\\n/usr/local/lib/python3.6/dist-packages/wandb/interface/interface.py in publish_history(self, data, step, run)\\n    164     def publish_history(self, data, step=None, run=None):\\n    165         run = run or self._run\\n--> 166         data = data_types.history_dict_to_json(run, data, step=step)\\n    167         history = wandb_internal_pb2.HistoryRecord()\\n    168         for k, v in six.iteritems(data):\\n\\n/usr/local/lib/python3.6/dist-packages/wandb/data_types.py in history_dict_to_json(run, payload, step)\\n   1699             payload[key] = history_dict_to_json(run, val, step=step)\\n   1700         else:\\n-> 1701             payload[key] = val_to_json(run, key, val, namespace=step)\\n   1702 \\n   1703     return payload\\n\\n/usr/local/lib/python3.6/dist-packages/wandb/data_types.py in val_to_json(run, key, val, namespace)\\n   1743         return data_frame_to_json(val, run, key, namespace)\\n   1744     elif util.is_matplotlib_typename(typename) or util.is_plotly_typename(typename):\\n-> 1745         val = Plotly.make_plot_media(val)\\n   1746     elif isinstance(val, collections.Sequence) and all(isinstance(v, WBValue) for v in val):\\n   1747         # This check will break down if Image/Audio/... have child classes.\\n\\n/usr/local/lib/python3.6/dist-packages/wandb/data_types.py in make_plot_media(cls, val)\\n   1280             # otherwise, convert to plotly figure\\n   1281             tools = util.get_module(\\n-> 1282                 \"plotly.tools\", required=\"plotly is required to log interactive plots, install with: pip install plotly or convert the plot to an image with `wandb.Image(plt)`\")\\n   1283             val = tools.mpl_to_plotly(val)\\n   1284         return cls(val)\\n\\n/usr/local/lib/python3.6/dist-packages/wandb/util.py in get_module(name, required)\\n    141                 logger.exception(msg)\\n    142     if required and name in _not_importable:\\n--> 143         raise wandb.Error(required)\\n    144 \\n    145 \\n\\nError: plotly is required to log interactive plots, install with: pip install plotly or convert the plot to an image with `wandb.Image(plt)`\\n',)\n"
     ]
    },
    {
     "name": "stdout",
     "output_type": "stream",
     "text": [
      "\n"
     ]
    },
    {
     "name": "stderr",
     "output_type": "stream",
     "text": [
      "\u001b[34m\u001b[1mwandb\u001b[0m: Agent Starting Run: ihwejwvp with config:\n",
      "\u001b[34m\u001b[1mwandb\u001b[0m: \tval_ds: eps=0.022\n"
     ]
    },
    {
     "data": {
      "application/vnd.jupyter.widget-view+json": {
       "model_id": "2b976a3b54834accaaa1ae7f5266e4ce",
       "version_major": 2,
       "version_minor": 0
      },
      "text/plain": [
       "HBox(children=(HTML(value='Executing'), FloatProgress(value=0.0, max=97.0), HTML(value='')))"
      ]
     },
     "metadata": {},
     "output_type": "display_data"
    },
    {
     "name": "stderr",
     "output_type": "stream",
     "text": [
      "Run ihwejwvp errored: PapermillExecutionError('\\n---------------------------------------------------------------------------\\nException encountered at \"In [41]\":\\n---------------------------------------------------------------------------\\nError                                     Traceback (most recent call last)\\n<ipython-input-41-8fc52ce50e85> in <module>\\n      7                         rotational=\\'magenta\\'))\\n      8 \\n----> 9 wandb.log({f\\'ML map ({val_dataset})\\': ml_map.figure})\\n\\n/usr/local/lib/python3.6/dist-packages/wandb/sdk/wandb_run.py in log(self, data, step, commit, sync)\\n    844             commit = True\\n    845         if commit:\\n--> 846             self.history._row_add(data)\\n    847         else:\\n    848             self.history._row_update(data)\\n\\n/usr/local/lib/python3.6/dist-packages/wandb/sdk/wandb_history.py in _row_add(self, row)\\n     32     def _row_add(self, row):\\n     33         self._data.update(row)\\n---> 34         self._flush()\\n     35         self._step += 1\\n     36 \\n\\n/usr/local/lib/python3.6/dist-packages/wandb/sdk/wandb_history.py in _flush(self)\\n     47             self._data[\"_timestamp\"] = int(self._data.get(\"_timestamp\", time.time()))\\n     48             if self._callback:\\n---> 49                 self._callback(row=self._data, step=self._step)\\n     50             self._data = dict()\\n     51 \\n\\n/usr/local/lib/python3.6/dist-packages/wandb/sdk/wandb_run.py in _history_callback(self, row, step)\\n    633             self._config_callback(data=self._config._as_dict())\\n    634 \\n--> 635         self._backend.interface.publish_history(row, step)\\n    636 \\n    637     def _console_callback(self, name, data):\\n\\n/usr/local/lib/python3.6/dist-packages/wandb/interface/interface.py in publish_history(self, data, step, run)\\n    164     def publish_history(self, data, step=None, run=None):\\n    165         run = run or self._run\\n--> 166         data = data_types.history_dict_to_json(run, data, step=step)\\n    167         history = wandb_internal_pb2.HistoryRecord()\\n    168         for k, v in six.iteritems(data):\\n\\n/usr/local/lib/python3.6/dist-packages/wandb/data_types.py in history_dict_to_json(run, payload, step)\\n   1699             payload[key] = history_dict_to_json(run, val, step=step)\\n   1700         else:\\n-> 1701             payload[key] = val_to_json(run, key, val, namespace=step)\\n   1702 \\n   1703     return payload\\n\\n/usr/local/lib/python3.6/dist-packages/wandb/data_types.py in val_to_json(run, key, val, namespace)\\n   1743         return data_frame_to_json(val, run, key, namespace)\\n   1744     elif util.is_matplotlib_typename(typename) or util.is_plotly_typename(typename):\\n-> 1745         val = Plotly.make_plot_media(val)\\n   1746     elif isinstance(val, collections.Sequence) and all(isinstance(v, WBValue) for v in val):\\n   1747         # This check will break down if Image/Audio/... have child classes.\\n\\n/usr/local/lib/python3.6/dist-packages/wandb/data_types.py in make_plot_media(cls, val)\\n   1280             # otherwise, convert to plotly figure\\n   1281             tools = util.get_module(\\n-> 1282                 \"plotly.tools\", required=\"plotly is required to log interactive plots, install with: pip install plotly or convert the plot to an image with `wandb.Image(plt)`\")\\n   1283             val = tools.mpl_to_plotly(val)\\n   1284         return cls(val)\\n\\n/usr/local/lib/python3.6/dist-packages/wandb/util.py in get_module(name, required)\\n    141                 logger.exception(msg)\\n    142     if required and name in _not_importable:\\n--> 143         raise wandb.Error(required)\\n    144 \\n    145 \\n\\nError: plotly is required to log interactive plots, install with: pip install plotly or convert the plot to an image with `wandb.Image(plt)`\\n',)\n",
      "\u001b[34m\u001b[1mwandb\u001b[0m: \u001b[32m\u001b[41mERROR\u001b[0m Run ihwejwvp errored: PapermillExecutionError('\\n---------------------------------------------------------------------------\\nException encountered at \"In [41]\":\\n---------------------------------------------------------------------------\\nError                                     Traceback (most recent call last)\\n<ipython-input-41-8fc52ce50e85> in <module>\\n      7                         rotational=\\'magenta\\'))\\n      8 \\n----> 9 wandb.log({f\\'ML map ({val_dataset})\\': ml_map.figure})\\n\\n/usr/local/lib/python3.6/dist-packages/wandb/sdk/wandb_run.py in log(self, data, step, commit, sync)\\n    844             commit = True\\n    845         if commit:\\n--> 846             self.history._row_add(data)\\n    847         else:\\n    848             self.history._row_update(data)\\n\\n/usr/local/lib/python3.6/dist-packages/wandb/sdk/wandb_history.py in _row_add(self, row)\\n     32     def _row_add(self, row):\\n     33         self._data.update(row)\\n---> 34         self._flush()\\n     35         self._step += 1\\n     36 \\n\\n/usr/local/lib/python3.6/dist-packages/wandb/sdk/wandb_history.py in _flush(self)\\n     47             self._data[\"_timestamp\"] = int(self._data.get(\"_timestamp\", time.time()))\\n     48             if self._callback:\\n---> 49                 self._callback(row=self._data, step=self._step)\\n     50             self._data = dict()\\n     51 \\n\\n/usr/local/lib/python3.6/dist-packages/wandb/sdk/wandb_run.py in _history_callback(self, row, step)\\n    633             self._config_callback(data=self._config._as_dict())\\n    634 \\n--> 635         self._backend.interface.publish_history(row, step)\\n    636 \\n    637     def _console_callback(self, name, data):\\n\\n/usr/local/lib/python3.6/dist-packages/wandb/interface/interface.py in publish_history(self, data, step, run)\\n    164     def publish_history(self, data, step=None, run=None):\\n    165         run = run or self._run\\n--> 166         data = data_types.history_dict_to_json(run, data, step=step)\\n    167         history = wandb_internal_pb2.HistoryRecord()\\n    168         for k, v in six.iteritems(data):\\n\\n/usr/local/lib/python3.6/dist-packages/wandb/data_types.py in history_dict_to_json(run, payload, step)\\n   1699             payload[key] = history_dict_to_json(run, val, step=step)\\n   1700         else:\\n-> 1701             payload[key] = val_to_json(run, key, val, namespace=step)\\n   1702 \\n   1703     return payload\\n\\n/usr/local/lib/python3.6/dist-packages/wandb/data_types.py in val_to_json(run, key, val, namespace)\\n   1743         return data_frame_to_json(val, run, key, namespace)\\n   1744     elif util.is_matplotlib_typename(typename) or util.is_plotly_typename(typename):\\n-> 1745         val = Plotly.make_plot_media(val)\\n   1746     elif isinstance(val, collections.Sequence) and all(isinstance(v, WBValue) for v in val):\\n   1747         # This check will break down if Image/Audio/... have child classes.\\n\\n/usr/local/lib/python3.6/dist-packages/wandb/data_types.py in make_plot_media(cls, val)\\n   1280             # otherwise, convert to plotly figure\\n   1281             tools = util.get_module(\\n-> 1282                 \"plotly.tools\", required=\"plotly is required to log interactive plots, install with: pip install plotly or convert the plot to an image with `wandb.Image(plt)`\")\\n   1283             val = tools.mpl_to_plotly(val)\\n   1284         return cls(val)\\n\\n/usr/local/lib/python3.6/dist-packages/wandb/util.py in get_module(name, required)\\n    141                 logger.exception(msg)\\n    142     if required and name in _not_importable:\\n--> 143         raise wandb.Error(required)\\n    144 \\n    145 \\n\\nError: plotly is required to log interactive plots, install with: pip install plotly or convert the plot to an image with `wandb.Image(plt)`\\n',)\n"
     ]
    },
    {
     "name": "stdout",
     "output_type": "stream",
     "text": [
      "\n"
     ]
    },
    {
     "name": "stderr",
     "output_type": "stream",
     "text": [
      "\u001b[34m\u001b[1mwandb\u001b[0m: Agent Starting Run: 89ri9wlj with config:\n",
      "\u001b[34m\u001b[1mwandb\u001b[0m: \tval_ds: eps=0.023\n"
     ]
    },
    {
     "data": {
      "application/vnd.jupyter.widget-view+json": {
       "model_id": "c09a434931af4a28b2fc17593bf59fec",
       "version_major": 2,
       "version_minor": 0
      },
      "text/plain": [
       "HBox(children=(HTML(value='Executing'), FloatProgress(value=0.0, max=97.0), HTML(value='')))"
      ]
     },
     "metadata": {},
     "output_type": "display_data"
    },
    {
     "name": "stderr",
     "output_type": "stream",
     "text": [
      "Run 89ri9wlj errored: PapermillExecutionError('\\n---------------------------------------------------------------------------\\nException encountered at \"In [41]\":\\n---------------------------------------------------------------------------\\nError                                     Traceback (most recent call last)\\n<ipython-input-41-8fc52ce50e85> in <module>\\n      7                         rotational=\\'magenta\\'))\\n      8 \\n----> 9 wandb.log({f\\'ML map ({val_dataset})\\': ml_map.figure})\\n\\n/usr/local/lib/python3.6/dist-packages/wandb/sdk/wandb_run.py in log(self, data, step, commit, sync)\\n    844             commit = True\\n    845         if commit:\\n--> 846             self.history._row_add(data)\\n    847         else:\\n    848             self.history._row_update(data)\\n\\n/usr/local/lib/python3.6/dist-packages/wandb/sdk/wandb_history.py in _row_add(self, row)\\n     32     def _row_add(self, row):\\n     33         self._data.update(row)\\n---> 34         self._flush()\\n     35         self._step += 1\\n     36 \\n\\n/usr/local/lib/python3.6/dist-packages/wandb/sdk/wandb_history.py in _flush(self)\\n     47             self._data[\"_timestamp\"] = int(self._data.get(\"_timestamp\", time.time()))\\n     48             if self._callback:\\n---> 49                 self._callback(row=self._data, step=self._step)\\n     50             self._data = dict()\\n     51 \\n\\n/usr/local/lib/python3.6/dist-packages/wandb/sdk/wandb_run.py in _history_callback(self, row, step)\\n    633             self._config_callback(data=self._config._as_dict())\\n    634 \\n--> 635         self._backend.interface.publish_history(row, step)\\n    636 \\n    637     def _console_callback(self, name, data):\\n\\n/usr/local/lib/python3.6/dist-packages/wandb/interface/interface.py in publish_history(self, data, step, run)\\n    164     def publish_history(self, data, step=None, run=None):\\n    165         run = run or self._run\\n--> 166         data = data_types.history_dict_to_json(run, data, step=step)\\n    167         history = wandb_internal_pb2.HistoryRecord()\\n    168         for k, v in six.iteritems(data):\\n\\n/usr/local/lib/python3.6/dist-packages/wandb/data_types.py in history_dict_to_json(run, payload, step)\\n   1699             payload[key] = history_dict_to_json(run, val, step=step)\\n   1700         else:\\n-> 1701             payload[key] = val_to_json(run, key, val, namespace=step)\\n   1702 \\n   1703     return payload\\n\\n/usr/local/lib/python3.6/dist-packages/wandb/data_types.py in val_to_json(run, key, val, namespace)\\n   1743         return data_frame_to_json(val, run, key, namespace)\\n   1744     elif util.is_matplotlib_typename(typename) or util.is_plotly_typename(typename):\\n-> 1745         val = Plotly.make_plot_media(val)\\n   1746     elif isinstance(val, collections.Sequence) and all(isinstance(v, WBValue) for v in val):\\n   1747         # This check will break down if Image/Audio/... have child classes.\\n\\n/usr/local/lib/python3.6/dist-packages/wandb/data_types.py in make_plot_media(cls, val)\\n   1280             # otherwise, convert to plotly figure\\n   1281             tools = util.get_module(\\n-> 1282                 \"plotly.tools\", required=\"plotly is required to log interactive plots, install with: pip install plotly or convert the plot to an image with `wandb.Image(plt)`\")\\n   1283             val = tools.mpl_to_plotly(val)\\n   1284         return cls(val)\\n\\n/usr/local/lib/python3.6/dist-packages/wandb/util.py in get_module(name, required)\\n    141                 logger.exception(msg)\\n    142     if required and name in _not_importable:\\n--> 143         raise wandb.Error(required)\\n    144 \\n    145 \\n\\nError: plotly is required to log interactive plots, install with: pip install plotly or convert the plot to an image with `wandb.Image(plt)`\\n',)\n",
      "\u001b[34m\u001b[1mwandb\u001b[0m: \u001b[32m\u001b[41mERROR\u001b[0m Run 89ri9wlj errored: PapermillExecutionError('\\n---------------------------------------------------------------------------\\nException encountered at \"In [41]\":\\n---------------------------------------------------------------------------\\nError                                     Traceback (most recent call last)\\n<ipython-input-41-8fc52ce50e85> in <module>\\n      7                         rotational=\\'magenta\\'))\\n      8 \\n----> 9 wandb.log({f\\'ML map ({val_dataset})\\': ml_map.figure})\\n\\n/usr/local/lib/python3.6/dist-packages/wandb/sdk/wandb_run.py in log(self, data, step, commit, sync)\\n    844             commit = True\\n    845         if commit:\\n--> 846             self.history._row_add(data)\\n    847         else:\\n    848             self.history._row_update(data)\\n\\n/usr/local/lib/python3.6/dist-packages/wandb/sdk/wandb_history.py in _row_add(self, row)\\n     32     def _row_add(self, row):\\n     33         self._data.update(row)\\n---> 34         self._flush()\\n     35         self._step += 1\\n     36 \\n\\n/usr/local/lib/python3.6/dist-packages/wandb/sdk/wandb_history.py in _flush(self)\\n     47             self._data[\"_timestamp\"] = int(self._data.get(\"_timestamp\", time.time()))\\n     48             if self._callback:\\n---> 49                 self._callback(row=self._data, step=self._step)\\n     50             self._data = dict()\\n     51 \\n\\n/usr/local/lib/python3.6/dist-packages/wandb/sdk/wandb_run.py in _history_callback(self, row, step)\\n    633             self._config_callback(data=self._config._as_dict())\\n    634 \\n--> 635         self._backend.interface.publish_history(row, step)\\n    636 \\n    637     def _console_callback(self, name, data):\\n\\n/usr/local/lib/python3.6/dist-packages/wandb/interface/interface.py in publish_history(self, data, step, run)\\n    164     def publish_history(self, data, step=None, run=None):\\n    165         run = run or self._run\\n--> 166         data = data_types.history_dict_to_json(run, data, step=step)\\n    167         history = wandb_internal_pb2.HistoryRecord()\\n    168         for k, v in six.iteritems(data):\\n\\n/usr/local/lib/python3.6/dist-packages/wandb/data_types.py in history_dict_to_json(run, payload, step)\\n   1699             payload[key] = history_dict_to_json(run, val, step=step)\\n   1700         else:\\n-> 1701             payload[key] = val_to_json(run, key, val, namespace=step)\\n   1702 \\n   1703     return payload\\n\\n/usr/local/lib/python3.6/dist-packages/wandb/data_types.py in val_to_json(run, key, val, namespace)\\n   1743         return data_frame_to_json(val, run, key, namespace)\\n   1744     elif util.is_matplotlib_typename(typename) or util.is_plotly_typename(typename):\\n-> 1745         val = Plotly.make_plot_media(val)\\n   1746     elif isinstance(val, collections.Sequence) and all(isinstance(v, WBValue) for v in val):\\n   1747         # This check will break down if Image/Audio/... have child classes.\\n\\n/usr/local/lib/python3.6/dist-packages/wandb/data_types.py in make_plot_media(cls, val)\\n   1280             # otherwise, convert to plotly figure\\n   1281             tools = util.get_module(\\n-> 1282                 \"plotly.tools\", required=\"plotly is required to log interactive plots, install with: pip install plotly or convert the plot to an image with `wandb.Image(plt)`\")\\n   1283             val = tools.mpl_to_plotly(val)\\n   1284         return cls(val)\\n\\n/usr/local/lib/python3.6/dist-packages/wandb/util.py in get_module(name, required)\\n    141                 logger.exception(msg)\\n    142     if required and name in _not_importable:\\n--> 143         raise wandb.Error(required)\\n    144 \\n    145 \\n\\nError: plotly is required to log interactive plots, install with: pip install plotly or convert the plot to an image with `wandb.Image(plt)`\\n',)\n"
     ]
    },
    {
     "name": "stdout",
     "output_type": "stream",
     "text": [
      "\n"
     ]
    },
    {
     "name": "stderr",
     "output_type": "stream",
     "text": [
      "\u001b[34m\u001b[1mwandb\u001b[0m: Agent Starting Run: hux0w8o9 with config:\n",
      "\u001b[34m\u001b[1mwandb\u001b[0m: \tval_ds: eps=0.024\n"
     ]
    },
    {
     "data": {
      "application/vnd.jupyter.widget-view+json": {
       "model_id": "02b1510196604264b224fd46f5e9bd31",
       "version_major": 2,
       "version_minor": 0
      },
      "text/plain": [
       "HBox(children=(HTML(value='Executing'), FloatProgress(value=0.0, max=97.0), HTML(value='')))"
      ]
     },
     "metadata": {},
     "output_type": "display_data"
    },
    {
     "name": "stderr",
     "output_type": "stream",
     "text": [
      "Run hux0w8o9 errored: PapermillExecutionError('\\n---------------------------------------------------------------------------\\nException encountered at \"In [41]\":\\n---------------------------------------------------------------------------\\nError                                     Traceback (most recent call last)\\n<ipython-input-41-8fc52ce50e85> in <module>\\n      7                         rotational=\\'magenta\\'))\\n      8 \\n----> 9 wandb.log({f\\'ML map ({val_dataset})\\': ml_map.figure})\\n\\n/usr/local/lib/python3.6/dist-packages/wandb/sdk/wandb_run.py in log(self, data, step, commit, sync)\\n    844             commit = True\\n    845         if commit:\\n--> 846             self.history._row_add(data)\\n    847         else:\\n    848             self.history._row_update(data)\\n\\n/usr/local/lib/python3.6/dist-packages/wandb/sdk/wandb_history.py in _row_add(self, row)\\n     32     def _row_add(self, row):\\n     33         self._data.update(row)\\n---> 34         self._flush()\\n     35         self._step += 1\\n     36 \\n\\n/usr/local/lib/python3.6/dist-packages/wandb/sdk/wandb_history.py in _flush(self)\\n     47             self._data[\"_timestamp\"] = int(self._data.get(\"_timestamp\", time.time()))\\n     48             if self._callback:\\n---> 49                 self._callback(row=self._data, step=self._step)\\n     50             self._data = dict()\\n     51 \\n\\n/usr/local/lib/python3.6/dist-packages/wandb/sdk/wandb_run.py in _history_callback(self, row, step)\\n    633             self._config_callback(data=self._config._as_dict())\\n    634 \\n--> 635         self._backend.interface.publish_history(row, step)\\n    636 \\n    637     def _console_callback(self, name, data):\\n\\n/usr/local/lib/python3.6/dist-packages/wandb/interface/interface.py in publish_history(self, data, step, run)\\n    164     def publish_history(self, data, step=None, run=None):\\n    165         run = run or self._run\\n--> 166         data = data_types.history_dict_to_json(run, data, step=step)\\n    167         history = wandb_internal_pb2.HistoryRecord()\\n    168         for k, v in six.iteritems(data):\\n\\n/usr/local/lib/python3.6/dist-packages/wandb/data_types.py in history_dict_to_json(run, payload, step)\\n   1699             payload[key] = history_dict_to_json(run, val, step=step)\\n   1700         else:\\n-> 1701             payload[key] = val_to_json(run, key, val, namespace=step)\\n   1702 \\n   1703     return payload\\n\\n/usr/local/lib/python3.6/dist-packages/wandb/data_types.py in val_to_json(run, key, val, namespace)\\n   1743         return data_frame_to_json(val, run, key, namespace)\\n   1744     elif util.is_matplotlib_typename(typename) or util.is_plotly_typename(typename):\\n-> 1745         val = Plotly.make_plot_media(val)\\n   1746     elif isinstance(val, collections.Sequence) and all(isinstance(v, WBValue) for v in val):\\n   1747         # This check will break down if Image/Audio/... have child classes.\\n\\n/usr/local/lib/python3.6/dist-packages/wandb/data_types.py in make_plot_media(cls, val)\\n   1280             # otherwise, convert to plotly figure\\n   1281             tools = util.get_module(\\n-> 1282                 \"plotly.tools\", required=\"plotly is required to log interactive plots, install with: pip install plotly or convert the plot to an image with `wandb.Image(plt)`\")\\n   1283             val = tools.mpl_to_plotly(val)\\n   1284         return cls(val)\\n\\n/usr/local/lib/python3.6/dist-packages/wandb/util.py in get_module(name, required)\\n    141                 logger.exception(msg)\\n    142     if required and name in _not_importable:\\n--> 143         raise wandb.Error(required)\\n    144 \\n    145 \\n\\nError: plotly is required to log interactive plots, install with: pip install plotly or convert the plot to an image with `wandb.Image(plt)`\\n',)\n",
      "\u001b[34m\u001b[1mwandb\u001b[0m: \u001b[32m\u001b[41mERROR\u001b[0m Run hux0w8o9 errored: PapermillExecutionError('\\n---------------------------------------------------------------------------\\nException encountered at \"In [41]\":\\n---------------------------------------------------------------------------\\nError                                     Traceback (most recent call last)\\n<ipython-input-41-8fc52ce50e85> in <module>\\n      7                         rotational=\\'magenta\\'))\\n      8 \\n----> 9 wandb.log({f\\'ML map ({val_dataset})\\': ml_map.figure})\\n\\n/usr/local/lib/python3.6/dist-packages/wandb/sdk/wandb_run.py in log(self, data, step, commit, sync)\\n    844             commit = True\\n    845         if commit:\\n--> 846             self.history._row_add(data)\\n    847         else:\\n    848             self.history._row_update(data)\\n\\n/usr/local/lib/python3.6/dist-packages/wandb/sdk/wandb_history.py in _row_add(self, row)\\n     32     def _row_add(self, row):\\n     33         self._data.update(row)\\n---> 34         self._flush()\\n     35         self._step += 1\\n     36 \\n\\n/usr/local/lib/python3.6/dist-packages/wandb/sdk/wandb_history.py in _flush(self)\\n     47             self._data[\"_timestamp\"] = int(self._data.get(\"_timestamp\", time.time()))\\n     48             if self._callback:\\n---> 49                 self._callback(row=self._data, step=self._step)\\n     50             self._data = dict()\\n     51 \\n\\n/usr/local/lib/python3.6/dist-packages/wandb/sdk/wandb_run.py in _history_callback(self, row, step)\\n    633             self._config_callback(data=self._config._as_dict())\\n    634 \\n--> 635         self._backend.interface.publish_history(row, step)\\n    636 \\n    637     def _console_callback(self, name, data):\\n\\n/usr/local/lib/python3.6/dist-packages/wandb/interface/interface.py in publish_history(self, data, step, run)\\n    164     def publish_history(self, data, step=None, run=None):\\n    165         run = run or self._run\\n--> 166         data = data_types.history_dict_to_json(run, data, step=step)\\n    167         history = wandb_internal_pb2.HistoryRecord()\\n    168         for k, v in six.iteritems(data):\\n\\n/usr/local/lib/python3.6/dist-packages/wandb/data_types.py in history_dict_to_json(run, payload, step)\\n   1699             payload[key] = history_dict_to_json(run, val, step=step)\\n   1700         else:\\n-> 1701             payload[key] = val_to_json(run, key, val, namespace=step)\\n   1702 \\n   1703     return payload\\n\\n/usr/local/lib/python3.6/dist-packages/wandb/data_types.py in val_to_json(run, key, val, namespace)\\n   1743         return data_frame_to_json(val, run, key, namespace)\\n   1744     elif util.is_matplotlib_typename(typename) or util.is_plotly_typename(typename):\\n-> 1745         val = Plotly.make_plot_media(val)\\n   1746     elif isinstance(val, collections.Sequence) and all(isinstance(v, WBValue) for v in val):\\n   1747         # This check will break down if Image/Audio/... have child classes.\\n\\n/usr/local/lib/python3.6/dist-packages/wandb/data_types.py in make_plot_media(cls, val)\\n   1280             # otherwise, convert to plotly figure\\n   1281             tools = util.get_module(\\n-> 1282                 \"plotly.tools\", required=\"plotly is required to log interactive plots, install with: pip install plotly or convert the plot to an image with `wandb.Image(plt)`\")\\n   1283             val = tools.mpl_to_plotly(val)\\n   1284         return cls(val)\\n\\n/usr/local/lib/python3.6/dist-packages/wandb/util.py in get_module(name, required)\\n    141                 logger.exception(msg)\\n    142     if required and name in _not_importable:\\n--> 143         raise wandb.Error(required)\\n    144 \\n    145 \\n\\nError: plotly is required to log interactive plots, install with: pip install plotly or convert the plot to an image with `wandb.Image(plt)`\\n',)\n"
     ]
    },
    {
     "name": "stdout",
     "output_type": "stream",
     "text": [
      "\n"
     ]
    },
    {
     "name": "stderr",
     "output_type": "stream",
     "text": [
      "\u001b[34m\u001b[1mwandb\u001b[0m: Agent Starting Run: a6cf6jba with config:\n",
      "\u001b[34m\u001b[1mwandb\u001b[0m: \tval_ds: eps=0.025\n"
     ]
    },
    {
     "data": {
      "application/vnd.jupyter.widget-view+json": {
       "model_id": "729c76ce2ddc4207b97cf17ff2c88943",
       "version_major": 2,
       "version_minor": 0
      },
      "text/plain": [
       "HBox(children=(HTML(value='Executing'), FloatProgress(value=0.0, max=97.0), HTML(value='')))"
      ]
     },
     "metadata": {},
     "output_type": "display_data"
    }
   ],
   "source": [
    "sweep_id=wandb.sweep(x_val_datasets, project='mlchaos')\n",
    "wandb.agent(sweep_id,\n",
    "            function=partial(pm.execute_notebook, \n",
    "                             input_path='./_motion_classification_time_series.ipynb', \n",
    "                             output_path='__.ipynb'))"
   ]
  },
  {
   "cell_type": "markdown",
   "metadata": {},
   "source": [
    "## Analyse the effect of the labelling method"
   ]
  },
  {
   "cell_type": "code",
   "execution_count": null,
   "metadata": {},
   "outputs": [],
   "source": [
    "%nbdev_export experiments\n",
    "@call_parse\n",
    "def x_labelling_method(rep_times:Param(\"Number of times to run per experiment\", int)=10,\n",
    "                      nbs_folder:Param(\"Notebook folder path\", str)='.'):\n",
    "    for lbl_method in ['fli', 'freq_ana', 'birkhoff_avg']:\n",
    "        for _ in range(rep_times):\n",
    "            pm.execute_notebook(input_path=f'{Path(nbs_folder)}/_motion_classification_time_series.ipynb',\n",
    "                                output_path='--',\n",
    "                                parameters=dict(\n",
    "                                    use_wandb=True,\n",
    "                                    wandb_group='x_labelling_method',\n",
    "                                    labelling_method=lbl_method\n",
    "                                ))"
   ]
  }
 ],
 "metadata": {
  "kernelspec": {
   "display_name": "Python 3",
   "language": "python",
   "name": "python3"
  }
 },
 "nbformat": 4,
 "nbformat_minor": 4
}
