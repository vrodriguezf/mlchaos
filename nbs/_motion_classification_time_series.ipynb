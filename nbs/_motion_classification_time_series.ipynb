{
 "cells": [
  {
   "cell_type": "code",
   "execution_count": null,
   "metadata": {},
   "outputs": [],
   "source": [
    "# hide\n",
    "import sys\n",
    "sys.path.append(\"..\")\n",
    "%load_ext autoreload\n",
    "%autoreload 2"
   ]
  },
  {
   "cell_type": "markdown",
   "metadata": {},
   "source": [
    "# Motion classification with time series using deep learning\n",
    "\n",
    "> Classify between chaotic, rotational and librational motion using the evolution of the coordinates x and y in the Poincare map"
   ]
  },
  {
   "cell_type": "markdown",
   "metadata": {},
   "source": [
    "## Requirements"
   ]
  },
  {
   "cell_type": "code",
   "execution_count": null,
   "metadata": {},
   "outputs": [],
   "source": [
    "import sys\n",
    "ISCOLAB = 'google.colab' in sys.modules\n",
    "if ISCOLAB:\n",
    "    !pip install git+https://github.com/fastai/fastcore.git@master -q\n",
    "    !pip install git+https://github.com/fastai/fastai2.git@master -q\n",
    "    !pip install git+https://github.com/ai-fast-track/timeseries.git -q\n",
    "    !pip install wandb -q"
   ]
  },
  {
   "cell_type": "code",
   "execution_count": null,
   "metadata": {},
   "outputs": [],
   "source": [
    "from fastai.basics import *\n",
    "from tsai.all import * # Used form models, and possibly pre-processing\n",
    "from timeseries.all import * # Used for dataloaders \n",
    "from mlchaos.all import *\n",
    "import wandb\n",
    "from fastai.callback.wandb import *"
   ]
  },
  {
   "cell_type": "code",
   "execution_count": null,
   "metadata": {},
   "outputs": [],
   "source": [
    "base_path = Path.home()/'rclone_local/gdrive/Universidad/Proyectos/2020/MLchaos'\n",
    "ds_path = base_path/'fli_rotnum/model_1'"
   ]
  },
  {
   "cell_type": "markdown",
   "metadata": {},
   "source": [
    "## Notebook parameters \n",
    "Put here everything that could be needed if this notebook was called from outside, as an script"
   ]
  },
  {
   "cell_type": "code",
   "execution_count": null,
   "metadata": {},
   "outputs": [],
   "source": [
    "use_wandb = False # Whether to use or not wandb for experiment tracking\n",
    "wandb_group = None # Whether to group this run in a wandb group\n",
    "resampling_period = 4 # * Natural number. Set to None if no resampling is desired\n",
    "labelling_method = 'birav' # [fli, fli_no_uncertainty, freq_ana, birkhoff_avg, ...]\n",
    "multiindex_handler = None # None (default), random, uncertainty. Only if labelling method = combined\n",
    "val_dataset = 'eps=0.023' # * The rest of the datasets in fnames will be used for training\n",
    "fnames_poinc_map = [ds_path/'eps=0.021/Poincare.plt', \n",
    "                    ds_path/'eps=0.022/Poincare.plt', \n",
    "                    ds_path/'eps=0.023/Poincare.plt',\n",
    "                    ds_path/'eps=0.024/Poincare.plt', \n",
    "                    ds_path/'eps=0.025/Poincare.plt']\n",
    "fnames_index = [ds_path/'eps=0.021/index_fli_rotnum_birav_birrefined_v3.plt', \n",
    "               ds_path/'eps=0.022/index_fli_rotnum_birav_birrefined_v3.plt',\n",
    "               ds_path/'eps=0.023/index_fli_rotnum_birav_birrefined_v3.plt',\n",
    "               ds_path/'eps=0.024/index_fli_rotnum_birav_birrefined_v3.plt',\n",
    "               ds_path/'eps=0.025/index_fli_rotnum_birav_birrefined_v3.plt']"
   ]
  },
  {
   "cell_type": "markdown",
   "metadata": {},
   "source": [
    "## Syncing with Weights & Biases\n",
    "\n",
    "For large experiments, when this notebooks is called from outside with different parameters, it is important to use wandb to track the results and config of this notebook and to track and aggregate the results online afterwards."
   ]
  },
  {
   "cell_type": "code",
   "execution_count": null,
   "metadata": {},
   "outputs": [
    {
     "data": {
      "text/plain": []
     },
     "execution_count": null,
     "metadata": {},
     "output_type": "execute_result"
    }
   ],
   "source": [
    "wandb.init(mode='online' if use_wandb else 'disabled', \n",
    "           entity='vrodriguezf', project='mlchaos', group=wandb_group, \n",
    "           allow_val_change=True)"
   ]
  },
  {
   "cell_type": "markdown",
   "metadata": {},
   "source": [
    "## Loading the data"
   ]
  },
  {
   "cell_type": "markdown",
   "metadata": {},
   "source": [
    "The data must be loaded as a `TSDataChaos` object, created from a pair (or a sequence of pairs) of files:\n",
    "1. The first file of the pair contains the data of the Poincare map\n",
    "2. The second file of the pair contains the index of the motion (0.0, 1.0 or 2.0). The column that contains the index is given as a parameter of this notebook\n",
    "\n",
    "Depending on the labelling method, a different column from the index file will be used as `y` on the data. `x` will always be the time series."
   ]
  },
  {
   "cell_type": "code",
   "execution_count": null,
   "metadata": {},
   "outputs": [],
   "source": [
    "wandb.config.fnames_poinc_map = fnames_poinc_map\n",
    "wandb.config.fnames_index = fnames_index"
   ]
  },
  {
   "cell_type": "code",
   "execution_count": null,
   "metadata": {},
   "outputs": [],
   "source": [
    "fnames = L(fnames_poinc_map).zipwith(fnames_index)"
   ]
  },
  {
   "cell_type": "code",
   "execution_count": null,
   "metadata": {},
   "outputs": [],
   "source": [
    "wandb.config.labelling_method = ifnone(wandb.config.get('labelling_method'), labelling_method)\n",
    "index_cols = {\n",
    "    \"fli\": 4,\n",
    "    \"fli_no_uncertainty\": 5,\n",
    "    \"freq_ana_eq_3.5\": 6,\n",
    "    \"freq_ana_eq_3.6\": 7,\n",
    "    \"birav\": 8,\n",
    "    \"birav_refined\": 9,\n",
    "    \"combined\": list(range(4,9)) # Exclude the birav refined from the combined since it has different classes\n",
    "}"
   ]
  },
  {
   "cell_type": "code",
   "execution_count": null,
   "metadata": {},
   "outputs": [],
   "source": [
    "wandb.config.fnames = fnames\n",
    "wandb.config.multiindex_handler = multiindex_handler\n",
    "data = TSDataChaos.from_poincare_and_index_files(fnames, \n",
    "                                                 index_col=index_cols[wandb.config.labelling_method], \n",
    "                                                 multiindex_handler=multiindex_handler)\n",
    "data"
   ]
  },
  {
   "cell_type": "markdown",
   "metadata": {},
   "source": [
    "Check the distribution of classes in the dataset"
   ]
  },
  {
   "cell_type": "code",
   "execution_count": null,
   "metadata": {},
   "outputs": [],
   "source": [
    "np.unique(data.y, return_counts=True)"
   ]
  },
  {
   "cell_type": "markdown",
   "metadata": {},
   "source": [
    "The class -1 represents uncertainty in the FLI-based classication. If desired, we can remove that class from the dataset, by changing the flag `add_uncertainty_class` in the cell below. "
   ]
  },
  {
   "cell_type": "code",
   "execution_count": null,
   "metadata": {},
   "outputs": [],
   "source": [
    "wandb.config.add_uncertainty_class = False"
   ]
  },
  {
   "cell_type": "code",
   "execution_count": null,
   "metadata": {},
   "outputs": [],
   "source": [
    "# TODO: Move this to a function\n",
    "if not wandb.config.add_uncertainty_class:\n",
    "    data.remove_uncertainty()\n",
    "wandb.config.nb_samples = data.get_nb_samples()\n",
    "data"
   ]
  },
  {
   "cell_type": "markdown",
   "metadata": {},
   "source": [
    "The data can be resampled to a lower frequency if desired. The reason why this is interesting is because being able to produce an accurate classification without the need of many data points per time series makes this procedure applicable to observational data. As an example, choosing `resampling_period` equals to 2 means that the time series will be resampled in a way that we take one point every 2 points of the original data.  "
   ]
  },
  {
   "cell_type": "code",
   "execution_count": null,
   "metadata": {},
   "outputs": [],
   "source": [
    "wandb.config.resampling_period = resampling_period"
   ]
  },
  {
   "cell_type": "code",
   "execution_count": null,
   "metadata": {},
   "outputs": [],
   "source": [
    "if wandb.config.resampling_period is not None:\n",
    "    data.x = data.x[:,:,::wandb.config.resampling_period]\n",
    "    print(data)"
   ]
  },
  {
   "cell_type": "markdown",
   "metadata": {},
   "source": [
    "We'll use a dictionary to establish how to label each index to an actual human-readable label"
   ]
  },
  {
   "cell_type": "code",
   "execution_count": null,
   "metadata": {},
   "outputs": [],
   "source": [
    "if wandb.config.labelling_method == \"birav_refined\":\n",
    "    lbl_dict = dict([\n",
    "        ('-1.0', 'uncertain'),        \n",
    "        ('0.0', 'librational_0.00'),\n",
    "        ('0.25', 'librational_0.25'),\n",
    "        ('0.33', 'librational_0.33'),\n",
    "        ('0.5', 'librational_0.50'),\n",
    "        ('0.66', 'librational_0.66'),\n",
    "        ('0.75', 'librational_0.75'),\n",
    "        ('1.0', 'librational_1.00'),\n",
    "        ('5.0', 'chaotic'),\n",
    "        ('6.0', 'nonrotational')\n",
    "    ])\n",
    "else:    \n",
    "    lbl_dict = dict([\n",
    "        ('-1.0', 'uncertain'),\n",
    "        ('0.0', 'chaotic'),   \n",
    "        ('1.0', 'rotational'),   \n",
    "        ('2.0', 'librational')]\n",
    "    )"
   ]
  },
  {
   "cell_type": "markdown",
   "metadata": {},
   "source": [
    "## Splitting the data into training and validation"
   ]
  },
  {
   "cell_type": "markdown",
   "metadata": {},
   "source": [
    "One easy option to split data is to use 80% random items from the data as training and 20% as validation"
   ]
  },
  {
   "cell_type": "code",
   "execution_count": null,
   "metadata": {},
   "outputs": [],
   "source": [
    "splits = RandomSplitter()(range_of(data.get_items()))\n",
    "#splits = (range_of(data.get_items()), range_of(data.get_items())) # Valid = train"
   ]
  },
  {
   "cell_type": "markdown",
   "metadata": {},
   "source": [
    "Another way to split the data, which is more sensible if we want to ensure that the knowledge in the model can be transferred to unknown dynamic models, is to ensure that motions in the validation set are not included in the training set. We can do this by ensuring that the motions of the validation set belong to a specific dynamic model, and the rest of dynamics will be used for training"
   ]
  },
  {
   "cell_type": "code",
   "execution_count": null,
   "metadata": {},
   "outputs": [],
   "source": [
    "wandb.config.val_ds = ifnone(wandb.config.get('val_ds'), val_dataset)"
   ]
  },
  {
   "cell_type": "code",
   "execution_count": null,
   "metadata": {},
   "outputs": [],
   "source": [
    "val_idxs = np.where(data.ds == data.dsname.index(wandb.config.val_ds))[0]\n",
    "val_idxs"
   ]
  },
  {
   "cell_type": "code",
   "execution_count": null,
   "metadata": {},
   "outputs": [],
   "source": [
    "splits = IndexSplitter(val_idxs)(data.get_items())\n",
    "splits"
   ]
  },
  {
   "cell_type": "markdown",
   "metadata": {},
   "source": [
    "##  Creating a `Datasets` object"
   ]
  },
  {
   "cell_type": "code",
   "execution_count": null,
   "metadata": {},
   "outputs": [],
   "source": [
    "tfms = [[ItemGetter(0), ToTensorTS(), ToTensorMotion()], # x transforms\n",
    "        [ItemGetter(1), lbl_dict.get, Categorize()]] # y transforms"
   ]
  },
  {
   "cell_type": "code",
   "execution_count": null,
   "metadata": {},
   "outputs": [],
   "source": [
    "ds = Datasets(items=data.get_items(), tfms=tfms, splits=splits)"
   ]
  },
  {
   "cell_type": "code",
   "execution_count": null,
   "metadata": {},
   "outputs": [],
   "source": [
    "wandb.config['ds.train.__len__()'] = ds.train.__len__()\n",
    "wandb.config['ds.valid.__len__()'] = ds.valid.__len__()"
   ]
  },
  {
   "cell_type": "markdown",
   "metadata": {},
   "source": [
    "Show one element of the dataset. By default, the `show` method will display the item as a Poincare map."
   ]
  },
  {
   "cell_type": "code",
   "execution_count": null,
   "metadata": {},
   "outputs": [],
   "source": [
    "ax = show_at(ds, 1003, figsize=(1,1))"
   ]
  },
  {
   "cell_type": "markdown",
   "metadata": {},
   "source": [
    "It can be useful to visualize the motions with he same y limits. We take them from the training set"
   ]
  },
  {
   "cell_type": "code",
   "execution_count": null,
   "metadata": {},
   "outputs": [],
   "source": [
    "ylim = [data.x[:, 1].min(), data.x[:, 1].max()]\n",
    "ylim"
   ]
  },
  {
   "cell_type": "code",
   "execution_count": null,
   "metadata": {},
   "outputs": [],
   "source": [
    "ax = show_at(ds, 1003, figsize=(1,1), ylim=ylim)"
   ]
  },
  {
   "cell_type": "markdown",
   "metadata": {},
   "source": [
    "## Creating a `Dataloaders` object"
   ]
  },
  {
   "cell_type": "code",
   "execution_count": null,
   "metadata": {},
   "outputs": [],
   "source": [
    "bs = 512                            \n",
    "# Normalize at batch time\n",
    "tfm_norm = Standardize(scale_subtype = 'per_sample')\n",
    "batch_tfms = [] # TSStandardize()\n",
    "\n",
    "dls = ds.dataloaders(bs=bs, val_bs=bs * 2, after_batch=batch_tfms, num_workers=0, device=default_device()) "
   ]
  },
  {
   "cell_type": "code",
   "execution_count": null,
   "metadata": {},
   "outputs": [],
   "source": [
    "dls.show_batch(max_n=9, ylim=ylim, return_fig=False)"
   ]
  },
  {
   "cell_type": "code",
   "execution_count": null,
   "metadata": {},
   "outputs": [],
   "source": [
    "xb, yb = dls.one_batch()\n",
    "print(xb[0].mean(axis=1), xb[0].std(axis=1))"
   ]
  },
  {
   "cell_type": "markdown",
   "metadata": {},
   "source": [
    "## Training a model "
   ]
  },
  {
   "cell_type": "code",
   "execution_count": null,
   "metadata": {},
   "outputs": [],
   "source": [
    "c_in = data.n_channels\n",
    "c_out= dls.c #Number of classes\n",
    "seq_len = data.x.shape[-1]\n",
    "c_in, c_out, seq_len"
   ]
  },
  {
   "cell_type": "markdown",
   "metadata": {},
   "source": [
    "Choose the architecture of the model. Optionally change the default hyperaparameters.\n",
    "See all the available architectures at https://timeseriesai.github.io/tsai/"
   ]
  },
  {
   "cell_type": "code",
   "execution_count": null,
   "metadata": {},
   "outputs": [],
   "source": [
    "wandb.config.arch_name = ifnone(wandb.config.get('arch_name'), 'XCM')\n",
    "arch = eval(wandb.config.arch_name) \n",
    "args = {} # default to {}"
   ]
  },
  {
   "cell_type": "code",
   "execution_count": null,
   "metadata": {},
   "outputs": [],
   "source": [
    "model = create_model(arch, c_in, c_out, seq_len, **args)"
   ]
  },
  {
   "cell_type": "markdown",
   "metadata": {},
   "source": [
    "### Creating a Learner object"
   ]
  },
  {
   "cell_type": "code",
   "execution_count": null,
   "metadata": {},
   "outputs": [],
   "source": [
    "# opt_func = partial(Adam, lr=3e-3, wd=0.01)\n",
    "#Or use Ranger\n",
    "def opt_func(p, lr=slice(3e-3)): return Lookahead(RAdam(p, lr=lr, mom=0.95, wd=0.01)) "
   ]
  },
  {
   "cell_type": "code",
   "execution_count": null,
   "metadata": {},
   "outputs": [],
   "source": [
    "#Learner    \n",
    "loss_func = LabelSmoothingCrossEntropy() \n",
    "learn = Learner(dls, model, opt_func=opt_func, loss_func=loss_func, metrics=accuracy)\n",
    "# print(learn.summary())"
   ]
  },
  {
   "cell_type": "code",
   "execution_count": null,
   "metadata": {},
   "outputs": [],
   "source": [
    "beep(1)"
   ]
  },
  {
   "cell_type": "code",
   "execution_count": null,
   "metadata": {},
   "outputs": [],
   "source": [
    "lr_min, lr_steep = learn.lr_find()\n",
    "log_plt_as_wandb_img('LR curve')\n",
    "lr_min, lr_steep"
   ]
  },
  {
   "cell_type": "code",
   "execution_count": null,
   "metadata": {},
   "outputs": [],
   "source": [
    "learn.fit_one_cycle(10, lr_max=lr_steep, cbs=[SaveModelCallback(), \n",
    "                                              WandbCallback(log_preds=False)])\n",
    "learn.recorder.plot_loss()"
   ]
  },
  {
   "cell_type": "markdown",
   "metadata": {},
   "source": [
    "## Showing results"
   ]
  },
  {
   "cell_type": "markdown",
   "metadata": {},
   "source": [
    "### Results for random items in the validation set "
   ]
  },
  {
   "cell_type": "code",
   "execution_count": null,
   "metadata": {},
   "outputs": [],
   "source": [
    "#amaps = [np.random.rand(data.x.shape[1], data.x.shape[2]) for _ in range(9)]"
   ]
  },
  {
   "cell_type": "code",
   "execution_count": null,
   "metadata": {},
   "outputs": [],
   "source": [
    "learn.show_results(max_n=9, ylim=ylim, figsize=(15, 15))"
   ]
  },
  {
   "cell_type": "markdown",
   "metadata": {},
   "source": [
    "### Confusion matrix"
   ]
  },
  {
   "cell_type": "code",
   "execution_count": null,
   "metadata": {},
   "outputs": [],
   "source": [
    "interp = ClassificationInterpretationAugmented.from_learner(learn)"
   ]
  },
  {
   "cell_type": "code",
   "execution_count": null,
   "metadata": {},
   "outputs": [],
   "source": [
    "interp.plot_confusion_matrix()\n",
    "log_plt_as_wandb_img('confusion_matrix')"
   ]
  },
  {
   "cell_type": "markdown",
   "metadata": {},
   "source": [
    "### Smallest errors"
   ]
  },
  {
   "cell_type": "code",
   "execution_count": null,
   "metadata": {},
   "outputs": [],
   "source": [
    "interp.plot_top_losses(k=9, figsize=(15, 15), largest=False)"
   ]
  },
  {
   "cell_type": "markdown",
   "metadata": {},
   "source": [
    "### Largest errores"
   ]
  },
  {
   "cell_type": "code",
   "execution_count": null,
   "metadata": {},
   "outputs": [],
   "source": [
    "interp.plot_top_losses(k=9, figsize=(15, 15), nrows=5, largest=True, ncols=3)\n",
    "log_plt_as_wandb_img('largest_errors')"
   ]
  },
  {
   "cell_type": "markdown",
   "metadata": {},
   "source": [
    "### Specific types of errors"
   ]
  },
  {
   "cell_type": "markdown",
   "metadata": {},
   "source": [
    "It is also interesting to display separately errors of different type. There are a number of `c*(c-1)` possible type of errors, where `c` is the number of classes in the data"
   ]
  },
  {
   "cell_type": "code",
   "execution_count": null,
   "metadata": {},
   "outputs": [],
   "source": [
    "print(interp.top_losses(k=3, largest=False, predicted='chaotic', actual='chaotic'))\n",
    "print(interp.top_losses(k=3, largest=False, predicted='rotational', actual='rotational'))\n",
    "print(interp.top_losses(k=3, largest=False, predicted='librational', actual='librational'))"
   ]
  },
  {
   "cell_type": "code",
   "execution_count": null,
   "metadata": {},
   "outputs": [],
   "source": [
    "predicted = 'chaotic'\n",
    "actual = 'chaotic'\n",
    "n_errors = interp.confusion_matrix()[interp.vocab.o2i[predicted], \n",
    "                                     interp.vocab.o2i[actual]]\n",
    "interp.plot_top_losses(k=min(n_errors, 9), figsize=(15, 15), \n",
    "                       largest=True, \n",
    "                       predicted=predicted, \n",
    "                       actual=actual)"
   ]
  },
  {
   "cell_type": "markdown",
   "metadata": {},
   "source": [
    "### Overview of the results through a labelled initial condition map"
   ]
  },
  {
   "cell_type": "markdown",
   "metadata": {},
   "source": [
    "Show each motion in the validation set in a Poincare map showing just its initial point (x0, y0), coloured by the dynamical index associated to it. We will plot two figures, one with the dynamical index given by the ML model (predictions) and one with the true dynamic indices given by the `labelling_method`"
   ]
  },
  {
   "cell_type": "code",
   "execution_count": null,
   "metadata": {},
   "outputs": [],
   "source": [
    "ml_map = show_labelled_ic_map(interp.inputs, \n",
    "                    [dls.tfms[1].decode(y) for y in interp.decoded], \n",
    "                    legend=None,\n",
    "                    palette=dict(\n",
    "                        chaotic='yellow', \n",
    "                        librational='blue', \n",
    "                        rotational='magenta'))\n",
    "log_plt_as_wandb_img('ML map ({wandb.config.val_ds})')\n",
    "# wandb.log({f'ML map ({wandb.config.val_ds})': ml_map.figure}) # Glitchy: https://github.com/mpld3/mpld3/issues/479"
   ]
  },
  {
   "cell_type": "code",
   "execution_count": null,
   "metadata": {},
   "outputs": [],
   "source": [
    "true_map = show_labelled_ic_map(interp.inputs, \n",
    "                    [dls.tfms[1].decode(y) for y in interp.targs], \n",
    "                    legend=None,\n",
    "                    palette=dict(\n",
    "                        chaotic='yellow', \n",
    "                        librational='blue', \n",
    "                        rotational='magenta'))\n",
    "\n",
    "#wandb.log({f'True map ({wandb.config.val_ds})': true_map.figure})"
   ]
  },
  {
   "cell_type": "markdown",
   "metadata": {},
   "source": [
    "## Explaining the model predictions through class activation maps"
   ]
  },
  {
   "cell_type": "markdown",
   "metadata": {},
   "source": [
    "Show the attribution map on top of the poincare map of specific items. The attribution map maps every point in the poincare map with the importance it has in the prediction model. \n",
    "\n",
    "The attribution map is different depending on what output unit of the model we are interested in. For simplicity, we are going to look at the attribution map for the \n",
    "output given by the model, i.e., the model prediction. "
   ]
  },
  {
   "cell_type": "code",
   "execution_count": null,
   "metadata": {},
   "outputs": [],
   "source": [
    "module = model.conv1dblock #*\n",
    "idxs = interp.top_losses(9).indices #*"
   ]
  },
  {
   "cell_type": "code",
   "execution_count": null,
   "metadata": {},
   "outputs": [],
   "source": [
    "xb, yb = to_device(dls.do_batch(ds.valid[idxs]))\n",
    "amaps = get_attribution_map(model, module, x=xb, y=None, cpu=True)\n",
    "amaps_l = torch.unbind(amaps)\n",
    "xb.shape, xb.device, amaps.shape, amaps.device, len(amaps)"
   ]
  },
  {
   "cell_type": "code",
   "execution_count": null,
   "metadata": {},
   "outputs": [],
   "source": [
    "interp.show_at(idxs, amaps=amaps_l, figsize=(15, 12))"
   ]
  },
  {
   "cell_type": "markdown",
   "metadata": {},
   "source": [
    "## Inference on a new test set"
   ]
  },
  {
   "cell_type": "markdown",
   "metadata": {},
   "source": [
    "Now let's see how the trained behaves with a completely unseen set of data. First we have to load the Poincare maps that comprise the test set"
   ]
  },
  {
   "cell_type": "markdown",
   "metadata": {},
   "source": [
    "Compute the predicted labels using the library `fastinference`. It is faster than the original `fastai` implementation."
   ]
  },
  {
   "cell_type": "code",
   "execution_count": null,
   "metadata": {},
   "outputs": [],
   "source": [
    "#old_get_preds = learn.get_preds\n",
    "#from fastinference.inference import *"
   ]
  },
  {
   "cell_type": "code",
   "execution_count": null,
   "metadata": {},
   "outputs": [],
   "source": [
    "fnames_test = (ds_path/'eps=0.023/Poincare.plt',\n",
    "               ds_path/'eps=0.023/index_fli_rotnum_birav_birrefined_v3.plt')\n",
    "test_data = TSDataChaos.from_poincare_and_index_files(fnames_test, \n",
    "                                                      index_col=index_cols['birav'])\n",
    "test_data"
   ]
  },
  {
   "cell_type": "code",
   "execution_count": null,
   "metadata": {},
   "outputs": [],
   "source": [
    "if not wandb.config.add_uncertainty_class:\n",
    "    test_data.remove_uncertainty()\n",
    "test_data"
   ]
  },
  {
   "cell_type": "markdown",
   "metadata": {},
   "source": [
    "Create a dataloader from the test items previously loaded. This will apply all the transformations used in our training and validation set (e.g. normalization) to the test data"
   ]
  },
  {
   "cell_type": "code",
   "execution_count": null,
   "metadata": {},
   "outputs": [],
   "source": [
    "test_dl = learn.dls.test_dl(test_data.get_items(), with_labels=True)\n",
    "test_dl.n"
   ]
  },
  {
   "cell_type": "markdown",
   "metadata": {},
   "source": [
    "preds, targs, preds_decoded = learn.get_preds(dl=test_dl, with_decoded=True)\n",
    "preds.__len__()"
   ]
  },
  {
   "cell_type": "markdown",
   "metadata": {},
   "source": [
    "Compute metrics (validation loss and accuracy) on the test set."
   ]
  },
  {
   "cell_type": "code",
   "execution_count": null,
   "metadata": {},
   "outputs": [],
   "source": [
    "test_metrics = learn.validate(dl=test_dl)\n",
    "test_metrics"
   ]
  },
  {
   "cell_type": "markdown",
   "metadata": {},
   "source": [
    "Show also trhe confusion matrix for this test set"
   ]
  },
  {
   "cell_type": "markdown",
   "metadata": {},
   "source": [
    "# learn.get_preds = old_get_preds\n",
    "interp_test = ClassificationInterpretationAugmented.from_learner(learn, \n",
    "                                                                 dl=test_dl)"
   ]
  },
  {
   "cell_type": "markdown",
   "metadata": {},
   "source": [
    "interp_test.plot_confusion_matrix(\n",
    "    title=f'Confusion matrix (accuracy={round(test_metrics[1], 2)})',\n",
    ")\n",
    "plt.savefig(test_base_path/f'confusion_matrix_{test_base_path.name}.png')"
   ]
  },
  {
   "cell_type": "markdown",
   "metadata": {},
   "source": [
    "Show the FLI plot to get a sense of the quality of the predictions"
   ]
  },
  {
   "cell_type": "markdown",
   "metadata": {},
   "source": [
    "ml_map = show_fli_plot(test_data.x, \n",
    "                    [dls.tfms[1].decode(y) for y in preds_decoded], \n",
    "                    legend=None,\n",
    "                    palette=dict(\n",
    "                        chaotic='yellow', \n",
    "                        librational='blue', \n",
    "                        rotational='magenta'))"
   ]
  },
  {
   "cell_type": "markdown",
   "metadata": {},
   "source": [
    "ml_map.figure.savefig(test_base_path/f'ml_map_{test_base_path.name}.eps', \n",
    "                      transparent=True, format='.eps')"
   ]
  },
  {
   "cell_type": "markdown",
   "metadata": {},
   "source": [
    "Now show the same plot for the true labels given by the FLI-based classification"
   ]
  },
  {
   "cell_type": "markdown",
   "metadata": {},
   "source": [
    "true_map = show_fli_plot(test_data.x, \n",
    "                    [dls.tfms[1].decode(y) for y in targs], \n",
    "                    legend=None,\n",
    "                    palette=dict(\n",
    "                        chaotic='yellow', \n",
    "                        librational='blue', \n",
    "                        rotational='magenta'))"
   ]
  },
  {
   "cell_type": "markdown",
   "metadata": {},
   "source": [
    "true_map.figure.savefig(test_base_path/f'true_map_{test_base_path.name}.eps', \n",
    "                        transparent=True, format='.eps')"
   ]
  }
 ],
 "metadata": {
  "kernelspec": {
   "display_name": "Python 3",
   "language": "python",
   "name": "python3"
  }
 },
 "nbformat": 4,
 "nbformat_minor": 4
}
