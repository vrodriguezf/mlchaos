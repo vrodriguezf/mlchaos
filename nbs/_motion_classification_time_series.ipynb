{
 "cells": [
  {
   "cell_type": "code",
   "execution_count": null,
   "metadata": {},
   "outputs": [],
   "source": [
    "# hide\n",
    "import sys\n",
    "sys.path.append(\"..\")\n",
    "%load_ext autoreload\n",
    "%autoreload 2"
   ]
  },
  {
   "cell_type": "markdown",
   "metadata": {},
   "source": [
    "# Motion classification with time series using deep learning\n",
    "\n",
    "> Classify between chaotic, rotational and librational motion using the evolution of the coordinates x and y in the Poincare map"
   ]
  },
  {
   "cell_type": "markdown",
   "metadata": {},
   "source": [
    "## Notebook parameters \n",
    "Put here everything that could be needed if this notebook was called from outside, as an script"
   ]
  },
  {
   "cell_type": "code",
   "execution_count": null,
   "metadata": {
    "tags": [
     "parameters"
    ]
   },
   "outputs": [],
   "source": [
    "use_wandb = False # Whether to use or not wandb for experiment tracking\n",
    "wandb_group = None # Whether to group this run in a wandb group\n",
    "resampling_period = None # * Natural number. Set to None if no resampling is desired\n",
    "labelling_method = \"fli\" # [fli, freq_ana]"
   ]
  },
  {
   "cell_type": "markdown",
   "metadata": {},
   "source": [
    "## Requirements"
   ]
  },
  {
   "cell_type": "code",
   "execution_count": null,
   "metadata": {},
   "outputs": [],
   "source": [
    "import sys\n",
    "ISCOLAB = 'google.colab' in sys.modules\n",
    "if ISCOLAB:\n",
    "    !pip install git+https://github.com/fastai/fastcore.git@master -q\n",
    "    !pip install git+https://github.com/fastai/fastai2.git@master -q\n",
    "    !pip install git+https://github.com/ai-fast-track/timeseries.git -q\n",
    "    !pip install wandb -q"
   ]
  },
  {
   "cell_type": "code",
   "execution_count": null,
   "metadata": {},
   "outputs": [],
   "source": [
    "from fastai2.basics import *\n",
    "from timeseries.all import *\n",
    "from mlchaos.all import *\n",
    "import wandb\n",
    "from fastai2.callback.wandb import *"
   ]
  },
  {
   "cell_type": "code",
   "execution_count": null,
   "metadata": {},
   "outputs": [],
   "source": [
    "base_path = Path.home()"
   ]
  },
  {
   "cell_type": "code",
   "execution_count": null,
   "metadata": {},
   "outputs": [
    {
     "data": {
      "text/html": [
       "\n",
       "            Using <a href=\"https://wandb.com\" target=\"_blank\">Weights & Biases</a> in dryrun mode. Not logging results to the cloud.<br/>\n",
       "            Call wandb.login() to authenticate this machine.<br/>\n",
       "        "
      ],
      "text/plain": [
       "<IPython.core.display.HTML object>"
      ]
     },
     "metadata": {},
     "output_type": "display_data"
    },
    {
     "name": "stderr",
     "output_type": "stream",
     "text": [
      "\u001b[34m\u001b[1mwandb\u001b[0m: Wandb version 0.10.5 is available!  To upgrade, please run:\n",
      "\u001b[34m\u001b[1mwandb\u001b[0m:  $ pip install wandb --upgrade\n"
     ]
    }
   ],
   "source": [
    "if not use_wandb:\n",
    "    os.environ['WANDB_MODE'] = 'dryrun' # run offline\n",
    "    wandb.init(anonymous='allow', allow_val_change=True)\n",
    "else:\n",
    "    os.environ['WANDB_MODE'] = 'run' # run offline\n",
    "    wandb.init(project='mlchaos', group=wandb_group)"
   ]
  },
  {
   "cell_type": "markdown",
   "metadata": {},
   "source": [
    "## Loading the data"
   ]
  },
  {
   "cell_type": "markdown",
   "metadata": {},
   "source": [
    "The data must be loaded as a `TSDataChaos` object, created from a pair (or a sequence of pairs) of files:\n",
    "1. The first file of the pair contains the data of the Poincare map\n",
    "2. The second file of the pair contains the index of the motion (0.0, 1.0 or 2.0). The column that contains the index is given as a parameter of this notebook\n",
    "\n",
    "Depending on the labelling method, a different column from the index file will be used as `y` on the data. `x` will always be the time series."
   ]
  },
  {
   "cell_type": "code",
   "execution_count": null,
   "metadata": {},
   "outputs": [
    {
     "name": "stderr",
     "output_type": "stream",
     "text": [
      "\u001b[34m\u001b[1mwandb\u001b[0m: Wandb version 0.10.5 is available!  To upgrade, please run:\n",
      "\u001b[34m\u001b[1mwandb\u001b[0m:  $ pip install wandb --upgrade\n"
     ]
    }
   ],
   "source": [
    "wandb.config.labelling_method = labelling_method\n",
    "index_cols = {\n",
    "    \"fli\": 7,\n",
    "    \"freq_ana\": 8\n",
    "}"
   ]
  },
  {
   "cell_type": "code",
   "execution_count": null,
   "metadata": {},
   "outputs": [
    {
     "name": "stderr",
     "output_type": "stream",
     "text": [
      "\u001b[34m\u001b[1mwandb\u001b[0m: Wandb version 0.10.5 is available!  To upgrade, please run:\n",
      "\u001b[34m\u001b[1mwandb\u001b[0m:  $ pip install wandb --upgrade\n"
     ]
    },
    {
     "data": {
      "text/plain": [
       "TSDataChaos:\n",
       " Datasets names (concatenated): ['eps=0.021', 'eps=0.022', 'eps=0.023', 'eps=0.024', 'eps=0.025']\n",
       " Filenames:                     [(Path('/home/user/data/fli_rotnum/model_1/eps=0.021/Poincare.plt'), Path('/home/user/data/fli_rotnum/model_1/eps=0.021/index_fli_freqana.plt')), (Path('/home/user/data/fli_rotnum/model_1/eps=0.022/Poincare.plt'), Path('/home/user/data/fli_rotnum/model_1/eps=0.022/index_fli_freqana.plt')), (Path('/home/user/data/fli_rotnum/model_1/eps=0.023/Poincare.plt'), Path('/home/user/data/fli_rotnum/model_1/eps=0.023/index_fli_freqana.plt')), (Path('/home/user/data/fli_rotnum/model_1/eps=0.024/Poincare.plt'), Path('/home/user/data/fli_rotnum/model_1/eps=0.024/index_fli_freqana.plt')), (Path('/home/user/data/fli_rotnum/model_1/eps=0.025/Poincare.plt'), Path('/home/user/data/fli_rotnum/model_1/eps=0.025/index_fli_freqana.plt'))]\n",
       " Data shape: (51005, 2, 201)\n",
       " Targets shape: (51005,)\n",
       " Nb Samples: 51005\n",
       " Nb Channels:           2\n",
       " Sequence Length: 201"
      ]
     },
     "execution_count": null,
     "metadata": {},
     "output_type": "execute_result"
    }
   ],
   "source": [
    "ds_path = base_path/'data/fli_rotnum/model_1'\n",
    "fnames = [\n",
    "    (ds_path/'eps=0.021/Poincare.plt', ds_path/'eps=0.021/index_fli_freqana.plt'),\n",
    "    (ds_path/'eps=0.022/Poincare.plt', ds_path/'eps=0.022/index_fli_freqana.plt'), \n",
    "    (ds_path/'eps=0.023/Poincare.plt', ds_path/'eps=0.023/index_fli_freqana.plt'), \n",
    "    (ds_path/'eps=0.024/Poincare.plt', ds_path/'eps=0.024/index_fli_freqana.plt'), \n",
    "    (ds_path/'eps=0.025/Poincare.plt', ds_path/'eps=0.025/index_fli_freqana.plt'), \n",
    "]\n",
    "wandb.config.fnames = fnames\n",
    "data = TSDataChaos.from_poincare_and_index_files(fnames, \n",
    "                                                 index_col=index_cols[labelling_method])\n",
    "data"
   ]
  },
  {
   "cell_type": "markdown",
   "metadata": {},
   "source": [
    "Check the distribution of classes in the dataset"
   ]
  },
  {
   "cell_type": "code",
   "execution_count": null,
   "metadata": {},
   "outputs": [
    {
     "data": {
      "text/plain": [
       "(array([-1.,  0.,  1.,  2.]), array([ 3990,  3800, 25444, 17771]))"
      ]
     },
     "execution_count": null,
     "metadata": {},
     "output_type": "execute_result"
    }
   ],
   "source": [
    "np.unique(data.y, return_counts=True)"
   ]
  },
  {
   "cell_type": "markdown",
   "metadata": {},
   "source": [
    "The class -1 represents uncertainty in the FLI-based classication. If desired, we can remove that class from the dataset, by changing the flag `add_uncertainty_class` in the cell below. "
   ]
  },
  {
   "cell_type": "code",
   "execution_count": null,
   "metadata": {},
   "outputs": [
    {
     "name": "stderr",
     "output_type": "stream",
     "text": [
      "\u001b[34m\u001b[1mwandb\u001b[0m: Wandb version 0.10.5 is available!  To upgrade, please run:\n",
      "\u001b[34m\u001b[1mwandb\u001b[0m:  $ pip install wandb --upgrade\n"
     ]
    }
   ],
   "source": [
    "wandb.config.add_uncertainty_class = False"
   ]
  },
  {
   "cell_type": "code",
   "execution_count": null,
   "metadata": {},
   "outputs": [
    {
     "data": {
      "text/plain": [
       "TSDataChaos:\n",
       " Datasets names (concatenated): ['eps=0.021', 'eps=0.022', 'eps=0.023', 'eps=0.024', 'eps=0.025']\n",
       " Filenames:                     [(Path('/home/user/data/fli_rotnum/model_1/eps=0.021/Poincare.plt'), Path('/home/user/data/fli_rotnum/model_1/eps=0.021/index_fli_freqana.plt')), (Path('/home/user/data/fli_rotnum/model_1/eps=0.022/Poincare.plt'), Path('/home/user/data/fli_rotnum/model_1/eps=0.022/index_fli_freqana.plt')), (Path('/home/user/data/fli_rotnum/model_1/eps=0.023/Poincare.plt'), Path('/home/user/data/fli_rotnum/model_1/eps=0.023/index_fli_freqana.plt')), (Path('/home/user/data/fli_rotnum/model_1/eps=0.024/Poincare.plt'), Path('/home/user/data/fli_rotnum/model_1/eps=0.024/index_fli_freqana.plt')), (Path('/home/user/data/fli_rotnum/model_1/eps=0.025/Poincare.plt'), Path('/home/user/data/fli_rotnum/model_1/eps=0.025/index_fli_freqana.plt'))]\n",
       " Data shape: (47015, 2, 201)\n",
       " Targets shape: (47015,)\n",
       " Nb Samples: 47015\n",
       " Nb Channels:           2\n",
       " Sequence Length: 201"
      ]
     },
     "execution_count": null,
     "metadata": {},
     "output_type": "execute_result"
    }
   ],
   "source": [
    "if not wandb.config.add_uncertainty_class:\n",
    "    data.x = data.x[data.y != -1]\n",
    "    data.y = data.y[data.y != -1]\n",
    "data"
   ]
  },
  {
   "cell_type": "markdown",
   "metadata": {},
   "source": [
    "The data can be resampled to a lower frequency if desired. The reason why this is interesting is because being able to produce an accurate classification without the need of many data points per time series makes this procedure applicable to observational data. As an example, choosing `resampling_period` equals to 2 means that the time series will be resampled in a way that we take one point every 2 points of the original data.  "
   ]
  },
  {
   "cell_type": "code",
   "execution_count": null,
   "metadata": {},
   "outputs": [
    {
     "name": "stderr",
     "output_type": "stream",
     "text": [
      "\u001b[34m\u001b[1mwandb\u001b[0m: Wandb version 0.10.5 is available!  To upgrade, please run:\n",
      "\u001b[34m\u001b[1mwandb\u001b[0m:  $ pip install wandb --upgrade\n"
     ]
    }
   ],
   "source": [
    "wandb.config.resampling_period = resampling_period"
   ]
  },
  {
   "cell_type": "code",
   "execution_count": null,
   "metadata": {},
   "outputs": [],
   "source": [
    "if wandb.config.resampling_period is not None:\n",
    "    data.x = data.x[:,:,::wandb.config.resampling_period]\n",
    "    print(data)"
   ]
  },
  {
   "cell_type": "markdown",
   "metadata": {},
   "source": [
    "We'll use a dictionary to establish how to label each index to an actual human-readable label"
   ]
  },
  {
   "cell_type": "code",
   "execution_count": null,
   "metadata": {},
   "outputs": [],
   "source": [
    "lbl_dict = dict([\n",
    "    ('-1.0', 'uncertain'),\n",
    "    ('0.0', 'chaotic'),   \n",
    "    ('1.0', 'rotational'),   \n",
    "    ('2.0', 'librational')]\n",
    ")"
   ]
  },
  {
   "cell_type": "markdown",
   "metadata": {},
   "source": [
    "## Splitting the data into training and validation"
   ]
  },
  {
   "cell_type": "markdown",
   "metadata": {},
   "source": [
    "One easy option to split data is to use 80% random items from the data as training and 20% as validation"
   ]
  },
  {
   "cell_type": "code",
   "execution_count": null,
   "metadata": {},
   "outputs": [],
   "source": [
    "splits = RandomSplitter()(range_of(data.get_items()))\n",
    "#splits = (range_of(data.get_items()), range_of(data.get_items())) # Valid = train"
   ]
  },
  {
   "cell_type": "markdown",
   "metadata": {},
   "source": [
    "Another way to split the data, which is more sensible if we want to ensure that the knowledge in the model can be transferred to unknown dynamic models, is to ensure that motions in the validation set are not included in the training set. We can do this by ensuring that the motions of the validation set belong to a specific dynamic model, and the rest of dynamics will be used for training"
   ]
  },
  {
   "cell_type": "code",
   "execution_count": null,
   "metadata": {},
   "outputs": [],
   "source": [
    "val_dataset = 'eps=0.023'"
   ]
  },
  {
   "cell_type": "code",
   "execution_count": null,
   "metadata": {},
   "outputs": [
    {
     "data": {
      "text/plain": [
       "array([20402, 20403, 20404, ..., 30600, 30601, 30602])"
      ]
     },
     "execution_count": null,
     "metadata": {},
     "output_type": "execute_result"
    }
   ],
   "source": [
    "val_idxs = np.where(data.ds == data.dsname.index(val_dataset))[0]\n",
    "val_idxs"
   ]
  },
  {
   "cell_type": "code",
   "execution_count": null,
   "metadata": {},
   "outputs": [
    {
     "data": {
      "text/plain": [
       "((#36814) [0,1,2,3,4,5,6,7,8,9...],\n",
       " (#10201) [20402,20403,20404,20405,20406,20407,20408,20409,20410,20411...])"
      ]
     },
     "execution_count": null,
     "metadata": {},
     "output_type": "execute_result"
    }
   ],
   "source": [
    "splits = IndexSplitter(val_idxs)(data.get_items())\n",
    "splits"
   ]
  },
  {
   "cell_type": "markdown",
   "metadata": {},
   "source": [
    "##  Creating a `Datasets` object"
   ]
  },
  {
   "cell_type": "code",
   "execution_count": null,
   "metadata": {},
   "outputs": [],
   "source": [
    "tfms = [[ItemGetter(0), ToTensorTS(), ToTensorMotion()], # x transforms\n",
    "        [ItemGetter(1), lbl_dict.get, Categorize()]] # y transforms"
   ]
  },
  {
   "cell_type": "code",
   "execution_count": null,
   "metadata": {},
   "outputs": [
    {
     "name": "stdout",
     "output_type": "stream",
     "text": [
      "CPU times: user 4.06 s, sys: 6.69 ms, total: 4.07 s\n",
      "Wall time: 4.06 s\n"
     ]
    }
   ],
   "source": [
    "%%time\n",
    "ds = Datasets(items=data.get_items(), tfms=tfms, splits=splits)"
   ]
  },
  {
   "cell_type": "markdown",
   "metadata": {},
   "source": [
    "Show one element of the dataset. By default, the `show` method will display the item as a Poincare map."
   ]
  },
  {
   "cell_type": "code",
   "execution_count": null,
   "metadata": {},
   "outputs": [
    {
     "name": "stdout",
     "output_type": "stream",
     "text": [
      "rotational\n"
     ]
    },
    {
     "data": {
      "image/png": "[encoded data removed]",
      "text/plain": [
       "<Figure size 432x288 with 1 Axes>"
      ]
     },
     "metadata": {
      "needs_background": "light"
     },
     "output_type": "display_data"
    }
   ],
   "source": [
    "ax = show_at(ds, 1003, figsize=(1,1))"
   ]
  },
  {
   "cell_type": "markdown",
   "metadata": {},
   "source": [
    "It can be useful to visualize the motions with he same y limits. We take them from the training set"
   ]
  },
  {
   "cell_type": "code",
   "execution_count": null,
   "metadata": {},
   "outputs": [
    {
     "data": {
      "text/plain": [
       "[-0.621060974808266, 1.62106097480744]"
      ]
     },
     "execution_count": null,
     "metadata": {},
     "output_type": "execute_result"
    }
   ],
   "source": [
    "ylim = [data.x[:, 1].min(), data.x[:, 1].max()]\n",
    "ylim"
   ]
  },
  {
   "cell_type": "code",
   "execution_count": null,
   "metadata": {},
   "outputs": [
    {
     "name": "stdout",
     "output_type": "stream",
     "text": [
      "rotational\n"
     ]
    },
    {
     "data": {
      "image/png": "[encoded data removed]",
      "text/plain": [
       "<Figure size 432x288 with 1 Axes>"
      ]
     },
     "metadata": {
      "needs_background": "light"
     },
     "output_type": "display_data"
    }
   ],
   "source": [
    "ax = show_at(ds, 1003, figsize=(1,1), ylim=ylim)"
   ]
  },
  {
   "cell_type": "markdown",
   "metadata": {},
   "source": [
    "## Creating a `Dataloaders` object"
   ]
  },
  {
   "cell_type": "code",
   "execution_count": null,
   "metadata": {},
   "outputs": [],
   "source": [
    "bs = 256                            \n",
    "# Normalize at batch time\n",
    "tfm_norm = Standardize(scale_subtype = 'per_sample')\n",
    "batch_tfms = []\n",
    "\n",
    "dls = ds.dataloaders(bs=bs, val_bs=bs * 2, after_batch=batch_tfms, num_workers=0, device=default_device()) "
   ]
  },
  {
   "cell_type": "code",
   "execution_count": null,
   "metadata": {},
   "outputs": [
    {
     "data": {
      "image/png": "[encoded data removed]",
      "text/plain": [
       "<Figure size 1008x864 with 9 Axes>"
      ]
     },
     "metadata": {
      "needs_background": "light"
     },
     "output_type": "display_data"
    }
   ],
   "source": [
    "dls.show_batch(max_n=9, ylim=ylim, return_fig=False)"
   ]
  },
  {
   "cell_type": "code",
   "execution_count": null,
   "metadata": {},
   "outputs": [
    {
     "name": "stdout",
     "output_type": "stream",
     "text": [
      "tensor([181.4051,   0.5582], device='cuda:0') tensor([9.6324e+01, 1.3068e-02], device='cuda:0')\n"
     ]
    }
   ],
   "source": [
    "xb, yb = dls.one_batch()\n",
    "print(xb[0].mean(axis=1), xb[0].std(axis=1))"
   ]
  },
  {
   "cell_type": "markdown",
   "metadata": {},
   "source": [
    "## Training a model "
   ]
  },
  {
   "cell_type": "code",
   "execution_count": null,
   "metadata": {},
   "outputs": [
    {
     "data": {
      "text/plain": [
       "(2, 3)"
      ]
     },
     "execution_count": null,
     "metadata": {},
     "output_type": "execute_result"
    }
   ],
   "source": [
    "# Number of channels\n",
    "c_in = get_n_channels(dls.train) # data.n_channels\n",
    "# Number of classes\n",
    "c_out= dls.c \n",
    "c_in,c_out"
   ]
  },
  {
   "cell_type": "code",
   "execution_count": null,
   "metadata": {},
   "outputs": [],
   "source": [
    "model = inception_time(c_in, c_out).to(device=default_device())\n",
    "# model"
   ]
  },
  {
   "cell_type": "markdown",
   "metadata": {},
   "source": [
    "### Creating a Learner object"
   ]
  },
  {
   "cell_type": "code",
   "execution_count": null,
   "metadata": {},
   "outputs": [],
   "source": [
    "# opt_func = partial(Adam, lr=3e-3, wd=0.01)\n",
    "#Or use Ranger\n",
    "def opt_func(p, lr=slice(3e-3)): return Lookahead(RAdam(p, lr=lr, mom=0.95, wd=0.01)) "
   ]
  },
  {
   "cell_type": "code",
   "execution_count": null,
   "metadata": {},
   "outputs": [],
   "source": [
    "#Learner    \n",
    "loss_func = LabelSmoothingCrossEntropy() \n",
    "learn = Learner(dls, model, opt_func=opt_func, \n",
    "                loss_func=loss_func, metrics=accuracy)\n",
    "\n",
    "# print(learn.summary())"
   ]
  },
  {
   "cell_type": "code",
   "execution_count": null,
   "metadata": {},
   "outputs": [
    {
     "data": {
      "text/html": [],
      "text/plain": [
       "<IPython.core.display.HTML object>"
      ]
     },
     "metadata": {},
     "output_type": "display_data"
    },
    {
     "data": {
      "text/plain": [
       "(0.017378008365631102, 0.00015848931798245758)"
      ]
     },
     "execution_count": null,
     "metadata": {},
     "output_type": "execute_result"
    },
    {
     "data": {
      "image/png": "[encoded data removed]",
      "text/plain": [
       "<Figure size 432x288 with 1 Axes>"
      ]
     },
     "metadata": {
      "needs_background": "light"
     },
     "output_type": "display_data"
    }
   ],
   "source": [
    "lr_min, lr_steep = learn.lr_find()\n",
    "lr_min, lr_steep"
   ]
  },
  {
   "cell_type": "code",
   "execution_count": null,
   "metadata": {},
   "outputs": [
    {
     "name": "stderr",
     "output_type": "stream",
     "text": [
      "\u001b[34m\u001b[1mwandb\u001b[0m: Wandb version 0.10.5 is available!  To upgrade, please run:\n",
      "\u001b[34m\u001b[1mwandb\u001b[0m:  $ pip install wandb --upgrade\n"
     ]
    },
    {
     "data": {
      "text/html": [
       "\n",
       "    <div>\n",
       "        <style>\n",
       "            /* Turns off some styling */\n",
       "            progress {\n",
       "                /* gets rid of default border in Firefox and Opera. */\n",
       "                border: none;\n",
       "                /* Needs to be in here for Safari polyfill so background images work as expected. */\n",
       "                background-size: auto;\n",
       "            }\n",
       "            .progress-bar-interrupted, .progress-bar-interrupted::-webkit-progress-bar {\n",
       "                background: #F44336;\n",
       "            }\n",
       "        </style>\n",
       "      <progress value='1' class='' max='10' style='width:300px; height:20px; vertical-align: middle;'></progress>\n",
       "      10.00% [1/10 00:38<05:50]\n",
       "    </div>\n",
       "    \n",
       "<table border=\"1\" class=\"dataframe\">\n",
       "  <thead>\n",
       "    <tr style=\"text-align: left;\">\n",
       "      <th>epoch</th>\n",
       "      <th>train_loss</th>\n",
       "      <th>valid_loss</th>\n",
       "      <th>accuracy</th>\n",
       "      <th>time</th>\n",
       "    </tr>\n",
       "  </thead>\n",
       "  <tbody>\n",
       "    <tr>\n",
       "      <td>0</td>\n",
       "      <td>0.512474</td>\n",
       "      <td>0.458980</td>\n",
       "      <td>0.912754</td>\n",
       "      <td>00:38</td>\n",
       "    </tr>\n",
       "  </tbody>\n",
       "</table><p>\n",
       "\n",
       "    <div>\n",
       "        <style>\n",
       "            /* Turns off some styling */\n",
       "            progress {\n",
       "                /* gets rid of default border in Firefox and Opera. */\n",
       "                border: none;\n",
       "                /* Needs to be in here for Safari polyfill so background images work as expected. */\n",
       "                background-size: auto;\n",
       "            }\n",
       "            .progress-bar-interrupted, .progress-bar-interrupted::-webkit-progress-bar {\n",
       "                background: #F44336;\n",
       "            }\n",
       "        </style>\n",
       "      <progress value='97' class='' max='143' style='width:300px; height:20px; vertical-align: middle;'></progress>\n",
       "      67.83% [97/143 00:21<00:10 0.4566]\n",
       "    </div>\n",
       "    "
      ],
      "text/plain": [
       "<IPython.core.display.HTML object>"
      ]
     },
     "metadata": {},
     "output_type": "display_data"
    },
    {
     "name": "stderr",
     "output_type": "stream",
     "text": [
      "/usr/local/lib/python3.6/dist-packages/fastai2/callback/schedule.py:68: UserWarning: This overload of nonzero is deprecated:\n",
      "\tnonzero()\n",
      "Consider using one of the following signatures instead:\n",
      "\tnonzero(*, bool as_tuple) (Triggered internally at  /pytorch/torch/csrc/utils/python_arg_parser.cpp:766.)\n",
      "  idx = (pos >= pcts).nonzero().max()\n"
     ]
    }
   ],
   "source": [
    "learn.fit_one_cycle(10, lr_max=3e-3, cbs=WandbCallback(log_preds=False))\n",
    "learn.recorder.plot_loss()"
   ]
  },
  {
   "cell_type": "markdown",
   "metadata": {},
   "source": [
    "## Showing results"
   ]
  },
  {
   "cell_type": "markdown",
   "metadata": {},
   "source": [
    "### Results for random items in the validation set "
   ]
  },
  {
   "cell_type": "code",
   "execution_count": null,
   "metadata": {},
   "outputs": [],
   "source": [
    "learn.show_results(max_n=9, ylim=ylim)"
   ]
  },
  {
   "cell_type": "markdown",
   "metadata": {},
   "source": [
    "### Showing the confusion matrix"
   ]
  },
  {
   "cell_type": "code",
   "execution_count": null,
   "metadata": {},
   "outputs": [],
   "source": [
    "interp = ClassificationInterpretationAugmented.from_learner(learn)\n",
    "interp.plot_confusion_matrix(figsize=(10,8))"
   ]
  },
  {
   "cell_type": "markdown",
   "metadata": {},
   "source": [
    "### Smallest errors"
   ]
  },
  {
   "cell_type": "code",
   "execution_count": null,
   "metadata": {},
   "outputs": [],
   "source": [
    "interp.plot_top_losses(k=9, figsize=(15, 15), largest=False)"
   ]
  },
  {
   "cell_type": "markdown",
   "metadata": {},
   "source": [
    "### Largest errores"
   ]
  },
  {
   "cell_type": "code",
   "execution_count": null,
   "metadata": {},
   "outputs": [],
   "source": [
    "interp.plot_top_losses(k=15, figsize=(15, 15), nrows=5, largest=True, ylim=ylim)"
   ]
  },
  {
   "cell_type": "markdown",
   "metadata": {},
   "source": [
    "## Types of errors"
   ]
  },
  {
   "cell_type": "markdown",
   "metadata": {},
   "source": [
    "It is also interesting to display separately errors of different type. There are a number of `c*(c-1)` possible type of errors, where `c` is the number of classes in the data"
   ]
  },
  {
   "cell_type": "code",
   "execution_count": null,
   "metadata": {},
   "outputs": [],
   "source": [
    "print(interp.top_losses(k=3, largest=False, predicted='chaotic', actual='chaotic'))\n",
    "print(interp.top_losses(k=3, largest=False, predicted='rotational', actual='rotational'))\n",
    "print(interp.top_losses(k=3, largest=False, predicted='librational', actual='librational'))"
   ]
  },
  {
   "cell_type": "code",
   "execution_count": null,
   "metadata": {},
   "outputs": [],
   "source": [
    "predicted = 'chaotic'\n",
    "actual = 'chaotic'\n",
    "n_errors = interp.confusion_matrix()[interp.vocab.o2i[predicted], \n",
    "                                     interp.vocab.o2i[actual]]\n",
    "interp.plot_top_losses(k=min(n_errors, 9), figsize=(15, 15), \n",
    "                       largest=False, ylim=ylim, \n",
    "                       predicted=predicted, \n",
    "                       actual=actual)"
   ]
  },
  {
   "cell_type": "markdown",
   "metadata": {},
   "source": [
    "## Explaining the model predictions through class activation maps"
   ]
  },
  {
   "cell_type": "markdown",
   "metadata": {},
   "source": [
    "We will use the function `show_cam` from the library `timeseries` to plot the Class Activation Maps (CAMs)"
   ]
  },
  {
   "cell_type": "code",
   "execution_count": null,
   "metadata": {},
   "outputs": [],
   "source": [
    "?show_cam"
   ]
  },
  {
   "cell_type": "markdown",
   "metadata": {},
   "source": [
    "We need a function `i2o` that, given an encoded y, i.e, an instance of `TensorCategory`, return the label associated to that index, i.e., we need to decode the labels."
   ]
  },
  {
   "cell_type": "code",
   "execution_count": null,
   "metadata": {},
   "outputs": [],
   "source": [
    "def i2o(y):\n",
    "    return dls.tfms[1].decode(y)"
   ]
  },
  {
   "cell_type": "code",
   "execution_count": null,
   "metadata": {},
   "outputs": [],
   "source": [
    "print(i2o(TensorCategory(0)))\n",
    "print(i2o(TensorCategory(1)))\n",
    "print(i2o(TensorCategory(2)))"
   ]
  },
  {
   "cell_type": "markdown",
   "metadata": {},
   "source": [
    "## Inference on a new test set"
   ]
  },
  {
   "cell_type": "markdown",
   "metadata": {},
   "source": [
    "Now let's see how the trained behaves with a completely unseen set of data. First we have to load the Poincare maps that comprise the test set"
   ]
  },
  {
   "cell_type": "markdown",
   "metadata": {},
   "source": [
    "Compute the predicted labels using the library `fastinference`. It is faster than the original `fastai` implementation."
   ]
  },
  {
   "cell_type": "code",
   "execution_count": null,
   "metadata": {},
   "outputs": [],
   "source": [
    "#old_get_preds = learn.get_preds\n",
    "#from fastinference.inference import *"
   ]
  },
  {
   "cell_type": "code",
   "execution_count": null,
   "metadata": {},
   "outputs": [],
   "source": [
    "test_base_path = base_path/'data/eps=0.02_pert_pend_model_2'"
   ]
  },
  {
   "cell_type": "code",
   "execution_count": null,
   "metadata": {},
   "outputs": [],
   "source": [
    "fnames_test = (test_base_path/'Poincare200pt.plt', \n",
    "               test_base_path/'index200pt.plt')\n",
    "test_data = TSDataChaos.from_poincare_and_index_files(fnames_test)\n",
    "test_data"
   ]
  },
  {
   "cell_type": "code",
   "execution_count": null,
   "metadata": {},
   "outputs": [],
   "source": [
    "if not wandb.config.add_uncertainty_class:\n",
    "    test_data.x = test_data.x[test_data.y != -1]\n",
    "    test_data.y = test_data.y[test_data.y != -1]\n",
    "test_data"
   ]
  },
  {
   "cell_type": "markdown",
   "metadata": {},
   "source": [
    "Create a dataloader from the test items previously loaded. This will apply all the transformations used in our training and validation set (e.g. normalization) to the test data"
   ]
  },
  {
   "cell_type": "code",
   "execution_count": null,
   "metadata": {},
   "outputs": [],
   "source": [
    "test_dl = learn.dls.test_dl(test_data.get_items(), with_labels=True)\n",
    "test_dl.n"
   ]
  },
  {
   "cell_type": "code",
   "execution_count": null,
   "metadata": {},
   "outputs": [],
   "source": [
    "preds, targs, preds_decoded = learn.get_preds(dl=test_dl, with_decoded=True)\n",
    "preds.__len__()"
   ]
  },
  {
   "cell_type": "markdown",
   "metadata": {},
   "source": [
    "Compute metrics (validation loss and accuracy) on the test set."
   ]
  },
  {
   "cell_type": "code",
   "execution_count": null,
   "metadata": {},
   "outputs": [],
   "source": [
    "test_metrics = learn.validate(dl=test_dl)\n",
    "test_metrics"
   ]
  },
  {
   "cell_type": "markdown",
   "metadata": {},
   "source": [
    "Show also trhe confusion matrix for this test set"
   ]
  },
  {
   "cell_type": "code",
   "execution_count": null,
   "metadata": {},
   "outputs": [],
   "source": [
    "# learn.get_preds = old_get_preds\n",
    "interp_test = ClassificationInterpretationAugmented.from_learner(learn, \n",
    "                                                                 dl=test_dl)"
   ]
  },
  {
   "cell_type": "code",
   "execution_count": null,
   "metadata": {},
   "outputs": [],
   "source": [
    "interp_test.plot_confusion_matrix(\n",
    "    title=f'Confusion matrix (accuracy={round(test_metrics[1], 2)})',\n",
    ")\n",
    "plt.savefig(test_base_path/f'confusion_matrix_{test_base_path.name}.png')"
   ]
  },
  {
   "cell_type": "markdown",
   "metadata": {},
   "source": [
    "Show the FLI plot to get a sense of the quality of the predictions"
   ]
  },
  {
   "cell_type": "code",
   "execution_count": null,
   "metadata": {},
   "outputs": [],
   "source": [
    "ml_map = show_fli_plot(test_data.x, \n",
    "                    [dls.tfms[1].decode(y) for y in preds_decoded], \n",
    "                    legend=None,\n",
    "                    palette=dict(\n",
    "                        chaotic='yellow', \n",
    "                        librational='blue', \n",
    "                        rotational='magenta'))"
   ]
  },
  {
   "cell_type": "code",
   "execution_count": null,
   "metadata": {},
   "outputs": [],
   "source": [
    "ml_map.figure.savefig(test_base_path/f'ml_map_{test_base_path.name}.eps', \n",
    "                      transparent=True, format='.eps')"
   ]
  },
  {
   "cell_type": "markdown",
   "metadata": {},
   "source": [
    "Now show the same plot for the true labels given by the FLI-based classification"
   ]
  },
  {
   "cell_type": "code",
   "execution_count": null,
   "metadata": {},
   "outputs": [],
   "source": [
    "true_map = show_fli_plot(test_data.x, \n",
    "                    [dls.tfms[1].decode(y) for y in targs], \n",
    "                    legend=None,\n",
    "                    palette=dict(\n",
    "                        chaotic='yellow', \n",
    "                        librational='blue', \n",
    "                        rotational='magenta'))"
   ]
  },
  {
   "cell_type": "code",
   "execution_count": null,
   "metadata": {},
   "outputs": [],
   "source": [
    "true_map.figure.savefig(test_base_path/f'true_map_{test_base_path.name}.eps', \n",
    "                        transparent=True, format='.eps')"
   ]
  }
 ],
 "metadata": {
  "kernelspec": {
   "display_name": "Python 3",
   "language": "python",
   "name": "python3"
  }
 },
 "nbformat": 4,
 "nbformat_minor": 4
}
